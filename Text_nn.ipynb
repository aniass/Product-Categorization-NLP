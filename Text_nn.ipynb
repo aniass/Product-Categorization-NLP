{
 "cells": [
  {
   "cell_type": "markdown",
   "metadata": {
    "id": "VyBoRfFt1OFE"
   },
   "source": [
    "# Product Categorization\n",
    "\n",
    "## Part 5: Multi-Class Text Classification of products by using Neural Networks\n",
    "\n",
    "The project concerns product categorization (multi-class text classification) based on their description. In this case I have used Neural Network and Convolutional Neural Network to get more accurate predictions. To calculated I have used python and Keras, TensorFlow frameworks.\n",
    "\n",
    "### Dataset\n",
    "\n",
    "The dataset comes from http://makeup-api.herokuapp.com/ and has been obtained by an API.\n",
    "\n",
    "The dataset contains the real descriptions about makeup products. Each description has been labeled with a specific product, therefore, this is a supervised text classification problem. \n",
    "\n",
    "Attributes:\n",
    "\n",
    "- product_type - category of makeup product.\n",
    "- description - description of makeup product."
   ]
  },
  {
   "cell_type": "markdown",
   "metadata": {},
   "source": [
    "## Import libriaries and data"
   ]
  },
  {
   "cell_type": "code",
   "execution_count": null,
   "metadata": {
    "id": "KfS8veRQ3_qg"
   },
   "outputs": [],
   "source": [
    "import numpy as np\n",
    "import pandas as pd\n",
    "import matplotlib.pyplot as plt\n",
    "%matplotlib inline\n",
    "\n",
    "from sklearn.model_selection import train_test_split\n",
    "from sklearn.preprocessing import LabelBinarizer, LabelEncoder\n",
    "from sklearn.metrics import confusion_matrix\n",
    "\n",
    "import tensorflow as tf\n",
    "from tensorflow import keras\n",
    "from keras.models import Sequential\n",
    "from keras.layers import Dense, Flatten, Activation, Dropout, GlobalMaxPool1D, Conv1D\n",
    "from keras.layers.embeddings import Embedding\n",
    "from keras.preprocessing import text, sequence\n",
    "from keras.preprocessing.text import Tokenizer\n",
    "from keras.preprocessing.sequence import pad_sequences\n",
    "from keras import utils"
   ]
  },
  {
   "cell_type": "code",
   "execution_count": null,
   "metadata": {
    "colab": {
     "base_uri": "https://localhost:8080/",
     "height": 204
    },
    "id": "FgbjCnBU80JM",
    "outputId": "909a18ea-d915-4486-87a5-ad02301f92fd"
   },
   "outputs": [
    {
     "data": {
      "text/html": [
       "<div>\n",
       "<style scoped>\n",
       "    .dataframe tbody tr th:only-of-type {\n",
       "        vertical-align: middle;\n",
       "    }\n",
       "\n",
       "    .dataframe tbody tr th {\n",
       "        vertical-align: top;\n",
       "    }\n",
       "\n",
       "    .dataframe thead th {\n",
       "        text-align: right;\n",
       "    }\n",
       "</style>\n",
       "<table border=\"1\" class=\"dataframe\">\n",
       "  <thead>\n",
       "    <tr style=\"text-align: right;\">\n",
       "      <th></th>\n",
       "      <th>product_type</th>\n",
       "      <th>description</th>\n",
       "    </tr>\n",
       "  </thead>\n",
       "  <tbody>\n",
       "    <tr>\n",
       "      <th>0</th>\n",
       "      <td>lipstic</td>\n",
       "      <td>lippie pencil long wearing high intensity lip ...</td>\n",
       "    </tr>\n",
       "    <tr>\n",
       "      <th>1</th>\n",
       "      <td>lipstic</td>\n",
       "      <td>blotted lip sheer matte lipstick creates perfe...</td>\n",
       "    </tr>\n",
       "    <tr>\n",
       "      <th>2</th>\n",
       "      <td>lipstic</td>\n",
       "      <td>lippie stix formula contains vitamin e mango a...</td>\n",
       "    </tr>\n",
       "    <tr>\n",
       "      <th>3</th>\n",
       "      <td>foundation</td>\n",
       "      <td>developed selfie age buildable full coverage n...</td>\n",
       "    </tr>\n",
       "    <tr>\n",
       "      <th>4</th>\n",
       "      <td>lipstic</td>\n",
       "      <td>product free lead heavy metal parabens phthala...</td>\n",
       "    </tr>\n",
       "  </tbody>\n",
       "</table>\n",
       "</div>"
      ],
      "text/plain": [
       "  product_type                                        description\n",
       "0      lipstic  lippie pencil long wearing high intensity lip ...\n",
       "1      lipstic  blotted lip sheer matte lipstick creates perfe...\n",
       "2      lipstic  lippie stix formula contains vitamin e mango a...\n",
       "3   foundation  developed selfie age buildable full coverage n...\n",
       "4      lipstic  product free lead heavy metal parabens phthala..."
      ]
     },
     "execution_count": 3,
     "metadata": {
      "tags": []
     },
     "output_type": "execute_result"
    }
   ],
   "source": [
    "df = pd.read_csv('data\\products_clean.csv', header=0,index_col=0)\n",
    "df.head()"
   ]
  },
  {
   "cell_type": "markdown",
   "metadata": {},
   "source": [
    "Shape of data:"
   ]
  },
  {
   "cell_type": "code",
   "execution_count": null,
   "metadata": {
    "colab": {
     "base_uri": "https://localhost:8080/",
     "height": 34
    },
    "id": "dzNQio4V80EN",
    "outputId": "f6ce7ddc-fdde-4767-fc0a-0c77f9474fc7"
   },
   "outputs": [
    {
     "data": {
      "text/plain": [
       "(906, 2)"
      ]
     },
     "execution_count": 4,
     "metadata": {
      "tags": []
     },
     "output_type": "execute_result"
    }
   ],
   "source": [
    "df.shape"
   ]
  },
  {
   "cell_type": "markdown",
   "metadata": {
    "id": "W9rKGKpSBiZh"
   },
   "source": [
    "## Data preparation\n",
    "\n",
    "Spliting the data into train and test sets:"
   ]
  },
  {
   "cell_type": "code",
   "execution_count": null,
   "metadata": {
    "id": "IkHqZeEH8z90"
   },
   "outputs": [],
   "source": [
    "sentences = df['description']\n",
    "y = df['product_type']\n",
    "\n",
    "sentences_train, sentences_test, train_y, test_y = train_test_split(sentences, y, test_size=0.25, random_state=42)"
   ]
  },
  {
   "cell_type": "markdown",
   "metadata": {
    "id": "3QAGoEuMFzdb"
   },
   "source": [
    "#### Word Embeddings\n",
    "\n",
    "Word Embedding is a representation of text where words that have the same meaning have a similar representation. It shows words in a coordinate system where related words, based on a corpus of relationships, are placed closer together. In the deep learning frameworks such as  Keras, this part is generally handled by an embedding layer."
   ]
  },
  {
   "cell_type": "code",
   "execution_count": null,
   "metadata": {
    "colab": {
     "base_uri": "https://localhost:8080/",
     "height": 51
    },
    "id": "gKMCfclv8z3D",
    "outputId": "95bb57c8-0b98-455d-928e-3d3f7a372a19"
   },
   "outputs": [
    {
     "name": "stdout",
     "output_type": "stream",
     "text": [
      "lippie stix formula contains vitamin e mango avocado shea butter added comfort moisture none lippie formula contain nasty ingredient like parabens sulfate\n",
      "[55, 358, 162, 810, 22, 121, 117, 500, 22, 198, 265, 4, 194, 14, 272, 321, 698, 218, 214, 596, 402, 597, 84, 93, 632, 288, 296, 237, 413]\n"
     ]
    }
   ],
   "source": [
    "tokenize = Tokenizer(num_words=1000)\n",
    "tokenize.fit_on_texts(sentences_train)\n",
    "\n",
    "X_train = tokenize.texts_to_sequences(sentences_train)\n",
    "X_test = tokenize.texts_to_sequences(sentences_test)\n",
    "\n",
    "vocab_size = len(tokenize.word_index) + 1  \n",
    "\n",
    "print(sentences_train[2])\n",
    "print(X_train[2])"
   ]
  },
  {
   "cell_type": "code",
   "execution_count": null,
   "metadata": {
    "colab": {
     "base_uri": "https://localhost:8080/",
     "height": 119
    },
    "id": "GZKPGXLlCADP",
    "outputId": "e399dc65-8fa4-4d00-a647-6de88fadffac"
   },
   "outputs": [
    {
     "name": "stdout",
     "output_type": "stream",
     "text": [
      "[148 278  22   0   0   0   0   0   0   0   0   0   0   0   0   0   0   0\n",
      "   0   0   0   0   0   0   0   0   0   0   0   0   0   0   0   0   0   0\n",
      "   0   0   0   0   0   0   0   0   0   0   0   0   0   0   0   0   0   0\n",
      "   0   0   0   0   0   0   0   0   0   0   0   0   0   0   0   0   0   0\n",
      "   0   0   0   0   0   0   0   0   0   0   0   0   0   0   0   0   0   0\n",
      "   0   0   0   0   0   0   0   0   0   0]\n"
     ]
    }
   ],
   "source": [
    "maxlen = 100\n",
    "\n",
    "X_train = pad_sequences(X_train, padding='post', maxlen=maxlen)\n",
    "X_test = pad_sequences(X_test, padding='post', maxlen=maxlen)\n",
    "\n",
    "print(X_train[0, :])"
   ]
  },
  {
   "cell_type": "code",
   "execution_count": null,
   "metadata": {
    "id": "GhK21EV2I9VQ"
   },
   "outputs": [],
   "source": [
    "encoder = LabelEncoder()\n",
    "encoder.fit(train_y)\n",
    "y_train = encoder.transform(train_y)\n",
    "y_test = encoder.transform(test_y)\n",
    "\n",
    "num_classes = np.max(y_train) + 1\n",
    "y_train = utils.to_categorical(y_train, num_classes)\n",
    "y_test = utils.to_categorical(y_test, num_classes)"
   ]
  },
  {
   "cell_type": "markdown",
   "metadata": {
    "id": "QKAWaiZuHjm6"
   },
   "source": [
    "## Build model\n",
    "\n",
    "### Building the neural network model\n",
    "\n",
    "In this step I built and trained a several models to choose best of them. First of them is a simple neural network model.\n",
    "\n",
    "#### Model 1"
   ]
  },
  {
   "cell_type": "code",
   "execution_count": null,
   "metadata": {
    "colab": {
     "base_uri": "https://localhost:8080/",
     "height": 289
    },
    "id": "Kcaj0Pp2CANk",
    "outputId": "caa48c5c-cee5-48cc-f0b8-f079c9130b6b"
   },
   "outputs": [
    {
     "name": "stdout",
     "output_type": "stream",
     "text": [
      "Model: \"sequential_8\"\n",
      "_________________________________________________________________\n",
      "Layer (type)                 Output Shape              Param #   \n",
      "=================================================================\n",
      "embedding_8 (Embedding)      (None, 100, 16)           72304     \n",
      "_________________________________________________________________\n",
      "flatten_5 (Flatten)          (None, 1600)              0         \n",
      "_________________________________________________________________\n",
      "dense_16 (Dense)             (None, 16)                25616     \n",
      "_________________________________________________________________\n",
      "dense_17 (Dense)             (None, 5)                 85        \n",
      "=================================================================\n",
      "Total params: 98,005\n",
      "Trainable params: 98,005\n",
      "Non-trainable params: 0\n",
      "_________________________________________________________________\n"
     ]
    }
   ],
   "source": [
    "embedding_dim = 16\n",
    "\n",
    "model = Sequential()\n",
    "model.add(Embedding(input_dim=vocab_size, output_dim=embedding_dim, input_length=maxlen))\n",
    "model.add(Flatten())\n",
    "model.add(Dense(16, activation='relu'))\n",
    "model.add(Dense(5, activation='softmax'))\n",
    "\n",
    "model.compile(optimizer='adam',\n",
    "              loss='categorical_crossentropy',\n",
    "              metrics=['accuracy'])\n",
    "model.summary()\n"
   ]
  },
  {
   "cell_type": "code",
   "execution_count": null,
   "metadata": {
    "colab": {
     "base_uri": "https://localhost:8080/",
     "height": 533
    },
    "id": "yXEsYFuNYnJT",
    "outputId": "ae9cd484-699e-42f0-b9d0-5cb595a32700"
   },
   "outputs": [
    {
     "data": {
      "image/png": "[encoded data removed]",
      "text/plain": [
       "<IPython.core.display.Image object>"
      ]
     },
     "execution_count": 10,
     "metadata": {
      "tags": []
     },
     "output_type": "execute_result"
    }
   ],
   "source": [
    "from keras.utils import plot_model\n",
    "plot_model(model, to_file='model_1.png', show_shapes=True, show_layer_names=True)"
   ]
  },
  {
   "cell_type": "markdown",
   "metadata": {},
   "source": [
    "Training the model for 15 epoch:"
   ]
  },
  {
   "cell_type": "code",
   "execution_count": null,
   "metadata": {
    "colab": {
     "base_uri": "https://localhost:8080/",
     "height": 527
    },
    "id": "roe26IFLCAJk",
    "outputId": "7400fe18-5b23-4db0-c2e3-353beaa25fb8"
   },
   "outputs": [
    {
     "name": "stdout",
     "output_type": "stream",
     "text": [
      "Epoch 1/15\n",
      "22/22 [==============================] - 0s 9ms/step - loss: 1.5763 - accuracy: 0.3682 - val_loss: 1.5269 - val_accuracy: 0.4493\n",
      "Epoch 2/15\n",
      "22/22 [==============================] - 0s 3ms/step - loss: 1.5031 - accuracy: 0.4330 - val_loss: 1.4760 - val_accuracy: 0.4714\n",
      "Epoch 3/15\n",
      "22/22 [==============================] - 0s 3ms/step - loss: 1.4186 - accuracy: 0.4801 - val_loss: 1.3770 - val_accuracy: 0.4758\n",
      "Epoch 4/15\n",
      "22/22 [==============================] - 0s 4ms/step - loss: 1.2379 - accuracy: 0.5950 - val_loss: 1.1745 - val_accuracy: 0.5374\n",
      "Epoch 5/15\n",
      "22/22 [==============================] - 0s 4ms/step - loss: 0.9722 - accuracy: 0.7776 - val_loss: 0.9377 - val_accuracy: 0.7313\n",
      "Epoch 6/15\n",
      "22/22 [==============================] - 0s 3ms/step - loss: 0.7018 - accuracy: 0.8645 - val_loss: 0.7600 - val_accuracy: 0.8062\n",
      "Epoch 7/15\n",
      "22/22 [==============================] - 0s 4ms/step - loss: 0.4906 - accuracy: 0.9219 - val_loss: 0.6122 - val_accuracy: 0.8634\n",
      "Epoch 8/15\n",
      "22/22 [==============================] - 0s 4ms/step - loss: 0.3475 - accuracy: 0.9485 - val_loss: 0.5245 - val_accuracy: 0.8678\n",
      "Epoch 9/15\n",
      "22/22 [==============================] - 0s 3ms/step - loss: 0.2488 - accuracy: 0.9691 - val_loss: 0.4664 - val_accuracy: 0.8899\n",
      "Epoch 10/15\n",
      "22/22 [==============================] - 0s 3ms/step - loss: 0.1884 - accuracy: 0.9764 - val_loss: 0.4194 - val_accuracy: 0.8855\n",
      "Epoch 11/15\n",
      "22/22 [==============================] - 0s 3ms/step - loss: 0.1422 - accuracy: 0.9794 - val_loss: 0.3939 - val_accuracy: 0.8987\n",
      "Epoch 12/15\n",
      "22/22 [==============================] - 0s 3ms/step - loss: 0.1096 - accuracy: 0.9867 - val_loss: 0.3656 - val_accuracy: 0.9119\n",
      "Epoch 13/15\n",
      "22/22 [==============================] - 0s 3ms/step - loss: 0.0870 - accuracy: 0.9882 - val_loss: 0.3575 - val_accuracy: 0.9031\n",
      "Epoch 14/15\n",
      "22/22 [==============================] - 0s 3ms/step - loss: 0.0698 - accuracy: 0.9971 - val_loss: 0.3471 - val_accuracy: 0.9075\n",
      "Epoch 15/15\n",
      "22/22 [==============================] - 0s 4ms/step - loss: 0.0570 - accuracy: 0.9985 - val_loss: 0.3275 - val_accuracy: 0.9075\n"
     ]
    }
   ],
   "source": [
    "history = model.fit(X_train, y_train,\n",
    "                    batch_size=32,\n",
    "                    epochs=15,\n",
    "                    validation_data=(X_test, y_test))"
   ]
  },
  {
   "cell_type": "markdown",
   "metadata": {},
   "source": [
    "Predictions:"
   ]
  },
  {
   "cell_type": "code",
   "execution_count": null,
   "metadata": {
    "colab": {
     "base_uri": "https://localhost:8080/",
     "height": 51
    },
    "id": "Vf2choBvCAIA",
    "outputId": "85c5b7d9-9c70-43d6-b883-831da8350195"
   },
   "outputs": [
    {
     "name": "stdout",
     "output_type": "stream",
     "text": [
      "Training Accuracy: 0.9985\n",
      "Testing Accuracy:  0.9075\n"
     ]
    }
   ],
   "source": [
    "loss, accuracy = model.evaluate(X_train, y_train, verbose=False)\n",
    "print(\"Training Accuracy: {:.4f}\".format(accuracy))\n",
    "loss, accuracy = model.evaluate(X_test, y_test, verbose=False)\n",
    "print(\"Testing Accuracy:  {:.4f}\".format(accuracy))"
   ]
  },
  {
   "cell_type": "markdown",
   "metadata": {},
   "source": [
    "Visualization of training:"
   ]
  },
  {
   "cell_type": "code",
   "execution_count": null,
   "metadata": {
    "colab": {
     "base_uri": "https://localhost:8080/",
     "height": 541
    },
    "id": "EG835YuIB__f",
    "outputId": "636b562b-338c-4ccc-d175-d3020183af8b"
   },
   "outputs": [
    {
     "data": {
      "image/png": "[encoded data removed]",
      "text/plain": [
       "<Figure size 432x288 with 1 Axes>"
      ]
     },
     "metadata": {
      "needs_background": "light",
      "tags": []
     },
     "output_type": "display_data"
    },
    {
     "data": {
      "image/png": "[encoded data removed]",
      "text/plain": [
       "<Figure size 432x288 with 1 Axes>"
      ]
     },
     "metadata": {
      "needs_background": "light",
      "tags": []
     },
     "output_type": "display_data"
    }
   ],
   "source": [
    "def plot_graphs(history, string):\n",
    "    plt.plot(history.history[string])\n",
    "    plt.plot(history.history['val_'+string])\n",
    "    plt.xlabel(\"Epochs\")\n",
    "    plt.ylabel(string)\n",
    "    plt.legend([string, 'val_'+string])\n",
    "    plt.show()\n",
    "\n",
    "plot_graphs(history, \"accuracy\")\n",
    "plot_graphs(history, \"loss\")"
   ]
  },
  {
   "cell_type": "markdown",
   "metadata": {
    "id": "eBlERERxQx3D"
   },
   "source": [
    "At the end of the training one can see that there is a little bit of overfitting. \n",
    " \n",
    "#### Model 2\n",
    "In the second model I added dropout layers as a method of regularization."
   ]
  },
  {
   "cell_type": "code",
   "execution_count": null,
   "metadata": {
    "colab": {
     "base_uri": "https://localhost:8080/",
     "height": 323
    },
    "id": "jfDsrM1uNkXF",
    "outputId": "68eb05b2-d20d-4175-be9f-dac2da555cd4"
   },
   "outputs": [
    {
     "name": "stdout",
     "output_type": "stream",
     "text": [
      "Model: \"sequential_7\"\n",
      "_________________________________________________________________\n",
      "Layer (type)                 Output Shape              Param #   \n",
      "=================================================================\n",
      "embedding_7 (Embedding)      (None, 100, 16)           72304     \n",
      "_________________________________________________________________\n",
      "flatten_4 (Flatten)          (None, 1600)              0         \n",
      "_________________________________________________________________\n",
      "dense_14 (Dense)             (None, 16)                25616     \n",
      "_________________________________________________________________\n",
      "dropout_2 (Dropout)          (None, 16)                0         \n",
      "_________________________________________________________________\n",
      "dense_15 (Dense)             (None, 5)                 85        \n",
      "=================================================================\n",
      "Total params: 98,005\n",
      "Trainable params: 98,005\n",
      "Non-trainable params: 0\n",
      "_________________________________________________________________\n"
     ]
    }
   ],
   "source": [
    "model2 = Sequential()\n",
    "model2.add(Embedding(input_dim=vocab_size, output_dim=embedding_dim, input_length=maxlen))\n",
    "model2.add(Flatten())\n",
    "model2.add(Dense(16, activation='relu'))\n",
    "model2.add(Dropout(0.5))\n",
    "model2.add(Dense(5, activation='softmax'))\n",
    "\n",
    "model2.compile(optimizer='adam',\n",
    "              loss='categorical_crossentropy',\n",
    "              metrics=['accuracy'])\n",
    "model2.summary()"
   ]
  },
  {
   "cell_type": "markdown",
   "metadata": {},
   "source": [
    "Training the model for 15 epoch:"
   ]
  },
  {
   "cell_type": "code",
   "execution_count": null,
   "metadata": {
    "colab": {
     "base_uri": "https://localhost:8080/",
     "height": 527
    },
    "id": "ZTgUrOswNkK5",
    "outputId": "5312da97-a1e3-4cd0-fd16-ca596b398f8f"
   },
   "outputs": [
    {
     "name": "stdout",
     "output_type": "stream",
     "text": [
      "Epoch 1/15\n",
      "22/22 [==============================] - 0s 9ms/step - loss: 1.5486 - accuracy: 0.3402 - val_loss: 1.4551 - val_accuracy: 0.4537\n",
      "Epoch 2/15\n",
      "22/22 [==============================] - 0s 4ms/step - loss: 1.5176 - accuracy: 0.3844 - val_loss: 1.4576 - val_accuracy: 0.4714\n",
      "Epoch 3/15\n",
      "22/22 [==============================] - 0s 3ms/step - loss: 1.4749 - accuracy: 0.4183 - val_loss: 1.4237 - val_accuracy: 0.4714\n",
      "Epoch 4/15\n",
      "22/22 [==============================] - 0s 4ms/step - loss: 1.4271 - accuracy: 0.4286 - val_loss: 1.3738 - val_accuracy: 0.4758\n",
      "Epoch 5/15\n",
      "22/22 [==============================] - 0s 3ms/step - loss: 1.3298 - accuracy: 0.4507 - val_loss: 1.2525 - val_accuracy: 0.5066\n",
      "Epoch 6/15\n",
      "22/22 [==============================] - 0s 4ms/step - loss: 1.2114 - accuracy: 0.5243 - val_loss: 1.0843 - val_accuracy: 0.6079\n",
      "Epoch 7/15\n",
      "22/22 [==============================] - 0s 3ms/step - loss: 1.0125 - accuracy: 0.6200 - val_loss: 0.9304 - val_accuracy: 0.7753\n",
      "Epoch 8/15\n",
      "22/22 [==============================] - 0s 3ms/step - loss: 0.8312 - accuracy: 0.7054 - val_loss: 0.7748 - val_accuracy: 0.7753\n",
      "Epoch 9/15\n",
      "22/22 [==============================] - 0s 4ms/step - loss: 0.7146 - accuracy: 0.7673 - val_loss: 0.6667 - val_accuracy: 0.8018\n",
      "Epoch 10/15\n",
      "22/22 [==============================] - 0s 4ms/step - loss: 0.6193 - accuracy: 0.7673 - val_loss: 0.5990 - val_accuracy: 0.8282\n",
      "Epoch 11/15\n",
      "22/22 [==============================] - 0s 4ms/step - loss: 0.5493 - accuracy: 0.7938 - val_loss: 0.5476 - val_accuracy: 0.8282\n",
      "Epoch 12/15\n",
      "22/22 [==============================] - 0s 4ms/step - loss: 0.4558 - accuracy: 0.8351 - val_loss: 0.5009 - val_accuracy: 0.8458\n",
      "Epoch 13/15\n",
      "22/22 [==============================] - 0s 4ms/step - loss: 0.4299 - accuracy: 0.8365 - val_loss: 0.4665 - val_accuracy: 0.8458\n",
      "Epoch 14/15\n",
      "22/22 [==============================] - 0s 3ms/step - loss: 0.3762 - accuracy: 0.8748 - val_loss: 0.4486 - val_accuracy: 0.8590\n",
      "Epoch 15/15\n",
      "22/22 [==============================] - 0s 4ms/step - loss: 0.3693 - accuracy: 0.8439 - val_loss: 0.4249 - val_accuracy: 0.8678\n"
     ]
    }
   ],
   "source": [
    "history_two = model2.fit(X_train, y_train,\n",
    "                        batch_size=32,\n",
    "                        epochs=15,\n",
    "                        validation_data=(X_test, y_test))"
   ]
  },
  {
   "cell_type": "markdown",
   "metadata": {},
   "source": [
    "Predictions:"
   ]
  },
  {
   "cell_type": "code",
   "execution_count": null,
   "metadata": {
    "colab": {
     "base_uri": "https://localhost:8080/",
     "height": 51
    },
    "id": "AZyc27y8HPFR",
    "outputId": "c26c18a9-1401-4669-d2dd-4da5cb4a0c2b"
   },
   "outputs": [
    {
     "name": "stdout",
     "output_type": "stream",
     "text": [
      "Training Accuracy: 0.9941\n",
      "Testing Accuracy:  0.8678\n"
     ]
    }
   ],
   "source": [
    "loss, accuracy = model2.evaluate(X_train, y_train, verbose=False)\n",
    "print(\"Training Accuracy: {:.4f}\".format(accuracy))\n",
    "loss, accuracy = model2.evaluate(X_test, y_test, verbose=False)\n",
    "print(\"Testing Accuracy:  {:.4f}\".format(accuracy))"
   ]
  },
  {
   "cell_type": "markdown",
   "metadata": {},
   "source": [
    "Visualization of training:"
   ]
  },
  {
   "cell_type": "code",
   "execution_count": null,
   "metadata": {
    "colab": {
     "base_uri": "https://localhost:8080/",
     "height": 548
    },
    "id": "rh4E6tJFHPDj",
    "outputId": "689efc61-27b2-42b3-f8f3-fdb19a8a8a14"
   },
   "outputs": [
    {
     "data": {
      "image/png": "[encoded data removed]",
      "text/plain": [
       "<Figure size 432x288 with 1 Axes>"
      ]
     },
     "metadata": {
      "needs_background": "light",
      "tags": []
     },
     "output_type": "display_data"
    },
    {
     "data": {
      "image/png": "[encoded data removed]",
      "text/plain": [
       "<Figure size 432x288 with 1 Axes>"
      ]
     },
     "metadata": {
      "needs_background": "light",
      "tags": []
     },
     "output_type": "display_data"
    }
   ],
   "source": [
    "plot_graphs(history_two, \"accuracy\")\n",
    "plot_graphs(history_two, \"loss\")"
   ]
  },
  {
   "cell_type": "markdown",
   "metadata": {
    "id": "QehmKOWISfPM"
   },
   "source": [
    "#### Model 3\n",
    "Another way to work with embeddings is using a MaxPooling1D/AveragePooling1D or a GlobalMaxPooling1D/GlobalAveragePooling1D layer after the embedding. \n",
    "\n",
    "In this step I have used GlobalMaxPooling1D and add it to the sequential model:"
   ]
  },
  {
   "cell_type": "code",
   "execution_count": null,
   "metadata": {
    "colab": {
     "base_uri": "https://localhost:8080/",
     "height": 289
    },
    "id": "odWssW7shNFH",
    "outputId": "dd4de5dd-14a4-4814-ed2e-f847031c4bab"
   },
   "outputs": [
    {
     "name": "stdout",
     "output_type": "stream",
     "text": [
      "Model: \"sequential_1\"\n",
      "_________________________________________________________________\n",
      "Layer (type)                 Output Shape              Param #   \n",
      "=================================================================\n",
      "embedding_1 (Embedding)      (None, 100, 50)           225950    \n",
      "_________________________________________________________________\n",
      "global_max_pooling1d (Global (None, 50)                0         \n",
      "_________________________________________________________________\n",
      "dense_2 (Dense)              (None, 16)                816       \n",
      "_________________________________________________________________\n",
      "dense_3 (Dense)              (None, 5)                 85        \n",
      "=================================================================\n",
      "Total params: 226,851\n",
      "Trainable params: 226,851\n",
      "Non-trainable params: 0\n",
      "_________________________________________________________________\n"
     ]
    }
   ],
   "source": [
    "embedding_dim = 50\n",
    "\n",
    "model3 = Sequential()\n",
    "model3.add(Embedding(input_dim=vocab_size, output_dim=embedding_dim, input_length=maxlen))\n",
    "model3.add(GlobalMaxPool1D())\n",
    "model3.add(Dense(16, activation='relu'))\n",
    "model3.add(Dense(5, activation='softmax'))\n",
    "\n",
    "model3.compile(optimizer='adam',\n",
    "               loss='categorical_crossentropy',\n",
    "               metrics=['accuracy'])\n",
    "\n",
    "model3.summary()"
   ]
  },
  {
   "cell_type": "markdown",
   "metadata": {},
   "source": [
    "Training for 15 epoch:"
   ]
  },
  {
   "cell_type": "code",
   "execution_count": null,
   "metadata": {
    "colab": {
     "base_uri": "https://localhost:8080/",
     "height": 527
    },
    "id": "4odNmbvthM6z",
    "outputId": "863c26a8-1cb5-4f17-8589-66c3062d7432"
   },
   "outputs": [
    {
     "name": "stdout",
     "output_type": "stream",
     "text": [
      "Epoch 1/15\n",
      "22/22 [==============================] - 0s 12ms/step - loss: 1.5949 - accuracy: 0.2091 - val_loss: 1.5811 - val_accuracy: 0.1806\n",
      "Epoch 2/15\n",
      "22/22 [==============================] - 0s 7ms/step - loss: 1.5638 - accuracy: 0.3726 - val_loss: 1.5460 - val_accuracy: 0.4890\n",
      "Epoch 3/15\n",
      "22/22 [==============================] - 0s 6ms/step - loss: 1.5192 - accuracy: 0.5700 - val_loss: 1.4922 - val_accuracy: 0.6167\n",
      "Epoch 4/15\n",
      "22/22 [==============================] - 0s 6ms/step - loss: 1.4554 - accuracy: 0.6009 - val_loss: 1.4153 - val_accuracy: 0.5991\n",
      "Epoch 5/15\n",
      "22/22 [==============================] - 0s 6ms/step - loss: 1.3650 - accuracy: 0.6082 - val_loss: 1.3129 - val_accuracy: 0.6344\n",
      "Epoch 6/15\n",
      "22/22 [==============================] - 0s 6ms/step - loss: 1.2474 - accuracy: 0.6627 - val_loss: 1.1749 - val_accuracy: 0.7533\n",
      "Epoch 7/15\n",
      "22/22 [==============================] - 0s 6ms/step - loss: 1.0934 - accuracy: 0.7644 - val_loss: 1.0047 - val_accuracy: 0.8106\n",
      "Epoch 8/15\n",
      "22/22 [==============================] - 0s 6ms/step - loss: 0.9255 - accuracy: 0.8189 - val_loss: 0.8532 - val_accuracy: 0.8458\n",
      "Epoch 9/15\n",
      "22/22 [==============================] - 0s 6ms/step - loss: 0.7676 - accuracy: 0.8439 - val_loss: 0.7199 - val_accuracy: 0.8634\n",
      "Epoch 10/15\n",
      "22/22 [==============================] - 0s 6ms/step - loss: 0.6398 - accuracy: 0.8748 - val_loss: 0.6217 - val_accuracy: 0.8634\n",
      "Epoch 11/15\n",
      "22/22 [==============================] - 0s 6ms/step - loss: 0.5389 - accuracy: 0.8910 - val_loss: 0.5474 - val_accuracy: 0.8678\n",
      "Epoch 12/15\n",
      "22/22 [==============================] - 0s 6ms/step - loss: 0.4588 - accuracy: 0.8969 - val_loss: 0.4902 - val_accuracy: 0.8811\n",
      "Epoch 13/15\n",
      "22/22 [==============================] - 0s 6ms/step - loss: 0.3931 - accuracy: 0.9411 - val_loss: 0.4432 - val_accuracy: 0.8987\n",
      "Epoch 14/15\n",
      "22/22 [==============================] - 0s 6ms/step - loss: 0.3358 - accuracy: 0.9573 - val_loss: 0.4039 - val_accuracy: 0.8987\n",
      "Epoch 15/15\n",
      "22/22 [==============================] - 0s 6ms/step - loss: 0.2889 - accuracy: 0.9632 - val_loss: 0.3737 - val_accuracy: 0.9163\n"
     ]
    }
   ],
   "source": [
    "history_3 = model3.fit(X_train, y_train,\n",
    "                       batch_size=32,\n",
    "                       epochs=15,\n",
    "                       validation_data=(X_test, y_test))"
   ]
  },
  {
   "cell_type": "markdown",
   "metadata": {},
   "source": [
    "Predictions:"
   ]
  },
  {
   "cell_type": "code",
   "execution_count": null,
   "metadata": {
    "colab": {
     "base_uri": "https://localhost:8080/",
     "height": 51
    },
    "id": "k5rwoZO6h5UW",
    "outputId": "abeb7f17-2fec-46bb-ded1-8d7cb67dca34"
   },
   "outputs": [
    {
     "name": "stdout",
     "output_type": "stream",
     "text": [
      "Training Accuracy: 0.9735\n",
      "Testing Accuracy:  0.9163\n"
     ]
    }
   ],
   "source": [
    "loss, accuracy = model3.evaluate(X_train, y_train, verbose=False)\n",
    "print(\"Training Accuracy: {:.4f}\".format(accuracy))\n",
    "loss, accuracy = model3.evaluate(X_test, y_test, verbose=False)\n",
    "print(\"Testing Accuracy:  {:.4f}\".format(accuracy))"
   ]
  },
  {
   "cell_type": "markdown",
   "metadata": {},
   "source": [
    "Visualization of training:"
   ]
  },
  {
   "cell_type": "code",
   "execution_count": null,
   "metadata": {
    "colab": {
     "base_uri": "https://localhost:8080/",
     "height": 545
    },
    "id": "gZRVXaW1h9Jc",
    "outputId": "3ff62d04-8e44-4a08-b558-96a3318a03c6"
   },
   "outputs": [
    {
     "data": {
      "image/png": "[encoded data removed]",
      "text/plain": [
       "<Figure size 432x288 with 1 Axes>"
      ]
     },
     "metadata": {
      "needs_background": "light",
      "tags": []
     },
     "output_type": "display_data"
    },
    {
     "data": {
      "image/png": "[encoded data removed]",
      "text/plain": [
       "<Figure size 432x288 with 1 Axes>"
      ]
     },
     "metadata": {
      "needs_background": "light",
      "tags": []
     },
     "output_type": "display_data"
    }
   ],
   "source": [
    "plot_graphs(history_3, \"accuracy\")\n",
    "plot_graphs(history_3, \"loss\")"
   ]
  },
  {
   "cell_type": "markdown",
   "metadata": {},
   "source": [
    "#### Model 4: Final Neural Network model\n",
    "\n",
    "The final model consist of an Embedding layer with GlobalMaxPool1D layer, hidden layer using the ReLU activation function. The output layer using the softmax activation function. I have also used dropout layers as a method of regularization, Adam optimizer and categorical cross entropy loss as the loss function."
   ]
  },
  {
   "cell_type": "code",
   "execution_count": null,
   "metadata": {
    "colab": {
     "base_uri": "https://localhost:8080/",
     "height": 357
    },
    "id": "6TEBDh_LSdfx",
    "outputId": "674ec372-d0fa-45c6-9c77-f30251d3c9c1"
   },
   "outputs": [
    {
     "name": "stdout",
     "output_type": "stream",
     "text": [
      "Model: \"sequential_2\"\n",
      "_________________________________________________________________\n",
      "Layer (type)                 Output Shape              Param #   \n",
      "=================================================================\n",
      "embedding_2 (Embedding)      (None, 100, 50)           225950    \n",
      "_________________________________________________________________\n",
      "global_max_pooling1d_1 (Glob (None, 50)                0         \n",
      "_________________________________________________________________\n",
      "dropout (Dropout)            (None, 50)                0         \n",
      "_________________________________________________________________\n",
      "dense_4 (Dense)              (None, 16)                816       \n",
      "_________________________________________________________________\n",
      "dropout_1 (Dropout)          (None, 16)                0         \n",
      "_________________________________________________________________\n",
      "dense_5 (Dense)              (None, 5)                 85        \n",
      "=================================================================\n",
      "Total params: 226,851\n",
      "Trainable params: 226,851\n",
      "Non-trainable params: 0\n",
      "_________________________________________________________________\n"
     ]
    }
   ],
   "source": [
    "embedding_dim = 50\n",
    "\n",
    "model4 = Sequential()\n",
    "model4.add(Embedding(input_dim=vocab_size, output_dim=embedding_dim, input_length=maxlen))\n",
    "model4.add(GlobalMaxPool1D())\n",
    "model4.add(Dropout(0.2))\n",
    "model4.add(Dense(16, activation='relu'))\n",
    "model4.add(Dropout(0.2))\n",
    "model4.add(Dense(5, activation='softmax'))\n",
    "\n",
    "model4.compile(optimizer='adam',\n",
    "               loss='categorical_crossentropy',\n",
    "               metrics=['accuracy'])\n",
    "\n",
    "model4.summary()"
   ]
  },
  {
   "cell_type": "markdown",
   "metadata": {},
   "source": [
    "Training model for 15 epoch:"
   ]
  },
  {
   "cell_type": "code",
   "execution_count": null,
   "metadata": {
    "colab": {
     "base_uri": "https://localhost:8080/",
     "height": 527
    },
    "id": "J4qeOHeISdan",
    "outputId": "9bb64068-bc15-471e-9312-6b16aade7425"
   },
   "outputs": [
    {
     "name": "stdout",
     "output_type": "stream",
     "text": [
      "Epoch 1/15\n",
      "22/22 [==============================] - 0s 12ms/step - loss: 1.6062 - accuracy: 0.2224 - val_loss: 1.5875 - val_accuracy: 0.5022\n",
      "Epoch 2/15\n",
      "22/22 [==============================] - 0s 7ms/step - loss: 1.5768 - accuracy: 0.3711 - val_loss: 1.5546 - val_accuracy: 0.5066\n",
      "Epoch 3/15\n",
      "22/22 [==============================] - 0s 6ms/step - loss: 1.5396 - accuracy: 0.4315 - val_loss: 1.5030 - val_accuracy: 0.4670\n",
      "Epoch 4/15\n",
      "22/22 [==============================] - 0s 7ms/step - loss: 1.4852 - accuracy: 0.4153 - val_loss: 1.4280 - val_accuracy: 0.4670\n",
      "Epoch 5/15\n",
      "22/22 [==============================] - 0s 7ms/step - loss: 1.4075 - accuracy: 0.4271 - val_loss: 1.3391 - val_accuracy: 0.4670\n",
      "Epoch 6/15\n",
      "22/22 [==============================] - 0s 7ms/step - loss: 1.3191 - accuracy: 0.4433 - val_loss: 1.2436 - val_accuracy: 0.5066\n",
      "Epoch 7/15\n",
      "22/22 [==============================] - 0s 6ms/step - loss: 1.2069 - accuracy: 0.5464 - val_loss: 1.1282 - val_accuracy: 0.6300\n",
      "Epoch 8/15\n",
      "22/22 [==============================] - 0s 7ms/step - loss: 1.0861 - accuracy: 0.6510 - val_loss: 0.9843 - val_accuracy: 0.6872\n",
      "Epoch 9/15\n",
      "22/22 [==============================] - 0s 6ms/step - loss: 0.9219 - accuracy: 0.7261 - val_loss: 0.8399 - val_accuracy: 0.7885\n",
      "Epoch 10/15\n",
      "22/22 [==============================] - 0s 6ms/step - loss: 0.7975 - accuracy: 0.7791 - val_loss: 0.7157 - val_accuracy: 0.8282\n",
      "Epoch 11/15\n",
      "22/22 [==============================] - 0s 6ms/step - loss: 0.6659 - accuracy: 0.8262 - val_loss: 0.6150 - val_accuracy: 0.8590\n",
      "Epoch 12/15\n",
      "22/22 [==============================] - 0s 6ms/step - loss: 0.5937 - accuracy: 0.8292 - val_loss: 0.5385 - val_accuracy: 0.8811\n",
      "Epoch 13/15\n",
      "22/22 [==============================] - 0s 7ms/step - loss: 0.5148 - accuracy: 0.8542 - val_loss: 0.4784 - val_accuracy: 0.9031\n",
      "Epoch 14/15\n",
      "22/22 [==============================] - 0s 7ms/step - loss: 0.4588 - accuracy: 0.8792 - val_loss: 0.4361 - val_accuracy: 0.9119\n",
      "Epoch 15/15\n",
      "22/22 [==============================] - 0s 6ms/step - loss: 0.4188 - accuracy: 0.8763 - val_loss: 0.3942 - val_accuracy: 0.9339\n"
     ]
    }
   ],
   "source": [
    "history_4 = model4.fit(X_train, y_train,\n",
    "                       batch_size=32,\n",
    "                       epochs=15,\n",
    "                       validation_data=(X_test, y_test))"
   ]
  },
  {
   "cell_type": "markdown",
   "metadata": {},
   "source": [
    "Predictions:"
   ]
  },
  {
   "cell_type": "code",
   "execution_count": null,
   "metadata": {
    "colab": {
     "base_uri": "https://localhost:8080/",
     "height": 51
    },
    "id": "tf-gE9K5qq0-",
    "outputId": "2e406001-83a5-4cdd-8cd7-c852ee3f6ef3"
   },
   "outputs": [
    {
     "name": "stdout",
     "output_type": "stream",
     "text": [
      "Training Accuracy: 0.9543\n",
      "Testing Accuracy:  0.9339\n"
     ]
    }
   ],
   "source": [
    "loss, accuracy = model4.evaluate(X_train, y_train, verbose=False)\n",
    "print(\"Training Accuracy: {:.4f}\".format(accuracy))\n",
    "loss, accuracy = model4.evaluate(X_test, y_test, verbose=False)\n",
    "print(\"Testing Accuracy:  {:.4f}\".format(accuracy))"
   ]
  },
  {
   "cell_type": "markdown",
   "metadata": {},
   "source": [
    "Visualization of training:"
   ]
  },
  {
   "cell_type": "code",
   "execution_count": null,
   "metadata": {
    "colab": {
     "base_uri": "https://localhost:8080/",
     "height": 541
    },
    "id": "skqAozltquzR",
    "outputId": "027bc033-8e61-4e2e-bd61-b6c0a7236be5"
   },
   "outputs": [
    {
     "data": {
      "image/png": "[encoded data removed]",
      "text/plain": [
       "<Figure size 432x288 with 1 Axes>"
      ]
     },
     "metadata": {
      "needs_background": "light",
      "tags": []
     },
     "output_type": "display_data"
    },
    {
     "data": {
      "image/png": "[encoded data removed]",
      "text/plain": [
       "<Figure size 432x288 with 1 Axes>"
      ]
     },
     "metadata": {
      "needs_background": "light",
      "tags": []
     },
     "output_type": "display_data"
    }
   ],
   "source": [
    "plot_graphs(history_4, \"accuracy\")\n",
    "plot_graphs(history_4, \"loss\")"
   ]
  },
  {
   "cell_type": "markdown",
   "metadata": {
    "id": "bAT2Y3SjaCjd"
   },
   "source": [
    "From above calculation one can see that I have obtained a pretty good model.\n",
    "\n",
    "### Convolutional Neural Network (CNN)\n",
    "\n",
    "I decided to build a CNN model to check that I will achive a better result that previous calculation. The model contains a simple CNN architecture: Embedding layer with single layer Convolutional Neural Network (with RELU activation), and the GlobalMaxPool1D layer as well. The hidden layer using the ReLU activation function and an output layer using the softmax activation function. I also have used the Adam optimizer and categorical cross entropy loss as the loss function."
   ]
  },
  {
   "cell_type": "code",
   "execution_count": null,
   "metadata": {
    "colab": {
     "base_uri": "https://localhost:8080/",
     "height": 323
    },
    "id": "GF0GK9lrquvH",
    "outputId": "b0c5a27b-d038-45b8-a4ef-3c7f0dd978a0"
   },
   "outputs": [
    {
     "name": "stdout",
     "output_type": "stream",
     "text": [
      "Model: \"sequential_20\"\n",
      "_________________________________________________________________\n",
      "Layer (type)                 Output Shape              Param #   \n",
      "=================================================================\n",
      "embedding_20 (Embedding)     (None, 100, 50)           225950    \n",
      "_________________________________________________________________\n",
      "conv1d_11 (Conv1D)           (None, 96, 128)           32128     \n",
      "_________________________________________________________________\n",
      "global_max_pooling1d_13 (Glo (None, 128)               0         \n",
      "_________________________________________________________________\n",
      "dense_40 (Dense)             (None, 10)                1290      \n",
      "_________________________________________________________________\n",
      "dense_41 (Dense)             (None, 5)                 55        \n",
      "=================================================================\n",
      "Total params: 259,423\n",
      "Trainable params: 259,423\n",
      "Non-trainable params: 0\n",
      "_________________________________________________________________\n"
     ]
    }
   ],
   "source": [
    "embedding_dim = 50\n",
    "\n",
    "model5 = Sequential()\n",
    "model5.add(Embedding(input_dim=vocab_size, output_dim=embedding_dim, input_length=maxlen))\n",
    "model5.add(Conv1D(128, 5, activation='relu'))\n",
    "model5.add(GlobalMaxPool1D())\n",
    "model5.add(Dense(10, activation='relu'))\n",
    "model5.add(Dense(5, activation='softmax'))\n",
    "\n",
    "model5.compile(optimizer='adam',\n",
    "               loss='categorical_crossentropy',\n",
    "               metrics=['accuracy'])\n",
    "\n",
    "model5.summary()"
   ]
  },
  {
   "cell_type": "markdown",
   "metadata": {},
   "source": [
    "Training NN model for 5 epoch:"
   ]
  },
  {
   "cell_type": "code",
   "execution_count": null,
   "metadata": {
    "colab": {
     "base_uri": "https://localhost:8080/",
     "height": 187
    },
    "id": "QUCJJZbQqusm",
    "outputId": "0169a515-3afc-4ac9-b672-2f3b6cd0ce6b"
   },
   "outputs": [
    {
     "name": "stdout",
     "output_type": "stream",
     "text": [
      "Epoch 1/5\n",
      "68/68 [==============================] - 1s 14ms/step - loss: 1.5243 - accuracy: 0.3608 - val_loss: 1.4174 - val_accuracy: 0.4714\n",
      "Epoch 2/5\n",
      "68/68 [==============================] - 1s 11ms/step - loss: 1.2113 - accuracy: 0.5611 - val_loss: 0.8595 - val_accuracy: 0.7797\n",
      "Epoch 3/5\n",
      "68/68 [==============================] - 1s 11ms/step - loss: 0.6216 - accuracy: 0.8645 - val_loss: 0.4337 - val_accuracy: 0.9075\n",
      "Epoch 4/5\n",
      "68/68 [==============================] - 1s 12ms/step - loss: 0.2523 - accuracy: 0.9602 - val_loss: 0.2886 - val_accuracy: 0.9163\n",
      "Epoch 5/5\n",
      "68/68 [==============================] - 1s 11ms/step - loss: 0.0983 - accuracy: 0.9823 - val_loss: 0.2321 - val_accuracy: 0.9295\n"
     ]
    }
   ],
   "source": [
    "history_5 = model5.fit(X_train, y_train,\n",
    "                       batch_size=10,\n",
    "                       epochs=5,\n",
    "                       validation_data=(X_test, y_test))"
   ]
  },
  {
   "cell_type": "markdown",
   "metadata": {},
   "source": [
    "Predictions:"
   ]
  },
  {
   "cell_type": "code",
   "execution_count": null,
   "metadata": {
    "colab": {
     "base_uri": "https://localhost:8080/",
     "height": 51
    },
    "id": "ueVfCA9mquqt",
    "outputId": "dc8cf033-7204-4040-cebf-d4cdad03dea9"
   },
   "outputs": [
    {
     "name": "stdout",
     "output_type": "stream",
     "text": [
      "Training Accuracy: 0.9956\n",
      "Testing Accuracy:  0.9295\n"
     ]
    }
   ],
   "source": [
    "loss, accuracy = model5.evaluate(X_train, y_train, verbose=False)\n",
    "print(\"Training Accuracy: {:.4f}\".format(accuracy))\n",
    "loss, accuracy = model5.evaluate(X_test, y_test, verbose=False)\n",
    "print(\"Testing Accuracy:  {:.4f}\".format(accuracy))"
   ]
  },
  {
   "cell_type": "markdown",
   "metadata": {},
   "source": [
    "Visualization of training:"
   ]
  },
  {
   "cell_type": "code",
   "execution_count": null,
   "metadata": {
    "colab": {
     "base_uri": "https://localhost:8080/",
     "height": 541
    },
    "id": "umUCVe_KaS0C",
    "outputId": "ef41571a-c42b-4a42-95d8-59f01e5bc781"
   },
   "outputs": [
    {
     "data": {
      "image/png": "[encoded data removed]",
      "text/plain": [
       "<Figure size 432x288 with 1 Axes>"
      ]
     },
     "metadata": {
      "needs_background": "light",
      "tags": []
     },
     "output_type": "display_data"
    },
    {
     "data": {
      "image/png": "[encoded data removed]",
      "text/plain": [
       "<Figure size 432x288 with 1 Axes>"
      ]
     },
     "metadata": {
      "needs_background": "light",
      "tags": []
     },
     "output_type": "display_data"
    }
   ],
   "source": [
    "plot_graphs(history_5, \"accuracy\")\n",
    "plot_graphs(history_5, \"loss\")"
   ]
  },
  {
   "cell_type": "markdown",
   "metadata": {
    "id": "LYcp0sGTdB-t"
   },
   "source": [
    "The model was received a similar results to simple NN model. The accuracy was better than previous model."
   ]
  },
  {
   "cell_type": "markdown",
   "metadata": {},
   "source": [
    "## Summary\n",
    "\n",
    "The project was aimed product categorization based on their descriptionn. In this approach I have used Neural Network and Convolutional Neural Network to resolve the text classification problem. I build and trained 4 models by using simple Neural Network and the best model achieved an accuracy on the test set equal to 95 %. Additionaly I built the CNN model and it was received a similar results to simple NN models. "
   ]
  }
 ],
 "metadata": {
  "colab": {
   "collapsed_sections": [],
   "name": "Text_nn.ipynb",
   "provenance": []
  },
  "kernelspec": {
   "display_name": "Python 3 (ipykernel)",
   "language": "python",
   "name": "python3"
  },
  "language_info": {
   "codemirror_mode": {
    "name": "ipython",
    "version": 3
   },
   "file_extension": ".py",
   "mimetype": "text/x-python",
   "name": "python",
   "nbconvert_exporter": "python",
   "pygments_lexer": "ipython3",
   "version": "3.12.4"
  }
 },
 "nbformat": 4,
 "nbformat_minor": 4
}
