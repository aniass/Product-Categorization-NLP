{
 "cells": [
  {
   "cell_type": "markdown",
   "metadata": {},
   "source": [
    "# Product Categorization\n",
    "\n",
    "## Part 6: Word2vec model\n",
    "\n",
    "The aim of the project was the implementation of Word2Vec model with an example of generating word embedding for the make-up products data. The data include such features as name of product, description and tags. I have generated word embedding for each of those example and then compare similarities between them. For this analysis i have used Python and Gensim library.\n",
    "\n",
    "Word2Vec is one of the most popular and more advanced techniques for learning word embeddings. This technique is based on the assumption that words in the same contexts usually have similar meanings. Word embedding is a vector representation of a word and its input is the text corpus, and its output is a set of vectors. Word embeddings using word2vec can make natural language readable for the computer, and then one can apply further implementation of mathematical operations on words to detect their similarity. A well-trained set of word vectors will place similar words close together in this space.\n",
    "\n",
    "### Dataset\n",
    "\n",
    "The dataset contains the details about makeup products such as brand, category, description, name, etc. It comes from http://makeup-api.herokuapp.com/.\n",
    "\n",
    "Attributes:\n",
    "\n",
    "* Brand (text: name of the brand)\n",
    "* Category (text: category of products)\n",
    "* Currency (text)\n",
    "* Description (text: product description)\n",
    "* Id (numeric)\n",
    "* Name (numeric: name of the product)\n",
    "* Price (numeric: product price)\n",
    "* Price sign (text)\n",
    "* Product type (text)\n",
    "* Rating (numeric)\n",
    "* Tag list (text)"
   ]
  },
  {
   "cell_type": "markdown",
   "metadata": {},
   "source": [
    "## Import libriaries and data"
   ]
  },
  {
   "cell_type": "code",
   "execution_count": 1,
   "metadata": {},
   "outputs": [],
   "source": [
    "import pandas as pd\n",
    "import numpy as np\n",
    "import matplotlib.pyplot as plt\n",
    "%matplotlib inline\n",
    "\n",
    "from mpl_toolkits.mplot3d import Axes3D\n",
    "import seaborn as sns\n",
    "sns.set_style(\"darkgrid\")\n",
    "\n",
    "import re\n",
    "from nltk.corpus import stopwords\n",
    "from nltk.stem.wordnet import WordNetLemmatizer\n",
    "\n",
    "import gensim\n",
    "from gensim.utils import simple_preprocess\n",
    "from gensim.models import phrases, word2vec, Word2Vec\n",
    "from gensim.models.phrases import Phrases, Phraser\n",
    "\n",
    "from sklearn.decomposition import PCA\n",
    "from sklearn.manifold import TSNE"
   ]
  },
  {
   "cell_type": "code",
   "execution_count": 2,
   "metadata": {},
   "outputs": [
    {
     "data": {
      "text/html": [
       "<div>\n",
       "<style scoped>\n",
       "    .dataframe tbody tr th:only-of-type {\n",
       "        vertical-align: middle;\n",
       "    }\n",
       "\n",
       "    .dataframe tbody tr th {\n",
       "        vertical-align: top;\n",
       "    }\n",
       "\n",
       "    .dataframe thead th {\n",
       "        text-align: right;\n",
       "    }\n",
       "</style>\n",
       "<table border=\"1\" class=\"dataframe\">\n",
       "  <thead>\n",
       "    <tr style=\"text-align: right;\">\n",
       "      <th></th>\n",
       "      <th>brand</th>\n",
       "      <th>category</th>\n",
       "      <th>currency</th>\n",
       "      <th>description</th>\n",
       "      <th>id</th>\n",
       "      <th>name</th>\n",
       "      <th>price</th>\n",
       "      <th>price_sign</th>\n",
       "      <th>product_type</th>\n",
       "      <th>rating</th>\n",
       "      <th>tag_list</th>\n",
       "    </tr>\n",
       "  </thead>\n",
       "  <tbody>\n",
       "    <tr>\n",
       "      <th>0</th>\n",
       "      <td>colourpop</td>\n",
       "      <td>pencil</td>\n",
       "      <td>CAD</td>\n",
       "      <td>Lippie Pencil A long-wearing and high-intensit...</td>\n",
       "      <td>1048</td>\n",
       "      <td>Lippie Pencil</td>\n",
       "      <td>5.0</td>\n",
       "      <td>$</td>\n",
       "      <td>lip_liner</td>\n",
       "      <td>NaN</td>\n",
       "      <td>['Vegan', 'cruelty free']</td>\n",
       "    </tr>\n",
       "    <tr>\n",
       "      <th>1</th>\n",
       "      <td>colourpop</td>\n",
       "      <td>lipstick</td>\n",
       "      <td>CAD</td>\n",
       "      <td>Blotted Lip Sheer matte lipstick that creates ...</td>\n",
       "      <td>1047</td>\n",
       "      <td>Blotted Lip</td>\n",
       "      <td>5.5</td>\n",
       "      <td>$</td>\n",
       "      <td>lipstick</td>\n",
       "      <td>NaN</td>\n",
       "      <td>['Vegan', 'cruelty free']</td>\n",
       "    </tr>\n",
       "    <tr>\n",
       "      <th>2</th>\n",
       "      <td>colourpop</td>\n",
       "      <td>lipstick</td>\n",
       "      <td>CAD</td>\n",
       "      <td>Lippie Stix Formula contains Vitamin E, Mango,...</td>\n",
       "      <td>1046</td>\n",
       "      <td>Lippie Stix</td>\n",
       "      <td>5.5</td>\n",
       "      <td>$</td>\n",
       "      <td>lipstick</td>\n",
       "      <td>NaN</td>\n",
       "      <td>['Vegan', 'cruelty free']</td>\n",
       "    </tr>\n",
       "    <tr>\n",
       "      <th>3</th>\n",
       "      <td>colourpop</td>\n",
       "      <td>liquid</td>\n",
       "      <td>CAD</td>\n",
       "      <td>Developed for the Selfie Age, our buildable fu...</td>\n",
       "      <td>1045</td>\n",
       "      <td>No Filter Foundation</td>\n",
       "      <td>12.0</td>\n",
       "      <td>$</td>\n",
       "      <td>foundation</td>\n",
       "      <td>NaN</td>\n",
       "      <td>['Vegan', 'cruelty free']</td>\n",
       "    </tr>\n",
       "    <tr>\n",
       "      <th>4</th>\n",
       "      <td>boosh</td>\n",
       "      <td>lipstick</td>\n",
       "      <td>CAD</td>\n",
       "      <td>All of our products are free from lead and hea...</td>\n",
       "      <td>1044</td>\n",
       "      <td>Lipstick</td>\n",
       "      <td>26.0</td>\n",
       "      <td>$</td>\n",
       "      <td>lipstick</td>\n",
       "      <td>NaN</td>\n",
       "      <td>['Organic', 'Chemical Free']</td>\n",
       "    </tr>\n",
       "  </tbody>\n",
       "</table>\n",
       "</div>"
      ],
      "text/plain": [
       "       brand  category currency  \\\n",
       "0  colourpop    pencil      CAD   \n",
       "1  colourpop  lipstick      CAD   \n",
       "2  colourpop  lipstick      CAD   \n",
       "3  colourpop    liquid      CAD   \n",
       "4      boosh  lipstick      CAD   \n",
       "\n",
       "                                         description    id  \\\n",
       "0  Lippie Pencil A long-wearing and high-intensit...  1048   \n",
       "1  Blotted Lip Sheer matte lipstick that creates ...  1047   \n",
       "2  Lippie Stix Formula contains Vitamin E, Mango,...  1046   \n",
       "3  Developed for the Selfie Age, our buildable fu...  1045   \n",
       "4  All of our products are free from lead and hea...  1044   \n",
       "\n",
       "                   name  price price_sign product_type  rating  \\\n",
       "0         Lippie Pencil    5.0          $    lip_liner     NaN   \n",
       "1           Blotted Lip    5.5          $     lipstick     NaN   \n",
       "2           Lippie Stix    5.5          $     lipstick     NaN   \n",
       "3  No Filter Foundation   12.0          $   foundation     NaN   \n",
       "4              Lipstick   26.0          $     lipstick     NaN   \n",
       "\n",
       "                       tag_list  \n",
       "0     ['Vegan', 'cruelty free']  \n",
       "1     ['Vegan', 'cruelty free']  \n",
       "2     ['Vegan', 'cruelty free']  \n",
       "3     ['Vegan', 'cruelty free']  \n",
       "4  ['Organic', 'Chemical Free']  "
      ]
     },
     "execution_count": 2,
     "metadata": {},
     "output_type": "execute_result"
    }
   ],
   "source": [
    "df = pd.read_csv('data\\products_final.csv', header=0,index_col=0)\n",
    "df.head()"
   ]
  },
  {
   "cell_type": "markdown",
   "metadata": {},
   "source": [
    "First observations:"
   ]
  },
  {
   "cell_type": "code",
   "execution_count": 3,
   "metadata": {},
   "outputs": [
    {
     "name": "stdout",
     "output_type": "stream",
     "text": [
      "<class 'pandas.core.frame.DataFrame'>\n",
      "Int64Index: 931 entries, 0 to 930\n",
      "Data columns (total 11 columns):\n",
      " #   Column        Non-Null Count  Dtype  \n",
      "---  ------        --------------  -----  \n",
      " 0   brand         919 non-null    object \n",
      " 1   category      507 non-null    object \n",
      " 2   currency      368 non-null    object \n",
      " 3   description   906 non-null    object \n",
      " 4   id            931 non-null    int64  \n",
      " 5   name          931 non-null    object \n",
      " 6   price         917 non-null    float64\n",
      " 7   price_sign    368 non-null    object \n",
      " 8   product_type  931 non-null    object \n",
      " 9   rating        340 non-null    float64\n",
      " 10  tag_list      931 non-null    object \n",
      "dtypes: float64(2), int64(1), object(8)\n",
      "memory usage: 87.3+ KB\n"
     ]
    }
   ],
   "source": [
    "df.info()"
   ]
  },
  {
   "cell_type": "code",
   "execution_count": 4,
   "metadata": {},
   "outputs": [
    {
     "data": {
      "text/plain": [
       "(931, 11)"
      ]
     },
     "execution_count": 4,
     "metadata": {},
     "output_type": "execute_result"
    }
   ],
   "source": [
    "df.shape"
   ]
  },
  {
   "cell_type": "markdown",
   "metadata": {},
   "source": [
    "## Data Preparation \n",
    "\n",
    "Deleting unnecessary columns:"
   ]
  },
  {
   "cell_type": "code",
   "execution_count": 5,
   "metadata": {},
   "outputs": [],
   "source": [
    "text = df.drop(['product_type', 'currency', 'id', 'price', 'price_sign', 'rating', 'brand', 'category'], axis=1)"
   ]
  },
  {
   "cell_type": "code",
   "execution_count": 6,
   "metadata": {},
   "outputs": [
    {
     "data": {
      "text/html": [
       "<div>\n",
       "<style scoped>\n",
       "    .dataframe tbody tr th:only-of-type {\n",
       "        vertical-align: middle;\n",
       "    }\n",
       "\n",
       "    .dataframe tbody tr th {\n",
       "        vertical-align: top;\n",
       "    }\n",
       "\n",
       "    .dataframe thead th {\n",
       "        text-align: right;\n",
       "    }\n",
       "</style>\n",
       "<table border=\"1\" class=\"dataframe\">\n",
       "  <thead>\n",
       "    <tr style=\"text-align: right;\">\n",
       "      <th></th>\n",
       "      <th>description</th>\n",
       "      <th>name</th>\n",
       "      <th>tag_list</th>\n",
       "    </tr>\n",
       "  </thead>\n",
       "  <tbody>\n",
       "    <tr>\n",
       "      <th>0</th>\n",
       "      <td>Lippie Pencil A long-wearing and high-intensit...</td>\n",
       "      <td>Lippie Pencil</td>\n",
       "      <td>['Vegan', 'cruelty free']</td>\n",
       "    </tr>\n",
       "    <tr>\n",
       "      <th>1</th>\n",
       "      <td>Blotted Lip Sheer matte lipstick that creates ...</td>\n",
       "      <td>Blotted Lip</td>\n",
       "      <td>['Vegan', 'cruelty free']</td>\n",
       "    </tr>\n",
       "    <tr>\n",
       "      <th>2</th>\n",
       "      <td>Lippie Stix Formula contains Vitamin E, Mango,...</td>\n",
       "      <td>Lippie Stix</td>\n",
       "      <td>['Vegan', 'cruelty free']</td>\n",
       "    </tr>\n",
       "    <tr>\n",
       "      <th>3</th>\n",
       "      <td>Developed for the Selfie Age, our buildable fu...</td>\n",
       "      <td>No Filter Foundation</td>\n",
       "      <td>['Vegan', 'cruelty free']</td>\n",
       "    </tr>\n",
       "    <tr>\n",
       "      <th>4</th>\n",
       "      <td>All of our products are free from lead and hea...</td>\n",
       "      <td>Lipstick</td>\n",
       "      <td>['Organic', 'Chemical Free']</td>\n",
       "    </tr>\n",
       "  </tbody>\n",
       "</table>\n",
       "</div>"
      ],
      "text/plain": [
       "                                         description                  name  \\\n",
       "0  Lippie Pencil A long-wearing and high-intensit...         Lippie Pencil   \n",
       "1  Blotted Lip Sheer matte lipstick that creates ...           Blotted Lip   \n",
       "2  Lippie Stix Formula contains Vitamin E, Mango,...           Lippie Stix   \n",
       "3  Developed for the Selfie Age, our buildable fu...  No Filter Foundation   \n",
       "4  All of our products are free from lead and hea...              Lipstick   \n",
       "\n",
       "                       tag_list  \n",
       "0     ['Vegan', 'cruelty free']  \n",
       "1     ['Vegan', 'cruelty free']  \n",
       "2     ['Vegan', 'cruelty free']  \n",
       "3     ['Vegan', 'cruelty free']  \n",
       "4  ['Organic', 'Chemical Free']  "
      ]
     },
     "execution_count": 6,
     "metadata": {},
     "output_type": "execute_result"
    }
   ],
   "source": [
    "text.head()"
   ]
  },
  {
   "cell_type": "markdown",
   "metadata": {},
   "source": [
    "Change data type:"
   ]
  },
  {
   "cell_type": "code",
   "execution_count": 7,
   "metadata": {},
   "outputs": [],
   "source": [
    "text['description'] = text['description'].astype(str)\n",
    "text['tag_list'] = text['tag_list'].astype(str)\n",
    "text['name'] = text['name'].astype(str)"
   ]
  },
  {
   "cell_type": "markdown",
   "metadata": {},
   "source": [
    "Checking the missing values:"
   ]
  },
  {
   "cell_type": "code",
   "execution_count": 8,
   "metadata": {},
   "outputs": [
    {
     "data": {
      "text/plain": [
       "description    0\n",
       "name           0\n",
       "tag_list       0\n",
       "dtype: int64"
      ]
     },
     "execution_count": 8,
     "metadata": {},
     "output_type": "execute_result"
    }
   ],
   "source": [
    "text.isnull().sum()"
   ]
  },
  {
   "cell_type": "markdown",
   "metadata": {},
   "source": [
    "### Text preprocessing\n",
    "\n",
    "In this part I removed non-alphabetic characters, the stopwords and applied lemmatization for each line of text."
   ]
  },
  {
   "cell_type": "code",
   "execution_count": 9,
   "metadata": {},
   "outputs": [],
   "source": [
    "# This function converts a text to a sequence of words:\n",
    "def tokens(words):\n",
    "    words = re.sub(\"[^a-zA-Z]\",\" \",words)\n",
    "    text = words.lower().split()\n",
    "    return \" \".join(text)"
   ]
  },
  {
   "cell_type": "code",
   "execution_count": 10,
   "metadata": {},
   "outputs": [
    {
     "data": {
      "text/html": [
       "<div>\n",
       "<style scoped>\n",
       "    .dataframe tbody tr th:only-of-type {\n",
       "        vertical-align: middle;\n",
       "    }\n",
       "\n",
       "    .dataframe tbody tr th {\n",
       "        vertical-align: top;\n",
       "    }\n",
       "\n",
       "    .dataframe thead th {\n",
       "        text-align: right;\n",
       "    }\n",
       "</style>\n",
       "<table border=\"1\" class=\"dataframe\">\n",
       "  <thead>\n",
       "    <tr style=\"text-align: right;\">\n",
       "      <th></th>\n",
       "      <th>description</th>\n",
       "      <th>name</th>\n",
       "      <th>tag_list</th>\n",
       "    </tr>\n",
       "  </thead>\n",
       "  <tbody>\n",
       "    <tr>\n",
       "      <th>0</th>\n",
       "      <td>lippie pencil a long wearing and high intensit...</td>\n",
       "      <td>lippie pencil</td>\n",
       "      <td>vegan cruelty free</td>\n",
       "    </tr>\n",
       "    <tr>\n",
       "      <th>1</th>\n",
       "      <td>blotted lip sheer matte lipstick that creates ...</td>\n",
       "      <td>blotted lip</td>\n",
       "      <td>vegan cruelty free</td>\n",
       "    </tr>\n",
       "    <tr>\n",
       "      <th>2</th>\n",
       "      <td>lippie stix formula contains vitamin e mango a...</td>\n",
       "      <td>lippie stix</td>\n",
       "      <td>vegan cruelty free</td>\n",
       "    </tr>\n",
       "    <tr>\n",
       "      <th>3</th>\n",
       "      <td>developed for the selfie age our buildable ful...</td>\n",
       "      <td>no filter foundation</td>\n",
       "      <td>vegan cruelty free</td>\n",
       "    </tr>\n",
       "    <tr>\n",
       "      <th>4</th>\n",
       "      <td>all of our products are free from lead and hea...</td>\n",
       "      <td>lipstick</td>\n",
       "      <td>organic chemical free</td>\n",
       "    </tr>\n",
       "  </tbody>\n",
       "</table>\n",
       "</div>"
      ],
      "text/plain": [
       "                                         description                  name  \\\n",
       "0  lippie pencil a long wearing and high intensit...         lippie pencil   \n",
       "1  blotted lip sheer matte lipstick that creates ...           blotted lip   \n",
       "2  lippie stix formula contains vitamin e mango a...           lippie stix   \n",
       "3  developed for the selfie age our buildable ful...  no filter foundation   \n",
       "4  all of our products are free from lead and hea...              lipstick   \n",
       "\n",
       "                tag_list  \n",
       "0     vegan cruelty free  \n",
       "1     vegan cruelty free  \n",
       "2     vegan cruelty free  \n",
       "3     vegan cruelty free  \n",
       "4  organic chemical free  "
      ]
     },
     "execution_count": 10,
     "metadata": {},
     "output_type": "execute_result"
    }
   ],
   "source": [
    "text['description'] = text['description'].apply(tokens)\n",
    "text['tag_list'] = text['tag_list'].apply(tokens)\n",
    "text['name'] = text['name'].apply(tokens)\n",
    "text.head()"
   ]
  },
  {
   "cell_type": "markdown",
   "metadata": {},
   "source": [
    "#### StopWords\n",
    "\n",
    "Extracting the stopwords from nltk library:"
   ]
  },
  {
   "cell_type": "code",
   "execution_count": 11,
   "metadata": {},
   "outputs": [
    {
     "data": {
      "text/plain": [
       "['i', 'me', 'my', 'myself', 'we', 'our', 'ours', 'ourselves', 'you', \"you're\"]"
      ]
     },
     "execution_count": 11,
     "metadata": {},
     "output_type": "execute_result"
    }
   ],
   "source": [
    "# Show some stop words\n",
    "stop = stopwords.words('english')\n",
    "stop[0:10]\n"
   ]
  },
  {
   "cell_type": "code",
   "execution_count": 12,
   "metadata": {},
   "outputs": [],
   "source": [
    "def stopwords(text):\n",
    "    text = [word.lower() for word in text.split() if word.lower() not in stop]\n",
    "    return \" \".join(text)"
   ]
  },
  {
   "cell_type": "code",
   "execution_count": 13,
   "metadata": {},
   "outputs": [
    {
     "data": {
      "text/html": [
       "<div>\n",
       "<style scoped>\n",
       "    .dataframe tbody tr th:only-of-type {\n",
       "        vertical-align: middle;\n",
       "    }\n",
       "\n",
       "    .dataframe tbody tr th {\n",
       "        vertical-align: top;\n",
       "    }\n",
       "\n",
       "    .dataframe thead th {\n",
       "        text-align: right;\n",
       "    }\n",
       "</style>\n",
       "<table border=\"1\" class=\"dataframe\">\n",
       "  <thead>\n",
       "    <tr style=\"text-align: right;\">\n",
       "      <th></th>\n",
       "      <th>description</th>\n",
       "      <th>name</th>\n",
       "      <th>tag_list</th>\n",
       "    </tr>\n",
       "  </thead>\n",
       "  <tbody>\n",
       "    <tr>\n",
       "      <th>0</th>\n",
       "      <td>lippie pencil long wearing high intensity lip ...</td>\n",
       "      <td>lippie pencil</td>\n",
       "      <td>vegan cruelty free</td>\n",
       "    </tr>\n",
       "    <tr>\n",
       "      <th>1</th>\n",
       "      <td>blotted lip sheer matte lipstick creates perfe...</td>\n",
       "      <td>blotted lip</td>\n",
       "      <td>vegan cruelty free</td>\n",
       "    </tr>\n",
       "    <tr>\n",
       "      <th>2</th>\n",
       "      <td>lippie stix formula contains vitamin e mango a...</td>\n",
       "      <td>lippie stix</td>\n",
       "      <td>vegan cruelty free</td>\n",
       "    </tr>\n",
       "    <tr>\n",
       "      <th>3</th>\n",
       "      <td>developed selfie age buildable full coverage n...</td>\n",
       "      <td>filter foundation</td>\n",
       "      <td>vegan cruelty free</td>\n",
       "    </tr>\n",
       "    <tr>\n",
       "      <th>4</th>\n",
       "      <td>products free lead heavy metals parabens phtha...</td>\n",
       "      <td>lipstick</td>\n",
       "      <td>organic chemical free</td>\n",
       "    </tr>\n",
       "  </tbody>\n",
       "</table>\n",
       "</div>"
      ],
      "text/plain": [
       "                                         description               name  \\\n",
       "0  lippie pencil long wearing high intensity lip ...      lippie pencil   \n",
       "1  blotted lip sheer matte lipstick creates perfe...        blotted lip   \n",
       "2  lippie stix formula contains vitamin e mango a...        lippie stix   \n",
       "3  developed selfie age buildable full coverage n...  filter foundation   \n",
       "4  products free lead heavy metals parabens phtha...           lipstick   \n",
       "\n",
       "                tag_list  \n",
       "0     vegan cruelty free  \n",
       "1     vegan cruelty free  \n",
       "2     vegan cruelty free  \n",
       "3     vegan cruelty free  \n",
       "4  organic chemical free  "
      ]
     },
     "execution_count": 13,
     "metadata": {},
     "output_type": "execute_result"
    }
   ],
   "source": [
    "text['description'] = text['description'].apply(stopwords)\n",
    "text['name'] = text['name'].apply(stopwords)\n",
    "text.head()"
   ]
  },
  {
   "cell_type": "markdown",
   "metadata": {},
   "source": [
    "Function for lemmatization:"
   ]
  },
  {
   "cell_type": "code",
   "execution_count": 14,
   "metadata": {},
   "outputs": [],
   "source": [
    "lem = WordNetLemmatizer()\n",
    "\n",
    "def word_lem(text):\n",
    "    lem_text = [lem.lemmatize(word) for word in text.split()]\n",
    "    return \" \".join(lem_text)"
   ]
  },
  {
   "cell_type": "code",
   "execution_count": 15,
   "metadata": {},
   "outputs": [
    {
     "data": {
      "text/html": [
       "<div>\n",
       "<style scoped>\n",
       "    .dataframe tbody tr th:only-of-type {\n",
       "        vertical-align: middle;\n",
       "    }\n",
       "\n",
       "    .dataframe tbody tr th {\n",
       "        vertical-align: top;\n",
       "    }\n",
       "\n",
       "    .dataframe thead th {\n",
       "        text-align: right;\n",
       "    }\n",
       "</style>\n",
       "<table border=\"1\" class=\"dataframe\">\n",
       "  <thead>\n",
       "    <tr style=\"text-align: right;\">\n",
       "      <th></th>\n",
       "      <th>description</th>\n",
       "      <th>name</th>\n",
       "      <th>tag_list</th>\n",
       "    </tr>\n",
       "  </thead>\n",
       "  <tbody>\n",
       "    <tr>\n",
       "      <th>0</th>\n",
       "      <td>lippie pencil long wearing high intensity lip ...</td>\n",
       "      <td>lippie pencil</td>\n",
       "      <td>vegan cruelty free</td>\n",
       "    </tr>\n",
       "    <tr>\n",
       "      <th>1</th>\n",
       "      <td>blotted lip sheer matte lipstick creates perfe...</td>\n",
       "      <td>blotted lip</td>\n",
       "      <td>vegan cruelty free</td>\n",
       "    </tr>\n",
       "    <tr>\n",
       "      <th>2</th>\n",
       "      <td>lippie stix formula contains vitamin e mango a...</td>\n",
       "      <td>lippie stix</td>\n",
       "      <td>vegan cruelty free</td>\n",
       "    </tr>\n",
       "    <tr>\n",
       "      <th>3</th>\n",
       "      <td>developed selfie age buildable full coverage n...</td>\n",
       "      <td>filter foundation</td>\n",
       "      <td>vegan cruelty free</td>\n",
       "    </tr>\n",
       "    <tr>\n",
       "      <th>4</th>\n",
       "      <td>product free lead heavy metal parabens phthala...</td>\n",
       "      <td>lipstick</td>\n",
       "      <td>organic chemical free</td>\n",
       "    </tr>\n",
       "  </tbody>\n",
       "</table>\n",
       "</div>"
      ],
      "text/plain": [
       "                                         description               name  \\\n",
       "0  lippie pencil long wearing high intensity lip ...      lippie pencil   \n",
       "1  blotted lip sheer matte lipstick creates perfe...        blotted lip   \n",
       "2  lippie stix formula contains vitamin e mango a...        lippie stix   \n",
       "3  developed selfie age buildable full coverage n...  filter foundation   \n",
       "4  product free lead heavy metal parabens phthala...           lipstick   \n",
       "\n",
       "                tag_list  \n",
       "0     vegan cruelty free  \n",
       "1     vegan cruelty free  \n",
       "2     vegan cruelty free  \n",
       "3     vegan cruelty free  \n",
       "4  organic chemical free  "
      ]
     },
     "execution_count": 15,
     "metadata": {},
     "output_type": "execute_result"
    }
   ],
   "source": [
    "text['description']  = text['description'].apply(word_lem)\n",
    "text.head()"
   ]
  },
  {
   "cell_type": "code",
   "execution_count": 16,
   "metadata": {},
   "outputs": [
    {
     "data": {
      "text/plain": [
       "'blotted lip sheer matte lipstick creates perfect popsicle pout formula lightweight matte buildable light medium coverage'"
      ]
     },
     "execution_count": 16,
     "metadata": {},
     "output_type": "execute_result"
    }
   ],
   "source": [
    "text['description'][1]"
   ]
  },
  {
   "cell_type": "code",
   "execution_count": 17,
   "metadata": {},
   "outputs": [],
   "source": [
    "# saved clean data\n",
    "text.to_csv('C:\\Python Scripts\\API_products\\products_clean.csv', encoding='utf-8')"
   ]
  },
  {
   "cell_type": "markdown",
   "metadata": {},
   "source": [
    "## Model creation\n",
    "\n",
    "### Word2vec for name\n",
    "\n",
    "In this part I have used simple_preprocess method, which convert a document into a list of lowercase tokens, ignoring tokens that are too short or too long."
   ]
  },
  {
   "cell_type": "code",
   "execution_count": 51,
   "metadata": {},
   "outputs": [],
   "source": [
    "corpus = text['name'].map(simple_preprocess)"
   ]
  },
  {
   "cell_type": "code",
   "execution_count": 52,
   "metadata": {},
   "outputs": [
    {
     "data": {
      "text/plain": [
       "0                         [lippie, pencil]\n",
       "1                           [blotted, lip]\n",
       "2                           [lippie, stix]\n",
       "3                     [filter, foundation]\n",
       "4                               [lipstick]\n",
       "5                      [serum, foundation]\n",
       "6                   [coverage, foundation]\n",
       "7                          [liquid, liner]\n",
       "8                              [eyeshadow]\n",
       "9    [realist, invisible, setting, powder]\n",
       "Name: name, dtype: object"
      ]
     },
     "execution_count": 52,
     "metadata": {},
     "output_type": "execute_result"
    }
   ],
   "source": [
    "corpus[0:10]"
   ]
  },
  {
   "cell_type": "markdown",
   "metadata": {},
   "source": [
    "One can train the gensim word2vec model with the own custom corpus as following:"
   ]
  },
  {
   "cell_type": "code",
   "execution_count": 53,
   "metadata": {},
   "outputs": [
    {
     "name": "stderr",
     "output_type": "stream",
     "text": [
      "C:\\Users\\PC\\Anaconda3\\lib\\site-packages\\gensim\\models\\base_any2vec.py:743: UserWarning: C extension not loaded, training will be slow. Install a C compiler and reinstall gensim for fast training.\n",
      "  \"C extension not loaded, training will be slow. \"\n"
     ]
    }
   ],
   "source": [
    "name_model = Word2Vec(corpus, size=100, window=3, min_count=1)"
   ]
  },
  {
   "cell_type": "markdown",
   "metadata": {},
   "source": [
    "Shows the most similar words present in the model:"
   ]
  },
  {
   "cell_type": "code",
   "execution_count": 54,
   "metadata": {},
   "outputs": [
    {
     "data": {
      "text/plain": [
       "[('rose', 0.3261679410934448),\n",
       " ('maybelline', 0.30425405502319336),\n",
       " ('express', 0.30156373977661133),\n",
       " ('long', 0.2996756434440613),\n",
       " ('bronzer', 0.2945731580257416),\n",
       " ('nail', 0.29042112827301025),\n",
       " ('flat', 0.29022955894470215),\n",
       " ('flexible', 0.28989794850349426),\n",
       " ('nude', 0.2737104594707489),\n",
       " ('million', 0.27251937985420227)]"
      ]
     },
     "execution_count": 54,
     "metadata": {},
     "output_type": "execute_result"
    }
   ],
   "source": [
    "name_model.wv.most_similar('lipstick')"
   ]
  },
  {
   "cell_type": "code",
   "execution_count": 55,
   "metadata": {},
   "outputs": [
    {
     "data": {
      "text/plain": [
       "[('stick', 0.3793315291404724),\n",
       " ('metals', 0.33757591247558594),\n",
       " ('contour', 0.31963130831718445),\n",
       " ('boudoir', 0.3114571273326874),\n",
       " ('addict', 0.3113562762737274),\n",
       " ('rouge', 0.29319578409194946),\n",
       " ('brilliant', 0.2928236722946167),\n",
       " ('gel', 0.28807365894317627),\n",
       " ('resistant', 0.280072420835495),\n",
       " ('fail', 0.27691227197647095)]"
      ]
     },
     "execution_count": 55,
     "metadata": {},
     "output_type": "execute_result"
    }
   ],
   "source": [
    "name_model.wv.most_similar('liquid')"
   ]
  },
  {
   "cell_type": "code",
   "execution_count": 56,
   "metadata": {},
   "outputs": [
    {
     "data": {
      "text/plain": [
       "[('spectrum', 0.31646865606307983),\n",
       " ('radiance', 0.3039230406284332),\n",
       " ('transforming', 0.30042147636413574),\n",
       " ('muse', 0.29501938819885254),\n",
       " ('matte', 0.2898262143135071),\n",
       " ('paris', 0.28061944246292114),\n",
       " ('kohl', 0.27684545516967773),\n",
       " ('cushion', 0.2622339725494385),\n",
       " ('plumping', 0.25422000885009766),\n",
       " ('exposure', 0.253739595413208)]"
      ]
     },
     "execution_count": 56,
     "metadata": {},
     "output_type": "execute_result"
    }
   ],
   "source": [
    "name_model.wv.most_similar('pencil')"
   ]
  },
  {
   "cell_type": "markdown",
   "metadata": {},
   "source": [
    "### Word2vec model for description\n",
    "\n",
    "I have created the list of list format of the custom corpus for gensim modeling:"
   ]
  },
  {
   "cell_type": "code",
   "execution_count": 21,
   "metadata": {},
   "outputs": [],
   "source": [
    "sentences = [row.split() for row in text['description']]"
   ]
  },
  {
   "cell_type": "code",
   "execution_count": 22,
   "metadata": {},
   "outputs": [
    {
     "data": {
      "text/plain": [
       "[['lippie',\n",
       "  'pencil',\n",
       "  'long',\n",
       "  'wearing',\n",
       "  'high',\n",
       "  'intensity',\n",
       "  'lip',\n",
       "  'pencil',\n",
       "  'glide',\n",
       "  'easily',\n",
       "  'prevents',\n",
       "  'feathering',\n",
       "  'many',\n",
       "  'lippie',\n",
       "  'stix',\n",
       "  'coordinating',\n",
       "  'lippie',\n",
       "  'pencil',\n",
       "  'designed',\n",
       "  'compliment',\n",
       "  'perfectly',\n",
       "  'feel',\n",
       "  'free',\n",
       "  'mix',\n",
       "  'match']]"
      ]
     },
     "execution_count": 22,
     "metadata": {},
     "output_type": "execute_result"
    }
   ],
   "source": [
    "sentences[0:1]"
   ]
  },
  {
   "cell_type": "markdown",
   "metadata": {},
   "source": [
    "### Creating the model and setting values for the various parameters:\n",
    "\n",
    "Here are few important of the hyperparameters of this model:\n",
    "- size - this is the number of dimensions of the embeddings. Typical numbers is in the range of 50 to 300. I have used 100 beacause there are no much text.\n",
    "- window - it is the maximum distance between a target word and words around the target word.\n",
    "- min_count -  minimum count of words to consider when training the model. Words with occurrence less than this count are ignored. I have used for min_count 1."
   ]
  },
  {
   "cell_type": "code",
   "execution_count": 23,
   "metadata": {},
   "outputs": [
    {
     "name": "stderr",
     "output_type": "stream",
     "text": [
      "C:\\Users\\PC\\Anaconda3\\lib\\site-packages\\gensim\\models\\base_any2vec.py:743: UserWarning: C extension not loaded, training will be slow. Install a C compiler and reinstall gensim for fast training.\n",
      "  \"C extension not loaded, training will be slow. \"\n"
     ]
    }
   ],
   "source": [
    "model = Word2Vec(sentences, min_count=1, size=100, window=3)"
   ]
  },
  {
   "cell_type": "markdown",
   "metadata": {},
   "source": [
    "Shows the most similar words present in the model:"
   ]
  },
  {
   "cell_type": "code",
   "execution_count": 24,
   "metadata": {},
   "outputs": [
    {
     "data": {
      "text/plain": [
       "[('light', 0.9998731017112732),\n",
       " ('new', 0.9998553991317749),\n",
       " ('bold', 0.9998409152030945),\n",
       " ('vibrant', 0.9997850656509399),\n",
       " ('available', 0.9997632503509521),\n",
       " ('complexion', 0.9997614622116089),\n",
       " ('glossy', 0.9997571110725403),\n",
       " ('blendable', 0.999735951423645),\n",
       " ('provide', 0.9997149705886841),\n",
       " ('nail', 0.9997074604034424)]"
      ]
     },
     "execution_count": 24,
     "metadata": {},
     "output_type": "execute_result"
    }
   ],
   "source": [
    "model.wv.most_similar('lipstick')"
   ]
  },
  {
   "cell_type": "code",
   "execution_count": 25,
   "metadata": {},
   "outputs": [
    {
     "data": {
      "text/plain": [
       "[('essential', 0.9990046620368958),\n",
       " ('silk', 0.9988724589347839),\n",
       " ('undertone', 0.9988225698471069),\n",
       " ('complex', 0.9987339973449707),\n",
       " ('rose', 0.9986394643783569),\n",
       " ('certified', 0.9986120462417603),\n",
       " ('panthenol', 0.9985828399658203),\n",
       " ('precious', 0.9985687732696533),\n",
       " ('gold', 0.9984335899353027),\n",
       " ('contains', 0.9984298944473267)]"
      ]
     },
     "execution_count": 25,
     "metadata": {},
     "output_type": "execute_result"
    }
   ],
   "source": [
    "model.wv.most_similar('powder')"
   ]
  },
  {
   "cell_type": "code",
   "execution_count": 26,
   "metadata": {},
   "outputs": [
    {
     "data": {
      "text/plain": [
       "[('package', 0.976388692855835),\n",
       " ('date', 0.9733823537826538),\n",
       " ('receive', 0.972027063369751),\n",
       " ('ingredient', 0.9605628848075867),\n",
       " ('time', 0.9588063359260559),\n",
       " ('isododecane', 0.9498820900917053),\n",
       " ('twisted', 0.947334349155426),\n",
       " ('talc', 0.9453209042549133),\n",
       " ('list', 0.9449949264526367),\n",
       " ('confidence', 0.9344406127929688)]"
      ]
     },
     "execution_count": 26,
     "metadata": {},
     "output_type": "execute_result"
    }
   ],
   "source": [
    "model.wv.most_similar('product')"
   ]
  },
  {
   "cell_type": "code",
   "execution_count": 27,
   "metadata": {},
   "outputs": [
    {
     "data": {
      "text/plain": [
       "[('cream', 0.9998112916946411),\n",
       " ('perfect', 0.9997818470001221),\n",
       " ('easy', 0.9997705221176147),\n",
       " ('lightweight', 0.99977046251297),\n",
       " ('tone', 0.9997384548187256),\n",
       " ('creamy', 0.9997354745864868),\n",
       " ('skin', 0.9997190237045288),\n",
       " ('soft', 0.9996866583824158),\n",
       " ('rich', 0.9996604323387146),\n",
       " ('colour', 0.9996539354324341)]"
      ]
     },
     "execution_count": 27,
     "metadata": {},
     "output_type": "execute_result"
    }
   ],
   "source": [
    "model.wv.most_similar('blush')"
   ]
  },
  {
   "cell_type": "markdown",
   "metadata": {},
   "source": [
    "#### Calculating the similarity \n",
    "\n",
    "I have used Word2vec model to calculate the similarity between two words:"
   ]
  },
  {
   "cell_type": "code",
   "execution_count": 28,
   "metadata": {},
   "outputs": [
    {
     "data": {
      "text/plain": [
       "0.9984949"
      ]
     },
     "execution_count": 28,
     "metadata": {},
     "output_type": "execute_result"
    }
   ],
   "source": [
    "model.wv.similarity('bronzer', 'blush')"
   ]
  },
  {
   "cell_type": "code",
   "execution_count": 29,
   "metadata": {},
   "outputs": [
    {
     "data": {
      "text/plain": [
       "0.83895385"
      ]
     },
     "execution_count": 29,
     "metadata": {},
     "output_type": "execute_result"
    }
   ],
   "source": [
    "model.wv.similarity('product', 'powder')"
   ]
  },
  {
   "cell_type": "markdown",
   "metadata": {},
   "source": [
    "Shows the odd word among them:"
   ]
  },
  {
   "cell_type": "code",
   "execution_count": 30,
   "metadata": {},
   "outputs": [
    {
     "name": "stderr",
     "output_type": "stream",
     "text": [
      "C:\\Users\\PC\\Anaconda3\\lib\\site-packages\\gensim\\models\\keyedvectors.py:877: FutureWarning: arrays to stack must be passed as a \"sequence\" type such as list or tuple. Support for non-sequence iterables such as generators is deprecated as of NumPy 1.16 and will raise an error in the future.\n",
      "  vectors = vstack(self.word_vec(word, use_norm=True) for word in used_words).astype(REAL)\n"
     ]
    },
    {
     "data": {
      "text/plain": [
       "'book'"
      ]
     },
     "execution_count": 30,
     "metadata": {},
     "output_type": "execute_result"
    }
   ],
   "source": [
    "model.wv.doesnt_match([\"blush\", \"lipstick\", \"book\"])"
   ]
  },
  {
   "cell_type": "markdown",
   "metadata": {},
   "source": [
    "Shows the total number of words in the vocabulary created from this dataset:"
   ]
  },
  {
   "cell_type": "code",
   "execution_count": 31,
   "metadata": {},
   "outputs": [
    {
     "name": "stderr",
     "output_type": "stream",
     "text": [
      "C:\\Users\\PC\\Anaconda3\\lib\\site-packages\\ipykernel_launcher.py:2: DeprecationWarning: Call to deprecated `syn0` (Attribute will be removed in 4.0.0, use self.vectors instead).\n",
      "  \n"
     ]
    },
    {
     "data": {
      "text/plain": [
       "(5016, 100)"
      ]
     },
     "execution_count": 31,
     "metadata": {},
     "output_type": "execute_result"
    }
   ],
   "source": [
    "model.wv.syn0.shape"
   ]
  },
  {
   "cell_type": "code",
   "execution_count": 32,
   "metadata": {},
   "outputs": [],
   "source": [
    "model.save('word2vec.model')"
   ]
  },
  {
   "cell_type": "markdown",
   "metadata": {},
   "source": [
    "### Bigrams\n",
    "\n",
    "I have used Gensim Phrases package to automatically detect common phrases (bigrams) from a list of sentences:"
   ]
  },
  {
   "cell_type": "code",
   "execution_count": 33,
   "metadata": {},
   "outputs": [],
   "source": [
    "bigrams = phrases.Phrases(sentences)"
   ]
  },
  {
   "cell_type": "code",
   "execution_count": 34,
   "metadata": {},
   "outputs": [
    {
     "name": "stderr",
     "output_type": "stream",
     "text": [
      "C:\\Users\\PC\\Anaconda3\\lib\\site-packages\\gensim\\models\\base_any2vec.py:743: UserWarning: C extension not loaded, training will be slow. Install a C compiler and reinstall gensim for fast training.\n",
      "  \"C extension not loaded, training will be slow. \"\n"
     ]
    }
   ],
   "source": [
    "bigrams[sentences]\n",
    "\n",
    "bigram_model = word2vec.Word2Vec(bigrams[sentences], size=100, min_count=3, iter=20)"
   ]
  },
  {
   "cell_type": "markdown",
   "metadata": {},
   "source": [
    "Shows the most similar words present in the model:"
   ]
  },
  {
   "cell_type": "code",
   "execution_count": 35,
   "metadata": {},
   "outputs": [
    {
     "data": {
      "text/plain": [
       "[('healthy_looking', 0.9951655864715576),\n",
       " ('illuminating', 0.9928097128868103),\n",
       " ('veil', 0.992239236831665),\n",
       " ('dot', 0.9901595115661621),\n",
       " ('light_medium', 0.990126371383667),\n",
       " ('glowing', 0.9897735714912415),\n",
       " ('four', 0.9892417192459106),\n",
       " ('high_definition', 0.9891389608383179),\n",
       " ('pressed_powder', 0.989067792892456),\n",
       " ('delicate', 0.9881424307823181)]"
      ]
     },
     "execution_count": 35,
     "metadata": {},
     "output_type": "execute_result"
    }
   ],
   "source": [
    "bigram_model.wv.most_similar('flush_color')"
   ]
  },
  {
   "cell_type": "code",
   "execution_count": 36,
   "metadata": {},
   "outputs": [
    {
     "data": {
      "text/plain": [
       "[('veil', 0.9951770901679993),\n",
       " ('flush_color', 0.9951655864715576),\n",
       " ('pressed_powder', 0.9948857426643372),\n",
       " ('light_medium', 0.994127631187439),\n",
       " ('illuminating', 0.9919139742851257),\n",
       " ('high_definition', 0.9914615154266357),\n",
       " ('perfection', 0.9913911819458008),\n",
       " ('enough', 0.9907406568527222),\n",
       " ('allowing', 0.9901889562606812),\n",
       " ('fluid', 0.9901399612426758)]"
      ]
     },
     "execution_count": 36,
     "metadata": {},
     "output_type": "execute_result"
    }
   ],
   "source": [
    "bigram_model.wv.most_similar('healthy_looking')"
   ]
  },
  {
   "cell_type": "code",
   "execution_count": 37,
   "metadata": {},
   "outputs": [
    {
     "data": {
      "text/plain": [
       "[('tint', 0.9947993159294128),\n",
       " ('leaving', 0.9945440292358398),\n",
       " ('whipped', 0.9940870404243469),\n",
       " ('wash', 0.993788480758667),\n",
       " ('alone', 0.9937129020690918),\n",
       " ('level', 0.992255449295044),\n",
       " ('refreshingly', 0.9914376735687256),\n",
       " ('pressed_powder', 0.9913636445999146),\n",
       " ('combine', 0.9913498759269714),\n",
       " ('perfection', 0.99062579870224)]"
      ]
     },
     "execution_count": 37,
     "metadata": {},
     "output_type": "execute_result"
    }
   ],
   "source": [
    "bigram_model.wv.most_similar('silky_smooth')"
   ]
  },
  {
   "cell_type": "code",
   "execution_count": 38,
   "metadata": {},
   "outputs": [
    {
     "data": {
      "text/plain": [
       "[('allowing', 0.9951421618461609),\n",
       " ('perfection', 0.9951174259185791),\n",
       " ('healthy_looking', 0.9948857426643372),\n",
       " ('veil', 0.993191659450531),\n",
       " ('level', 0.9925819039344788),\n",
       " ('e_l', 0.9925537109375),\n",
       " ('fluid', 0.9923195838928223),\n",
       " ('fit', 0.9921626448631287),\n",
       " ('alone', 0.9915205240249634),\n",
       " ('silky_smooth', 0.9913636445999146)]"
      ]
     },
     "execution_count": 38,
     "metadata": {},
     "output_type": "execute_result"
    }
   ],
   "source": [
    "bigram_model.wv.most_similar('pressed_powder')"
   ]
  },
  {
   "cell_type": "code",
   "execution_count": 39,
   "metadata": {},
   "outputs": [
    {
     "data": {
      "text/plain": [
       "0.99136376"
      ]
     },
     "execution_count": 39,
     "metadata": {},
     "output_type": "execute_result"
    }
   ],
   "source": [
    "bigram_model.wv.similarity('pressed_powder', 'silky_smooth')"
   ]
  },
  {
   "cell_type": "code",
   "execution_count": 40,
   "metadata": {},
   "outputs": [
    {
     "data": {
      "text/plain": [
       "0.9774893"
      ]
     },
     "execution_count": 40,
     "metadata": {},
     "output_type": "execute_result"
    }
   ],
   "source": [
    "bigram_model.wv.similarity('healthy_looking', 'multi_dimensional')"
   ]
  },
  {
   "cell_type": "markdown",
   "metadata": {},
   "source": [
    "In this step given positive and negative words I found two best words that are similar to positive and opposite to negative words:"
   ]
  },
  {
   "cell_type": "code",
   "execution_count": 43,
   "metadata": {},
   "outputs": [
    {
     "data": {
      "text/plain": [
       "[('alone', 0.996069073677063), ('wash', 0.9956036806106567)]"
      ]
     },
     "execution_count": 43,
     "metadata": {},
     "output_type": "execute_result"
    }
   ],
   "source": [
    "w1 = [\"silky_smooth\",\"healthy_looking\"]\n",
    "w2 = [\"flush_color\"]\n",
    "bigram_model.wv.most_similar (positive=w1,negative=w2,topn=2)"
   ]
  },
  {
   "cell_type": "code",
   "execution_count": 42,
   "metadata": {},
   "outputs": [
    {
     "name": "stderr",
     "output_type": "stream",
     "text": [
      "C:\\Users\\PC\\Anaconda3\\lib\\site-packages\\ipykernel_launcher.py:1: DeprecationWarning: Call to deprecated `syn0` (Attribute will be removed in 4.0.0, use self.vectors instead).\n",
      "  \"\"\"Entry point for launching an IPython kernel.\n"
     ]
    },
    {
     "data": {
      "text/plain": [
       "(2778, 100)"
      ]
     },
     "execution_count": 42,
     "metadata": {},
     "output_type": "execute_result"
    }
   ],
   "source": [
    "bigram_model.wv.syn0.shape"
   ]
  },
  {
   "cell_type": "markdown",
   "metadata": {},
   "source": [
    "Save the word2vec model"
   ]
  },
  {
   "cell_type": "code",
   "execution_count": 44,
   "metadata": {},
   "outputs": [],
   "source": [
    "bigram_model.save('word2vec_bigram.model')"
   ]
  },
  {
   "cell_type": "markdown",
   "metadata": {},
   "source": [
    "### Word2vec for Tags"
   ]
  },
  {
   "cell_type": "code",
   "execution_count": 45,
   "metadata": {},
   "outputs": [],
   "source": [
    "sent = [row.split() for row in text['tag_list']]"
   ]
  },
  {
   "cell_type": "code",
   "execution_count": 46,
   "metadata": {},
   "outputs": [
    {
     "data": {
      "text/plain": [
       "[['vegan', 'cruelty', 'free'],\n",
       " ['vegan', 'cruelty', 'free'],\n",
       " ['vegan', 'cruelty', 'free'],\n",
       " ['vegan', 'cruelty', 'free'],\n",
       " ['organic', 'chemical', 'free']]"
      ]
     },
     "execution_count": 46,
     "metadata": {},
     "output_type": "execute_result"
    }
   ],
   "source": [
    "sent[0:5]"
   ]
  },
  {
   "cell_type": "code",
   "execution_count": 47,
   "metadata": {},
   "outputs": [
    {
     "name": "stderr",
     "output_type": "stream",
     "text": [
      "C:\\Users\\PC\\Anaconda3\\lib\\site-packages\\gensim\\models\\base_any2vec.py:743: UserWarning: C extension not loaded, training will be slow. Install a C compiler and reinstall gensim for fast training.\n",
      "  \"C extension not loaded, training will be slow. \"\n"
     ]
    }
   ],
   "source": [
    "tag_model = Word2Vec(sent, min_count=1, size=50, window=5)"
   ]
  },
  {
   "cell_type": "markdown",
   "metadata": {},
   "source": [
    "Shows the most similar words present in the model:"
   ]
  },
  {
   "cell_type": "code",
   "execution_count": 48,
   "metadata": {},
   "outputs": [
    {
     "data": {
      "text/plain": [
       "[('alcohol', 0.23045749962329865),\n",
       " ('cruelty', 0.21317705512046814),\n",
       " ('dairy', 0.19818338751792908),\n",
       " ('usda', 0.18433375656604767),\n",
       " ('gluten', 0.18179476261138916),\n",
       " ('gmo', 0.1401987075805664),\n",
       " ('oil', 0.12144997715950012),\n",
       " ('silicone', 0.12121882289648056),\n",
       " ('ewg', 0.10684055835008621),\n",
       " ('peanut', 0.10372351109981537)]"
      ]
     },
     "execution_count": 48,
     "metadata": {},
     "output_type": "execute_result"
    }
   ],
   "source": [
    "tag_model.wv.most_similar('vegan')"
   ]
  },
  {
   "cell_type": "code",
   "execution_count": 49,
   "metadata": {},
   "outputs": [
    {
     "data": {
      "text/plain": [
       "[('cruelty', 0.29218629002571106),\n",
       " ('free', 0.25725415349006653),\n",
       " ('canadian', 0.23358379304409027),\n",
       " ('talc', 0.22705349326133728),\n",
       " ('organic', 0.21651409566402435),\n",
       " ('water', 0.18804243206977844),\n",
       " ('peanut', 0.17986589670181274),\n",
       " ('usda', 0.17492470145225525),\n",
       " ('non', 0.1721552461385727),\n",
       " ('product', 0.14651453495025635)]"
      ]
     },
     "execution_count": 49,
     "metadata": {},
     "output_type": "execute_result"
    }
   ],
   "source": [
    "tag_model.wv.most_similar('gmo')"
   ]
  },
  {
   "cell_type": "code",
   "execution_count": 50,
   "metadata": {},
   "outputs": [
    {
     "data": {
      "text/plain": [
       "[('ewg', 0.240944504737854),\n",
       " ('gmo', 0.21651409566402435),\n",
       " ('trade', 0.17358337342739105),\n",
       " ('hypoallergenic', 0.16875968873500824),\n",
       " ('cruelty', 0.15045318007469177),\n",
       " ('ecocert', 0.13400912284851074),\n",
       " ('free', 0.10918927192687988),\n",
       " ('non', 0.10645356774330139),\n",
       " ('no', 0.09891332685947418),\n",
       " ('oil', 0.09390844404697418)]"
      ]
     },
     "execution_count": 50,
     "metadata": {},
     "output_type": "execute_result"
    }
   ],
   "source": [
    "tag_model.wv.most_similar('organic')"
   ]
  },
  {
   "cell_type": "markdown",
   "metadata": {},
   "source": [
    "### Reduce word vector dimensionality with PCA and t-SNE\n",
    "\n",
    "I have used dimensionality reduction to reduce the number of dimensions from 50 to 3. In particular I have used PCA and t-SNE."
   ]
  },
  {
   "cell_type": "code",
   "execution_count": 57,
   "metadata": {},
   "outputs": [
    {
     "data": {
      "text/plain": [
       "2778"
      ]
     },
     "execution_count": 57,
     "metadata": {},
     "output_type": "execute_result"
    }
   ],
   "source": [
    "vocab = list(bigram_model.wv.vocab)\n",
    "len(vocab)"
   ]
  },
  {
   "cell_type": "markdown",
   "metadata": {},
   "source": [
    "The vector representing each word:"
   ]
  },
  {
   "cell_type": "code",
   "execution_count": 58,
   "metadata": {},
   "outputs": [
    {
     "name": "stderr",
     "output_type": "stream",
     "text": [
      "C:\\Users\\PC\\Anaconda3\\lib\\site-packages\\ipykernel_launcher.py:1: DeprecationWarning: Call to deprecated `__getitem__` (Method will be removed in 4.0.0, use self.wv.__getitem__() instead).\n",
      "  \"\"\"Entry point for launching an IPython kernel.\n"
     ]
    }
   ],
   "source": [
    "X = bigram_model[vocab]"
   ]
  },
  {
   "cell_type": "markdown",
   "metadata": {},
   "source": [
    "#### PCA"
   ]
  },
  {
   "cell_type": "code",
   "execution_count": 59,
   "metadata": {},
   "outputs": [
    {
     "data": {
      "text/html": [
       "<div>\n",
       "<style scoped>\n",
       "    .dataframe tbody tr th:only-of-type {\n",
       "        vertical-align: middle;\n",
       "    }\n",
       "\n",
       "    .dataframe tbody tr th {\n",
       "        vertical-align: top;\n",
       "    }\n",
       "\n",
       "    .dataframe thead th {\n",
       "        text-align: right;\n",
       "    }\n",
       "</style>\n",
       "<table border=\"1\" class=\"dataframe\">\n",
       "  <thead>\n",
       "    <tr style=\"text-align: right;\">\n",
       "      <th></th>\n",
       "      <th>x</th>\n",
       "      <th>y</th>\n",
       "      <th>z</th>\n",
       "    </tr>\n",
       "  </thead>\n",
       "  <tbody>\n",
       "    <tr>\n",
       "      <th>lippie</th>\n",
       "      <td>-0.436240</td>\n",
       "      <td>0.189911</td>\n",
       "      <td>-0.214933</td>\n",
       "    </tr>\n",
       "    <tr>\n",
       "      <th>pencil</th>\n",
       "      <td>-2.699123</td>\n",
       "      <td>3.385368</td>\n",
       "      <td>1.178507</td>\n",
       "    </tr>\n",
       "    <tr>\n",
       "      <th>long_wearing</th>\n",
       "      <td>-1.999066</td>\n",
       "      <td>2.291777</td>\n",
       "      <td>-0.453971</td>\n",
       "    </tr>\n",
       "  </tbody>\n",
       "</table>\n",
       "</div>"
      ],
      "text/plain": [
       "                     x         y         z\n",
       "lippie       -0.436240  0.189911 -0.214933\n",
       "pencil       -2.699123  3.385368  1.178507\n",
       "long_wearing -1.999066  2.291777 -0.453971"
      ]
     },
     "execution_count": 59,
     "metadata": {},
     "output_type": "execute_result"
    }
   ],
   "source": [
    "pca = PCA(n_components=3, random_state=11, whiten=True)\n",
    "pca_result = pca.fit_transform(X)\n",
    "\n",
    "tmp = pd.DataFrame(pca_result, index=vocab, columns=['x', 'y', 'z'])\n",
    "\n",
    "tmp.head(3)"
   ]
  },
  {
   "cell_type": "code",
   "execution_count": 60,
   "metadata": {},
   "outputs": [],
   "source": [
    "tmp = tmp.sample(100)"
   ]
  },
  {
   "cell_type": "code",
   "execution_count": 61,
   "metadata": {},
   "outputs": [
    {
     "data": {
      "image/png": "[encoded data removed]",
      "text/plain": [
       "<Figure size 1080x1080 with 1 Axes>"
      ]
     },
     "metadata": {
      "needs_background": "light"
     },
     "output_type": "display_data"
    }
   ],
   "source": [
    "fig = plt.figure(figsize=(15, 15))\n",
    "ax = fig.add_subplot(111, projection='3d')\n",
    "\n",
    "ax.scatter(tmp['x'], tmp['y'], tmp['z'], alpha = 0.5)\n",
    "\n",
    "for word, row in tmp.iterrows():\n",
    "    x, y, z = row\n",
    "    pos = (x, y, z)\n",
    "    ax.text(x, y, z, s=word, size=8, zorder=1, color='k')\n",
    "    \n",
    "plt.title('PCA')\n",
    "plt.show()"
   ]
  },
  {
   "cell_type": "markdown",
   "metadata": {},
   "source": [
    "#### TSNE\n",
    "\n",
    "T-SNE is a useful tool to visualize high-dimensional data by dimension reduction while keeping relative pairwise distance between points. T-SNE looking for a new data representation where the neighborhood relations are preserved. "
   ]
  },
  {
   "cell_type": "code",
   "execution_count": 62,
   "metadata": {},
   "outputs": [
    {
     "data": {
      "text/html": [
       "<div>\n",
       "<style scoped>\n",
       "    .dataframe tbody tr th:only-of-type {\n",
       "        vertical-align: middle;\n",
       "    }\n",
       "\n",
       "    .dataframe tbody tr th {\n",
       "        vertical-align: top;\n",
       "    }\n",
       "\n",
       "    .dataframe thead th {\n",
       "        text-align: right;\n",
       "    }\n",
       "</style>\n",
       "<table border=\"1\" class=\"dataframe\">\n",
       "  <thead>\n",
       "    <tr style=\"text-align: right;\">\n",
       "      <th></th>\n",
       "      <th>x</th>\n",
       "      <th>y</th>\n",
       "      <th>z</th>\n",
       "    </tr>\n",
       "  </thead>\n",
       "  <tbody>\n",
       "    <tr>\n",
       "      <th>lippie</th>\n",
       "      <td>-4.341869</td>\n",
       "      <td>5.552348</td>\n",
       "      <td>0.090714</td>\n",
       "    </tr>\n",
       "    <tr>\n",
       "      <th>pencil</th>\n",
       "      <td>-8.331988</td>\n",
       "      <td>17.812258</td>\n",
       "      <td>-8.053832</td>\n",
       "    </tr>\n",
       "    <tr>\n",
       "      <th>long_wearing</th>\n",
       "      <td>-5.802444</td>\n",
       "      <td>17.370501</td>\n",
       "      <td>-4.650693</td>\n",
       "    </tr>\n",
       "  </tbody>\n",
       "</table>\n",
       "</div>"
      ],
      "text/plain": [
       "                     x          y         z\n",
       "lippie       -4.341869   5.552348  0.090714\n",
       "pencil       -8.331988  17.812258 -8.053832\n",
       "long_wearing -5.802444  17.370501 -4.650693"
      ]
     },
     "execution_count": 62,
     "metadata": {},
     "output_type": "execute_result"
    }
   ],
   "source": [
    "tsne = TSNE(n_components=3, random_state=11)\n",
    "tsne_result = tsne.fit_transform(X)\n",
    "\n",
    "tmp = pd.DataFrame(tsne_result, index=vocab, columns=['x', 'y', 'z'])\n",
    "\n",
    "tmp.head(3)"
   ]
  },
  {
   "cell_type": "code",
   "execution_count": 92,
   "metadata": {},
   "outputs": [],
   "source": [
    "tmp = tmp.sample(100)"
   ]
  },
  {
   "cell_type": "code",
   "execution_count": 93,
   "metadata": {},
   "outputs": [
    {
     "data": {
      "image/png": "[encoded data removed]",
      "text/plain": [
       "<Figure size 1080x1080 with 1 Axes>"
      ]
     },
     "metadata": {},
     "output_type": "display_data"
    }
   ],
   "source": [
    "fig = plt.figure(figsize=(15, 15))\n",
    "ax = fig.add_subplot(111, projection='3d')\n",
    "\n",
    "ax.scatter(tmp['x'], tmp['y'], tmp['z'], alpha = 0.5)\n",
    "\n",
    "for word, row in tmp.iterrows():\n",
    "    x, y, z = row\n",
    "    pos = (x, y, z)\n",
    "    ax.text(x, y, z, s=word, size=8, zorder=1, color='k')\n",
    "    \n",
    "plt.title('t-SNE')\n",
    "plt.show()"
   ]
  },
  {
   "cell_type": "markdown",
   "metadata": {},
   "source": [
    "## Summary\n",
    "\n",
    "This project was aimed Gensim implementation of Word2Vec by using python with an example of generating word embedding for products data. I started with pre-process data where I applied process in which sentences are converted to a list of words, removed stopwords and applied lemmatizing. Then I created Word2Vec model for each example.  The dataset  include such features as name of product, description and tags. I have generated word embedding for each of those examples and then compare similarities between them. Finally I used T-SNE to visualize received word embeddings. "
   ]
  },
  {
   "cell_type": "code",
   "execution_count": null,
   "metadata": {},
   "outputs": [],
   "source": []
  }
 ],
 "metadata": {
  "kernelspec": {
   "display_name": "Python 3 (ipykernel)",
   "language": "python",
   "name": "python3"
  },
  "language_info": {
   "codemirror_mode": {
    "name": "ipython",
    "version": 3
   },
   "file_extension": ".py",
   "mimetype": "text/x-python",
   "name": "python",
   "nbconvert_exporter": "python",
   "pygments_lexer": "ipython3",
   "version": "3.12.4"
  }
 },
 "nbformat": 4,
 "nbformat_minor": 4
}
