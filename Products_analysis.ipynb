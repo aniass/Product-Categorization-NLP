{
 "cells": [
  {
   "cell_type": "markdown",
   "metadata": {},
   "source": [
    "# Product Categorization EDA\n",
    "\n",
    "## Data Analysis of cosmetic products data.\n",
    "\n",
    "The project concerns exploratory data analysis of cosmetic products. The dataset contains the details about makeup products such as description, brand, category, name, etc. \n",
    "\n",
    "### Dataset\n",
    "\n",
    "The dataset contains the details about makeup products such as brand, category, description, name, etc. It comes from http://makeup-api.herokuapp.com/.\n",
    "\n",
    "Attributes:\n",
    "\n",
    "* Brand (text: name of the brand)\n",
    "* Category (text: category of products)\n",
    "* Currency (text)\n",
    "* Description (text: product description)\n",
    "* Id (numeric)\n",
    "* Name (numeric: name of the product)\n",
    "* Price (numeric: product price)\n",
    "* Price sign (text)\n",
    "* Product type (text)\n",
    "* Rating (numeric)\n",
    "* Tag list (text)\n"
   ]
  },
  {
   "cell_type": "markdown",
   "metadata": {},
   "source": [
    "## Import libriaries and data"
   ]
  },
  {
   "cell_type": "code",
   "execution_count": 1,
   "metadata": {},
   "outputs": [],
   "source": [
    "import pandas as pd\n",
    "import numpy as np\n",
    "import matplotlib.pyplot as plt\n",
    "import seaborn as sns\n",
    "%matplotlib inline\n",
    "\n",
    "import warnings\n",
    "warnings.filterwarnings(\"ignore\")"
   ]
  },
  {
   "cell_type": "code",
   "execution_count": 2,
   "metadata": {
    "scrolled": true
   },
   "outputs": [
    {
     "data": {
      "text/html": [
       "<div>\n",
       "<style scoped>\n",
       "    .dataframe tbody tr th:only-of-type {\n",
       "        vertical-align: middle;\n",
       "    }\n",
       "\n",
       "    .dataframe tbody tr th {\n",
       "        vertical-align: top;\n",
       "    }\n",
       "\n",
       "    .dataframe thead th {\n",
       "        text-align: right;\n",
       "    }\n",
       "</style>\n",
       "<table border=\"1\" class=\"dataframe\">\n",
       "  <thead>\n",
       "    <tr style=\"text-align: right;\">\n",
       "      <th></th>\n",
       "      <th>brand</th>\n",
       "      <th>category</th>\n",
       "      <th>currency</th>\n",
       "      <th>description</th>\n",
       "      <th>id</th>\n",
       "      <th>name</th>\n",
       "      <th>price</th>\n",
       "      <th>price_sign</th>\n",
       "      <th>product_type</th>\n",
       "      <th>rating</th>\n",
       "      <th>tag_list</th>\n",
       "    </tr>\n",
       "  </thead>\n",
       "  <tbody>\n",
       "    <tr>\n",
       "      <th>0</th>\n",
       "      <td>colourpop</td>\n",
       "      <td>pencil</td>\n",
       "      <td>CAD</td>\n",
       "      <td>Lippie Pencil A long-wearing and high-intensit...</td>\n",
       "      <td>1048</td>\n",
       "      <td>Lippie Pencil</td>\n",
       "      <td>5.0</td>\n",
       "      <td>$</td>\n",
       "      <td>lip_liner</td>\n",
       "      <td>NaN</td>\n",
       "      <td>['Vegan', 'cruelty free']</td>\n",
       "    </tr>\n",
       "    <tr>\n",
       "      <th>1</th>\n",
       "      <td>colourpop</td>\n",
       "      <td>lipstick</td>\n",
       "      <td>CAD</td>\n",
       "      <td>Blotted Lip Sheer matte lipstick that creates ...</td>\n",
       "      <td>1047</td>\n",
       "      <td>Blotted Lip</td>\n",
       "      <td>5.5</td>\n",
       "      <td>$</td>\n",
       "      <td>lipstick</td>\n",
       "      <td>NaN</td>\n",
       "      <td>['Vegan', 'cruelty free']</td>\n",
       "    </tr>\n",
       "    <tr>\n",
       "      <th>2</th>\n",
       "      <td>colourpop</td>\n",
       "      <td>lipstick</td>\n",
       "      <td>CAD</td>\n",
       "      <td>Lippie Stix Formula contains Vitamin E, Mango,...</td>\n",
       "      <td>1046</td>\n",
       "      <td>Lippie Stix</td>\n",
       "      <td>5.5</td>\n",
       "      <td>$</td>\n",
       "      <td>lipstick</td>\n",
       "      <td>NaN</td>\n",
       "      <td>['Vegan', 'cruelty free']</td>\n",
       "    </tr>\n",
       "    <tr>\n",
       "      <th>3</th>\n",
       "      <td>colourpop</td>\n",
       "      <td>liquid</td>\n",
       "      <td>CAD</td>\n",
       "      <td>Developed for the Selfie Age, our buildable fu...</td>\n",
       "      <td>1045</td>\n",
       "      <td>No Filter Foundation</td>\n",
       "      <td>12.0</td>\n",
       "      <td>$</td>\n",
       "      <td>foundation</td>\n",
       "      <td>NaN</td>\n",
       "      <td>['Vegan', 'cruelty free']</td>\n",
       "    </tr>\n",
       "    <tr>\n",
       "      <th>4</th>\n",
       "      <td>boosh</td>\n",
       "      <td>lipstick</td>\n",
       "      <td>CAD</td>\n",
       "      <td>All of our products are free from lead and hea...</td>\n",
       "      <td>1044</td>\n",
       "      <td>Lipstick</td>\n",
       "      <td>26.0</td>\n",
       "      <td>$</td>\n",
       "      <td>lipstick</td>\n",
       "      <td>NaN</td>\n",
       "      <td>['Organic', 'Chemical Free']</td>\n",
       "    </tr>\n",
       "  </tbody>\n",
       "</table>\n",
       "</div>"
      ],
      "text/plain": [
       "       brand  category currency  \\\n",
       "0  colourpop    pencil      CAD   \n",
       "1  colourpop  lipstick      CAD   \n",
       "2  colourpop  lipstick      CAD   \n",
       "3  colourpop    liquid      CAD   \n",
       "4      boosh  lipstick      CAD   \n",
       "\n",
       "                                         description    id  \\\n",
       "0  Lippie Pencil A long-wearing and high-intensit...  1048   \n",
       "1  Blotted Lip Sheer matte lipstick that creates ...  1047   \n",
       "2  Lippie Stix Formula contains Vitamin E, Mango,...  1046   \n",
       "3  Developed for the Selfie Age, our buildable fu...  1045   \n",
       "4  All of our products are free from lead and hea...  1044   \n",
       "\n",
       "                   name  price price_sign product_type  rating  \\\n",
       "0         Lippie Pencil    5.0          $    lip_liner     NaN   \n",
       "1           Blotted Lip    5.5          $     lipstick     NaN   \n",
       "2           Lippie Stix    5.5          $     lipstick     NaN   \n",
       "3  No Filter Foundation   12.0          $   foundation     NaN   \n",
       "4              Lipstick   26.0          $     lipstick     NaN   \n",
       "\n",
       "                       tag_list  \n",
       "0     ['Vegan', 'cruelty free']  \n",
       "1     ['Vegan', 'cruelty free']  \n",
       "2     ['Vegan', 'cruelty free']  \n",
       "3     ['Vegan', 'cruelty free']  \n",
       "4  ['Organic', 'Chemical Free']  "
      ]
     },
     "execution_count": 2,
     "metadata": {},
     "output_type": "execute_result"
    }
   ],
   "source": [
    "df = pd.read_csv('data\\products_final.csv', header=0,index_col=0)\n",
    "df.head()"
   ]
  },
  {
   "cell_type": "markdown",
   "metadata": {},
   "source": [
    "First observations:"
   ]
  },
  {
   "cell_type": "code",
   "execution_count": 123,
   "metadata": {},
   "outputs": [
    {
     "name": "stdout",
     "output_type": "stream",
     "text": [
      "Shape of data:\n",
      "\n",
      "(931, 11)\n"
     ]
    }
   ],
   "source": [
    "print('Shape of data:\\n')\n",
    "print(df.shape)"
   ]
  },
  {
   "cell_type": "code",
   "execution_count": 4,
   "metadata": {},
   "outputs": [
    {
     "name": "stdout",
     "output_type": "stream",
     "text": [
      "<class 'pandas.core.frame.DataFrame'>\n",
      "Index: 931 entries, 0 to 930\n",
      "Data columns (total 11 columns):\n",
      " #   Column        Non-Null Count  Dtype  \n",
      "---  ------        --------------  -----  \n",
      " 0   brand         919 non-null    object \n",
      " 1   category      507 non-null    object \n",
      " 2   currency      368 non-null    object \n",
      " 3   description   906 non-null    object \n",
      " 4   id            931 non-null    int64  \n",
      " 5   name          931 non-null    object \n",
      " 6   price         917 non-null    float64\n",
      " 7   price_sign    368 non-null    object \n",
      " 8   product_type  931 non-null    object \n",
      " 9   rating        340 non-null    float64\n",
      " 10  tag_list      931 non-null    object \n",
      "dtypes: float64(2), int64(1), object(8)\n",
      "memory usage: 87.3+ KB\n"
     ]
    }
   ],
   "source": [
    "df.info()"
   ]
  },
  {
   "cell_type": "markdown",
   "metadata": {},
   "source": [
    "Type of data:"
   ]
  },
  {
   "cell_type": "code",
   "execution_count": 5,
   "metadata": {
    "scrolled": true
   },
   "outputs": [
    {
     "data": {
      "text/plain": [
       "brand            object\n",
       "category         object\n",
       "currency         object\n",
       "description      object\n",
       "id                int64\n",
       "name             object\n",
       "price           float64\n",
       "price_sign       object\n",
       "product_type     object\n",
       "rating          float64\n",
       "tag_list         object\n",
       "dtype: object"
      ]
     },
     "execution_count": 5,
     "metadata": {},
     "output_type": "execute_result"
    }
   ],
   "source": [
    "df.dtypes"
   ]
  },
  {
   "cell_type": "markdown",
   "metadata": {},
   "source": [
    "Columns:"
   ]
  },
  {
   "cell_type": "code",
   "execution_count": 6,
   "metadata": {},
   "outputs": [
    {
     "data": {
      "text/plain": [
       "Index(['brand', 'category', 'currency', 'description', 'id', 'name', 'price',\n",
       "       'price_sign', 'product_type', 'rating', 'tag_list'],\n",
       "      dtype='object')"
      ]
     },
     "execution_count": 6,
     "metadata": {},
     "output_type": "execute_result"
    }
   ],
   "source": [
    "df.columns"
   ]
  },
  {
   "cell_type": "markdown",
   "metadata": {},
   "source": [
    "Deleting duplicate rows:"
   ]
  },
  {
   "cell_type": "code",
   "execution_count": 3,
   "metadata": {},
   "outputs": [],
   "source": [
    "df.drop_duplicates(inplace=True)"
   ]
  },
  {
   "cell_type": "markdown",
   "metadata": {},
   "source": [
    "Checking unique values in each column:"
   ]
  },
  {
   "cell_type": "code",
   "execution_count": 8,
   "metadata": {},
   "outputs": [
    {
     "name": "stdout",
     "output_type": "stream",
     "text": [
      "Number of unique values in brand: 57\n",
      "Number of unique values in category: 14\n",
      "Number of unique values in currency: 3\n",
      "Number of unique values in description: 865\n",
      "Number of unique values in id: 931\n",
      "Number of unique values in name: 928\n",
      "Number of unique values in price: 157\n",
      "Number of unique values in price_sign: 2\n",
      "Number of unique values in product_type: 10\n",
      "Number of unique values in rating: 26\n",
      "Number of unique values in tag_list: 34\n"
     ]
    }
   ],
   "source": [
    "for column in df:\n",
    "    print(f'Number of unique values in {column}:', df[column].nunique())"
   ]
  },
  {
   "cell_type": "markdown",
   "metadata": {},
   "source": [
    "Checking the missing values in data:"
   ]
  },
  {
   "cell_type": "code",
   "execution_count": 9,
   "metadata": {},
   "outputs": [
    {
     "data": {
      "text/plain": [
       "brand            12\n",
       "category        424\n",
       "currency        563\n",
       "description      25\n",
       "id                0\n",
       "name              0\n",
       "price            14\n",
       "price_sign      563\n",
       "product_type      0\n",
       "rating          591\n",
       "tag_list          0\n",
       "dtype: int64"
      ]
     },
     "execution_count": 9,
     "metadata": {},
     "output_type": "execute_result"
    }
   ],
   "source": [
    "df.isnull().sum()  "
   ]
  },
  {
   "cell_type": "markdown",
   "metadata": {},
   "source": [
    "Examples with missing data:"
   ]
  },
  {
   "cell_type": "code",
   "execution_count": 10,
   "metadata": {},
   "outputs": [
    {
     "data": {
      "text/html": [
       "<div>\n",
       "<style scoped>\n",
       "    .dataframe tbody tr th:only-of-type {\n",
       "        vertical-align: middle;\n",
       "    }\n",
       "\n",
       "    .dataframe tbody tr th {\n",
       "        vertical-align: top;\n",
       "    }\n",
       "\n",
       "    .dataframe thead th {\n",
       "        text-align: right;\n",
       "    }\n",
       "</style>\n",
       "<table border=\"1\" class=\"dataframe\">\n",
       "  <thead>\n",
       "    <tr style=\"text-align: right;\">\n",
       "      <th></th>\n",
       "      <th>brand</th>\n",
       "      <th>category</th>\n",
       "      <th>currency</th>\n",
       "      <th>description</th>\n",
       "      <th>id</th>\n",
       "      <th>name</th>\n",
       "      <th>price</th>\n",
       "      <th>price_sign</th>\n",
       "      <th>product_type</th>\n",
       "      <th>rating</th>\n",
       "      <th>tag_list</th>\n",
       "    </tr>\n",
       "  </thead>\n",
       "  <tbody>\n",
       "    <tr>\n",
       "      <th>0</th>\n",
       "      <td>colourpop</td>\n",
       "      <td>pencil</td>\n",
       "      <td>CAD</td>\n",
       "      <td>Lippie Pencil A long-wearing and high-intensit...</td>\n",
       "      <td>1048</td>\n",
       "      <td>Lippie Pencil</td>\n",
       "      <td>5.0</td>\n",
       "      <td>$</td>\n",
       "      <td>lip_liner</td>\n",
       "      <td>NaN</td>\n",
       "      <td>['Vegan', 'cruelty free']</td>\n",
       "    </tr>\n",
       "    <tr>\n",
       "      <th>1</th>\n",
       "      <td>colourpop</td>\n",
       "      <td>lipstick</td>\n",
       "      <td>CAD</td>\n",
       "      <td>Blotted Lip Sheer matte lipstick that creates ...</td>\n",
       "      <td>1047</td>\n",
       "      <td>Blotted Lip</td>\n",
       "      <td>5.5</td>\n",
       "      <td>$</td>\n",
       "      <td>lipstick</td>\n",
       "      <td>NaN</td>\n",
       "      <td>['Vegan', 'cruelty free']</td>\n",
       "    </tr>\n",
       "    <tr>\n",
       "      <th>2</th>\n",
       "      <td>colourpop</td>\n",
       "      <td>lipstick</td>\n",
       "      <td>CAD</td>\n",
       "      <td>Lippie Stix Formula contains Vitamin E, Mango,...</td>\n",
       "      <td>1046</td>\n",
       "      <td>Lippie Stix</td>\n",
       "      <td>5.5</td>\n",
       "      <td>$</td>\n",
       "      <td>lipstick</td>\n",
       "      <td>NaN</td>\n",
       "      <td>['Vegan', 'cruelty free']</td>\n",
       "    </tr>\n",
       "  </tbody>\n",
       "</table>\n",
       "</div>"
      ],
      "text/plain": [
       "       brand  category currency  \\\n",
       "0  colourpop    pencil      CAD   \n",
       "1  colourpop  lipstick      CAD   \n",
       "2  colourpop  lipstick      CAD   \n",
       "\n",
       "                                         description    id           name  \\\n",
       "0  Lippie Pencil A long-wearing and high-intensit...  1048  Lippie Pencil   \n",
       "1  Blotted Lip Sheer matte lipstick that creates ...  1047    Blotted Lip   \n",
       "2  Lippie Stix Formula contains Vitamin E, Mango,...  1046    Lippie Stix   \n",
       "\n",
       "   price price_sign product_type  rating                   tag_list  \n",
       "0    5.0          $    lip_liner     NaN  ['Vegan', 'cruelty free']  \n",
       "1    5.5          $     lipstick     NaN  ['Vegan', 'cruelty free']  \n",
       "2    5.5          $     lipstick     NaN  ['Vegan', 'cruelty free']  "
      ]
     },
     "execution_count": 10,
     "metadata": {},
     "output_type": "execute_result"
    }
   ],
   "source": [
    "df[df.isnull().any(axis=1)].head(3)"
   ]
  },
  {
   "cell_type": "markdown",
   "metadata": {},
   "source": [
    "The dataset includes information about 931 products placed in 11 columns. After first observations one can see that there are missing values. The columns names are explicit, so it can easily infer that what one can see in this dataset."
   ]
  },
  {
   "cell_type": "markdown",
   "metadata": {},
   "source": [
    "Checking only numerical data:"
   ]
  },
  {
   "cell_type": "code",
   "execution_count": 11,
   "metadata": {},
   "outputs": [
    {
     "data": {
      "text/html": [
       "<div>\n",
       "<style scoped>\n",
       "    .dataframe tbody tr th:only-of-type {\n",
       "        vertical-align: middle;\n",
       "    }\n",
       "\n",
       "    .dataframe tbody tr th {\n",
       "        vertical-align: top;\n",
       "    }\n",
       "\n",
       "    .dataframe thead th {\n",
       "        text-align: right;\n",
       "    }\n",
       "</style>\n",
       "<table border=\"1\" class=\"dataframe\">\n",
       "  <thead>\n",
       "    <tr style=\"text-align: right;\">\n",
       "      <th></th>\n",
       "      <th>id</th>\n",
       "      <th>price</th>\n",
       "      <th>rating</th>\n",
       "    </tr>\n",
       "  </thead>\n",
       "  <tbody>\n",
       "    <tr>\n",
       "      <th>0</th>\n",
       "      <td>1048</td>\n",
       "      <td>5.0</td>\n",
       "      <td>NaN</td>\n",
       "    </tr>\n",
       "    <tr>\n",
       "      <th>1</th>\n",
       "      <td>1047</td>\n",
       "      <td>5.5</td>\n",
       "      <td>NaN</td>\n",
       "    </tr>\n",
       "    <tr>\n",
       "      <th>2</th>\n",
       "      <td>1046</td>\n",
       "      <td>5.5</td>\n",
       "      <td>NaN</td>\n",
       "    </tr>\n",
       "    <tr>\n",
       "      <th>3</th>\n",
       "      <td>1045</td>\n",
       "      <td>12.0</td>\n",
       "      <td>NaN</td>\n",
       "    </tr>\n",
       "    <tr>\n",
       "      <th>4</th>\n",
       "      <td>1044</td>\n",
       "      <td>26.0</td>\n",
       "      <td>NaN</td>\n",
       "    </tr>\n",
       "  </tbody>\n",
       "</table>\n",
       "</div>"
      ],
      "text/plain": [
       "     id  price  rating\n",
       "0  1048    5.0     NaN\n",
       "1  1047    5.5     NaN\n",
       "2  1046    5.5     NaN\n",
       "3  1045   12.0     NaN\n",
       "4  1044   26.0     NaN"
      ]
     },
     "execution_count": 11,
     "metadata": {},
     "output_type": "execute_result"
    }
   ],
   "source": [
    "df_two = df._get_numeric_data()\n",
    "df_two.head()"
   ]
  },
  {
   "cell_type": "markdown",
   "metadata": {},
   "source": [
    "Exchange of columns:"
   ]
  },
  {
   "cell_type": "code",
   "execution_count": 12,
   "metadata": {},
   "outputs": [
    {
     "data": {
      "text/html": [
       "<div>\n",
       "<style scoped>\n",
       "    .dataframe tbody tr th:only-of-type {\n",
       "        vertical-align: middle;\n",
       "    }\n",
       "\n",
       "    .dataframe tbody tr th {\n",
       "        vertical-align: top;\n",
       "    }\n",
       "\n",
       "    .dataframe thead th {\n",
       "        text-align: right;\n",
       "    }\n",
       "</style>\n",
       "<table border=\"1\" class=\"dataframe\">\n",
       "  <thead>\n",
       "    <tr style=\"text-align: right;\">\n",
       "      <th></th>\n",
       "      <th>rating</th>\n",
       "      <th>price</th>\n",
       "      <th>id</th>\n",
       "    </tr>\n",
       "  </thead>\n",
       "  <tbody>\n",
       "    <tr>\n",
       "      <th>0</th>\n",
       "      <td>NaN</td>\n",
       "      <td>5.0</td>\n",
       "      <td>1048</td>\n",
       "    </tr>\n",
       "    <tr>\n",
       "      <th>1</th>\n",
       "      <td>NaN</td>\n",
       "      <td>5.5</td>\n",
       "      <td>1047</td>\n",
       "    </tr>\n",
       "    <tr>\n",
       "      <th>2</th>\n",
       "      <td>NaN</td>\n",
       "      <td>5.5</td>\n",
       "      <td>1046</td>\n",
       "    </tr>\n",
       "    <tr>\n",
       "      <th>3</th>\n",
       "      <td>NaN</td>\n",
       "      <td>12.0</td>\n",
       "      <td>1045</td>\n",
       "    </tr>\n",
       "    <tr>\n",
       "      <th>4</th>\n",
       "      <td>NaN</td>\n",
       "      <td>26.0</td>\n",
       "      <td>1044</td>\n",
       "    </tr>\n",
       "  </tbody>\n",
       "</table>\n",
       "</div>"
      ],
      "text/plain": [
       "   rating  price    id\n",
       "0     NaN    5.0  1048\n",
       "1     NaN    5.5  1047\n",
       "2     NaN    5.5  1046\n",
       "3     NaN   12.0  1045\n",
       "4     NaN   26.0  1044"
      ]
     },
     "execution_count": 12,
     "metadata": {},
     "output_type": "execute_result"
    }
   ],
   "source": [
    "df_two = df_two[['rating', 'price', 'id']]\n",
    "df_two.head()"
   ]
  },
  {
   "cell_type": "markdown",
   "metadata": {},
   "source": [
    "## Exploratory Data Analysis"
   ]
  },
  {
   "cell_type": "markdown",
   "metadata": {},
   "source": [
    "List of unique names in each column:"
   ]
  },
  {
   "cell_type": "code",
   "execution_count": 13,
   "metadata": {},
   "outputs": [
    {
     "data": {
      "text/plain": [
       "array(['pencil', 'lipstick', 'liquid', nan, 'powder', 'lip_gloss', 'gel',\n",
       "       'cream', 'palette', 'concealer', 'highlighter', 'bb_cc', 'contour',\n",
       "       'lip_stain', 'mineral'], dtype=object)"
      ]
     },
     "execution_count": 13,
     "metadata": {},
     "output_type": "execute_result"
    }
   ],
   "source": [
    "df['category'].unique()"
   ]
  },
  {
   "cell_type": "code",
   "execution_count": 14,
   "metadata": {},
   "outputs": [
    {
     "data": {
      "text/plain": [
       "array([nan, 5. , 4. , 4.7, 4.5, 2.5, 4.6, 4.4, 3. , 3.8, 4.8, 3.3, 4.9,\n",
       "       4.3, 2. , 2.3, 4.2, 3.5, 3.7, 3.9, 4.1, 2.6, 3.6, 3.4, 1.5, 3.2,\n",
       "       3.1])"
      ]
     },
     "execution_count": 14,
     "metadata": {},
     "output_type": "execute_result"
    }
   ],
   "source": [
    "df['rating'].unique()"
   ]
  },
  {
   "cell_type": "code",
   "execution_count": 15,
   "metadata": {},
   "outputs": [
    {
     "data": {
      "text/plain": [
       "array(['colourpop', 'boosh', 'deciem', 'zorah biocosmetiques',\n",
       "       'w3llpeople', \"sally b's skin yummies\", 'rejuva minerals',\n",
       "       'penny lane organics', 'nudus', 'marienatie',\n",
       "       \"maia's mineral galaxy\", 'lotus cosmetics usa', 'green people',\n",
       "       'coastal classic creation', \"c'est moi\", 'alva', 'glossier', 'nyx',\n",
       "       'fenty', 'clinique', 'dior', 'iman', 'benefit', 'smashbox',\n",
       "       'marcelle', 'stila', 'mineral fusion', nan, 'annabelle',\n",
       "       'dr. hauschka', 'physicians formula', 'cargo cosmetics',\n",
       "       'covergirl', 'e.l.f.', 'maybelline', 'almay', 'milani',\n",
       "       'pure anada', \"l'oreal\", 'sante', 'revlon', 'anna sui',\n",
       "       'wet n wild', 'pacifica', 'mistura', 'zorah', 'suncoat', 'moov',\n",
       "       'misa', 'salon perfect', 'orly', 'china glaze', 'essie',\n",
       "       'butter london', 'sinful colours', 'piggy paint', 'dalish',\n",
       "       \"burt's bees\"], dtype=object)"
      ]
     },
     "execution_count": 15,
     "metadata": {},
     "output_type": "execute_result"
    }
   ],
   "source": [
    "df['brand'].unique()"
   ]
  },
  {
   "cell_type": "code",
   "execution_count": 16,
   "metadata": {},
   "outputs": [
    {
     "data": {
      "text/plain": [
       "array(['lip_liner', 'lipstick', 'foundation', 'eyeliner', 'eyeshadow',\n",
       "       'blush', 'bronzer', 'mascara', 'eyebrow', 'nail_polish'],\n",
       "      dtype=object)"
      ]
     },
     "execution_count": 16,
     "metadata": {},
     "output_type": "execute_result"
    }
   ],
   "source": [
    "df['product_type'].unique()"
   ]
  },
  {
   "cell_type": "code",
   "execution_count": 17,
   "metadata": {},
   "outputs": [
    {
     "data": {
      "text/plain": [
       "array([\"['Vegan', 'cruelty free']\", \"['Organic', 'Chemical Free']\",\n",
       "       \"['Gluten Free', 'Vegan', 'silicone free', 'oil free', 'alcohol free', 'cruelty free', 'water free']\",\n",
       "       \"['EcoCert', 'purpicks']\",\n",
       "       \"['Gluten Free', 'EWG Verified', 'purpicks']\",\n",
       "       \"['EWG Verified', 'purpicks']\",\n",
       "       \"['No Talc', 'Hypoallergenic', 'EWG Verified', 'purpicks']\",\n",
       "       \"['Organic', 'Vegan', 'EWG Verified', 'purpicks']\",\n",
       "       \"['Gluten Free', 'Vegan', 'EWG Verified', 'purpicks']\",\n",
       "       \"['Gluten Free', 'Chemical Free', 'Vegan', 'CertClean', 'purpicks']\",\n",
       "       \"['purpicks']\", \"['CertClean', 'purpicks']\",\n",
       "       \"['Gluten Free', 'Vegan', 'CertClean', 'purpicks']\",\n",
       "       \"['Organic', 'USDA Organic', 'purpicks']\",\n",
       "       \"['Organic', 'Vegan', 'purpicks']\", '[]', \"['Canadian']\",\n",
       "       \"['Canadian', 'Gluten Free', 'Vegan', 'Natural']\",\n",
       "       \"['Gluten Free', 'Natural']\", \"['Gluten Free']\",\n",
       "       \"['Canadian', 'Natural']\", \"['Vegan']\", \"['Natural']\",\n",
       "       \"['Organic', 'Natural']\",\n",
       "       \"['Canadian', 'Non-GMO', 'Gluten Free', 'Vegan', 'Natural']\",\n",
       "       \"['Canadian', 'Gluten Free']\",\n",
       "       \"['Gluten Free', 'Vegan', 'Natural']\", \"['Vegan', 'Natural']\",\n",
       "       \"['Canadian', 'Vegan', 'Natural']\",\n",
       "       \"['Canadian', 'Gluten Free', 'Vegan', 'Organic', 'Natural']\",\n",
       "       \"['Canadian', 'Dairy Free', 'Non-GMO', 'Sugar Free', 'Fair Trade', 'Gluten Free', 'Vegan', 'Natural']\",\n",
       "       \"['Canadian', 'Peanut Free Product', 'Non-GMO', 'Gluten Free', 'Natural']\",\n",
       "       \"['Canadian', 'Gluten Free', 'Organic', 'Natural']\",\n",
       "       \"['Canadian', 'Gluten Free', 'Natural']\"], dtype=object)"
      ]
     },
     "execution_count": 17,
     "metadata": {},
     "output_type": "execute_result"
    }
   ],
   "source": [
    "df['tag_list'].unique()"
   ]
  },
  {
   "cell_type": "markdown",
   "metadata": {},
   "source": [
    "### The analysis of individual variables:\n",
    "\n",
    "**Category distribution:**"
   ]
  },
  {
   "cell_type": "code",
   "execution_count": 18,
   "metadata": {},
   "outputs": [
    {
     "data": {
      "text/plain": [
       "category\n",
       "lipstick       122\n",
       "liquid         117\n",
       "powder          68\n",
       "pencil          62\n",
       "cream           34\n",
       "palette         27\n",
       "lip_gloss       26\n",
       "concealer       19\n",
       "mineral         11\n",
       "bb_cc            9\n",
       "lip_stain        4\n",
       "gel              3\n",
       "contour          3\n",
       "highlighter      2\n",
       "Name: count, dtype: int64"
      ]
     },
     "execution_count": 18,
     "metadata": {},
     "output_type": "execute_result"
    }
   ],
   "source": [
    "df['category'].value_counts()"
   ]
  },
  {
   "cell_type": "code",
   "execution_count": 19,
   "metadata": {},
   "outputs": [],
   "source": [
    "cat = df['category'].value_counts()"
   ]
  },
  {
   "cell_type": "code",
   "execution_count": 82,
   "metadata": {},
   "outputs": [
    {
     "data": {
      "image/png": "[encoded data removed]",
      "text/plain": [
       "<Figure size 560x350 with 1 Axes>"
      ]
     },
     "metadata": {},
     "output_type": "display_data"
    }
   ],
   "source": [
    "plt.figure(figsize=(8,5), dpi=70)\n",
    "sns.barplot(x=cat.index,y=cat, color='teal')\n",
    "plt.xticks(rotation=90)\n",
    "plt.xlabel('Category', fontsize=12)\n",
    "plt.ylabel('Number of products', fontsize=12)\n",
    "plt.title('The number of products in each category', fontsize=18)\n",
    "plt.show()"
   ]
  },
  {
   "cell_type": "markdown",
   "metadata": {},
   "source": [
    "The largest amount of category are lipstick, liquid and powder."
   ]
  },
  {
   "cell_type": "markdown",
   "metadata": {},
   "source": [
    "**Product_type distribution:**"
   ]
  },
  {
   "cell_type": "code",
   "execution_count": 24,
   "metadata": {},
   "outputs": [
    {
     "data": {
      "text/plain": [
       "product_type\n",
       "foundation     166\n",
       "lipstick       154\n",
       "eyeliner       148\n",
       "mascara         92\n",
       "eyeshadow       86\n",
       "blush           78\n",
       "bronzer         69\n",
       "nail_polish     60\n",
       "eyebrow         49\n",
       "lip_liner       29\n",
       "Name: count, dtype: int64"
      ]
     },
     "execution_count": 24,
     "metadata": {},
     "output_type": "execute_result"
    }
   ],
   "source": [
    "df['product_type'].value_counts()"
   ]
  },
  {
   "cell_type": "code",
   "execution_count": 25,
   "metadata": {},
   "outputs": [],
   "source": [
    "prod = df['product_type'].value_counts()"
   ]
  },
  {
   "cell_type": "code",
   "execution_count": 81,
   "metadata": {},
   "outputs": [
    {
     "data": {
      "image/png": "[encoded data removed]",
      "text/plain": [
       "<Figure size 560x350 with 1 Axes>"
      ]
     },
     "metadata": {},
     "output_type": "display_data"
    }
   ],
   "source": [
    "plt.figure(figsize=(8,5), dpi=70)\n",
    "sns.barplot(x=prod.index,y=prod, color='violet')\n",
    "plt.xticks(rotation=90)\n",
    "plt.xlabel('Products type', fontsize=12)\n",
    "plt.ylabel('Number of products', fontsize=12)\n",
    "plt.title('The number of products types in each category', fontsize=18)\n",
    "plt.show()"
   ]
  },
  {
   "cell_type": "markdown",
   "metadata": {},
   "source": [
    "The largest amount of products are foundation, lipstick and eyeliner."
   ]
  },
  {
   "cell_type": "markdown",
   "metadata": {},
   "source": [
    "**Rating distribution:**"
   ]
  },
  {
   "cell_type": "code",
   "execution_count": 32,
   "metadata": {},
   "outputs": [
    {
     "data": {
      "text/plain": [
       "rating\n",
       "5.0    86\n",
       "4.0    53\n",
       "4.5    29\n",
       "4.3    23\n",
       "4.8    21\n",
       "4.7    17\n",
       "4.4    15\n",
       "4.6    13\n",
       "3.0    13\n",
       "4.2    12\n",
       "3.8     9\n",
       "2.5     6\n",
       "4.1     6\n",
       "3.9     5\n",
       "3.3     5\n",
       "4.9     5\n",
       "3.7     5\n",
       "3.4     4\n",
       "2.0     4\n",
       "3.5     3\n",
       "2.6     1\n",
       "3.6     1\n",
       "2.3     1\n",
       "1.5     1\n",
       "3.2     1\n",
       "3.1     1\n",
       "Name: count, dtype: int64"
      ]
     },
     "execution_count": 32,
     "metadata": {},
     "output_type": "execute_result"
    }
   ],
   "source": [
    "df['rating'].value_counts()"
   ]
  },
  {
   "cell_type": "code",
   "execution_count": 33,
   "metadata": {},
   "outputs": [],
   "source": [
    "rating = df['rating'].value_counts()"
   ]
  },
  {
   "cell_type": "code",
   "execution_count": 83,
   "metadata": {},
   "outputs": [
    {
     "data": {
      "image/png": "[encoded data removed]",
      "text/plain": [
       "<Figure size 560x350 with 1 Axes>"
      ]
     },
     "metadata": {},
     "output_type": "display_data"
    }
   ],
   "source": [
    "plt.figure(figsize=(8,5), dpi=70)\n",
    "sns.histplot(df.rating, color='green')\n",
    "plt.xlabel('Rating', fontsize=12)\n",
    "plt.ylabel('Counts', fontsize=12)\n",
    "plt.title('Rating distribution', fontsize=18)\n",
    "plt.show();"
   ]
  },
  {
   "cell_type": "markdown",
   "metadata": {},
   "source": [
    "The most ratings are in the range of 4.5-5.0 but it happened rating 2 and below."
   ]
  },
  {
   "cell_type": "markdown",
   "metadata": {},
   "source": [
    "##### How many products have rating above 4?"
   ]
  },
  {
   "cell_type": "code",
   "execution_count": 44,
   "metadata": {},
   "outputs": [
    {
     "name": "stdout",
     "output_type": "stream",
     "text": [
      "227\n"
     ]
    }
   ],
   "source": [
    "print(df['product_type'].where(df['rating'] > 4).count())"
   ]
  },
  {
   "cell_type": "markdown",
   "metadata": {},
   "source": [
    "**Brand distribution**"
   ]
  },
  {
   "cell_type": "code",
   "execution_count": 45,
   "metadata": {},
   "outputs": [
    {
     "data": {
      "text/plain": [
       "brand\n",
       "nyx                         164\n",
       "clinique                     93\n",
       "dior                         74\n",
       "maybelline                   54\n",
       "covergirl                    54\n",
       "smashbox                     46\n",
       "l'oreal                      46\n",
       "physicians formula           43\n",
       "benefit                      41\n",
       "revlon                       29\n",
       "e.l.f.                       27\n",
       "cargo cosmetics              20\n",
       "pure anada                   16\n",
       "marcelle                     15\n",
       "almay                        14\n",
       "pacifica                     13\n",
       "iman                         13\n",
       "milani                       13\n",
       "dr. hauschka                 12\n",
       "wet n wild                   12\n",
       "annabelle                    11\n",
       "marienatie                    9\n",
       "mineral fusion                8\n",
       "lotus cosmetics usa           7\n",
       "sante                         6\n",
       "anna sui                      6\n",
       "rejuva minerals               6\n",
       "suncoat                       6\n",
       "glossier                      6\n",
       "fenty                         5\n",
       "orly                          4\n",
       "essie                         4\n",
       "colourpop                     4\n",
       "c'est moi                     4\n",
       "stila                         4\n",
       "moov                          3\n",
       "burt's bees                   2\n",
       "butter london                 2\n",
       "deciem                        2\n",
       "sally b's skin yummies        2\n",
       "zorah biocosmetiques          2\n",
       "zorah                         2\n",
       "salon perfect                 1\n",
       "dalish                        1\n",
       "piggy paint                   1\n",
       "sinful colours                1\n",
       "china glaze                   1\n",
       "boosh                         1\n",
       "misa                          1\n",
       "mistura                       1\n",
       "penny lane organics           1\n",
       "nudus                         1\n",
       "maia's mineral galaxy         1\n",
       "green people                  1\n",
       "coastal classic creation      1\n",
       "alva                          1\n",
       "w3llpeople                    1\n",
       "Name: count, dtype: int64"
      ]
     },
     "execution_count": 45,
     "metadata": {},
     "output_type": "execute_result"
    }
   ],
   "source": [
    "df['brand'].value_counts()"
   ]
  },
  {
   "cell_type": "markdown",
   "metadata": {},
   "source": [
    "Top 10 brands:"
   ]
  },
  {
   "cell_type": "code",
   "execution_count": 46,
   "metadata": {},
   "outputs": [
    {
     "data": {
      "text/plain": [
       "brand\n",
       "nyx                   164\n",
       "clinique               93\n",
       "dior                   74\n",
       "maybelline             54\n",
       "covergirl              54\n",
       "smashbox               46\n",
       "l'oreal                46\n",
       "physicians formula     43\n",
       "benefit                41\n",
       "revlon                 29\n",
       "Name: count, dtype: int64"
      ]
     },
     "execution_count": 46,
     "metadata": {},
     "output_type": "execute_result"
    }
   ],
   "source": [
    "brand = df['brand'].value_counts().head(10)\n",
    "brand"
   ]
  },
  {
   "cell_type": "code",
   "execution_count": 67,
   "metadata": {},
   "outputs": [
    {
     "data": {
      "image/png": "[encoded data removed]",
      "text/plain": [
       "<Figure size 560x350 with 1 Axes>"
      ]
     },
     "metadata": {},
     "output_type": "display_data"
    }
   ],
   "source": [
    "plt.figure(figsize=(8,5), dpi=70)\n",
    "sns.barplot(x=brand.index,y=brand, color='brown')\n",
    "plt.xticks(rotation=90)\n",
    "plt.xlabel('Brand name', fontsize=12)\n",
    "plt.ylabel('Number of products', fontsize=12)\n",
    "plt.title('The number of products by brand', fontsize=18)\n",
    "plt.show()"
   ]
  },
  {
   "cell_type": "markdown",
   "metadata": {},
   "source": [
    "The most products offer brands \"Nyx\" , \"Clinique\" and \"Dior\"."
   ]
  },
  {
   "cell_type": "markdown",
   "metadata": {},
   "source": [
    "**Price distribution**\n",
    "\n",
    "What currencies are in data?"
   ]
  },
  {
   "cell_type": "code",
   "execution_count": 55,
   "metadata": {},
   "outputs": [
    {
     "data": {
      "text/plain": [
       "currency\n",
       "USD    287\n",
       "GBP     74\n",
       "CAD      7\n",
       "Name: count, dtype: int64"
      ]
     },
     "execution_count": 55,
     "metadata": {},
     "output_type": "execute_result"
    }
   ],
   "source": [
    "df['currency'].value_counts()"
   ]
  },
  {
   "cell_type": "code",
   "execution_count": 65,
   "metadata": {},
   "outputs": [
    {
     "data": {
      "image/png": "[encoded data removed]",
      "text/plain": [
       "<Figure size 560x350 with 1 Axes>"
      ]
     },
     "metadata": {},
     "output_type": "display_data"
    }
   ],
   "source": [
    "plt.figure(dpi=70, figsize=(8,5))\n",
    "sns.histplot(df.price, color='purple')\n",
    "plt.xlabel('Price of products', fontsize=12)\n",
    "plt.ylabel('Counts', fontsize=12)\n",
    "plt.title('Price distribution', fontsize=18)\n",
    "plt.show();"
   ]
  },
  {
   "cell_type": "markdown",
   "metadata": {},
   "source": [
    "Price distribution by currency:"
   ]
  },
  {
   "cell_type": "code",
   "execution_count": 80,
   "metadata": {},
   "outputs": [
    {
     "data": {
      "image/png": "[encoded data removed]",
      "text/plain": [
       "<Figure size 560x350 with 1 Axes>"
      ]
     },
     "metadata": {},
     "output_type": "display_data"
    }
   ],
   "source": [
    "plt.figure(dpi=70, figsize=(8,5))\n",
    "df[df.currency == 'USD'].price.plot(kind='hist', color='green', label='USD', alpha=0.6)\n",
    "df[df.currency == 'GBP'].price.plot(kind='hist', color='red', label='GBP', alpha=0.6)\n",
    "df[df.currency == 'CAD'].price.plot(bins=35, kind='hist', color='blue', label='CAD', alpha=0.6)\n",
    "plt.xlabel('Price', fontsize=12)\n",
    "plt.ylabel('Counts', fontsize=12)\n",
    "plt.title('Price distribution by currency', fontsize=18)\n",
    "plt.legend()\n",
    "plt.show();"
   ]
  },
  {
   "cell_type": "markdown",
   "metadata": {},
   "source": [
    "There are three types of currencies and the most are in dollars (USD).The most prices are in the range of 8-20."
   ]
  },
  {
   "cell_type": "markdown",
   "metadata": {},
   "source": [
    "### Overview of variables"
   ]
  },
  {
   "cell_type": "markdown",
   "metadata": {},
   "source": [
    "The first two observations from the frame:"
   ]
  },
  {
   "cell_type": "code",
   "execution_count": 84,
   "metadata": {
    "scrolled": true
   },
   "outputs": [
    {
     "data": {
      "text/html": [
       "<div>\n",
       "<style scoped>\n",
       "    .dataframe tbody tr th:only-of-type {\n",
       "        vertical-align: middle;\n",
       "    }\n",
       "\n",
       "    .dataframe tbody tr th {\n",
       "        vertical-align: top;\n",
       "    }\n",
       "\n",
       "    .dataframe thead th {\n",
       "        text-align: right;\n",
       "    }\n",
       "</style>\n",
       "<table border=\"1\" class=\"dataframe\">\n",
       "  <thead>\n",
       "    <tr style=\"text-align: right;\">\n",
       "      <th></th>\n",
       "      <th>brand</th>\n",
       "      <th>category</th>\n",
       "      <th>currency</th>\n",
       "      <th>description</th>\n",
       "      <th>id</th>\n",
       "      <th>name</th>\n",
       "      <th>price</th>\n",
       "      <th>price_sign</th>\n",
       "      <th>product_type</th>\n",
       "      <th>rating</th>\n",
       "      <th>tag_list</th>\n",
       "    </tr>\n",
       "  </thead>\n",
       "  <tbody>\n",
       "    <tr>\n",
       "      <th>0</th>\n",
       "      <td>colourpop</td>\n",
       "      <td>pencil</td>\n",
       "      <td>CAD</td>\n",
       "      <td>Lippie Pencil A long-wearing and high-intensit...</td>\n",
       "      <td>1048</td>\n",
       "      <td>Lippie Pencil</td>\n",
       "      <td>5.0</td>\n",
       "      <td>$</td>\n",
       "      <td>lip_liner</td>\n",
       "      <td>NaN</td>\n",
       "      <td>['Vegan', 'cruelty free']</td>\n",
       "    </tr>\n",
       "    <tr>\n",
       "      <th>1</th>\n",
       "      <td>colourpop</td>\n",
       "      <td>lipstick</td>\n",
       "      <td>CAD</td>\n",
       "      <td>Blotted Lip Sheer matte lipstick that creates ...</td>\n",
       "      <td>1047</td>\n",
       "      <td>Blotted Lip</td>\n",
       "      <td>5.5</td>\n",
       "      <td>$</td>\n",
       "      <td>lipstick</td>\n",
       "      <td>NaN</td>\n",
       "      <td>['Vegan', 'cruelty free']</td>\n",
       "    </tr>\n",
       "  </tbody>\n",
       "</table>\n",
       "</div>"
      ],
      "text/plain": [
       "       brand  category currency  \\\n",
       "0  colourpop    pencil      CAD   \n",
       "1  colourpop  lipstick      CAD   \n",
       "\n",
       "                                         description    id           name  \\\n",
       "0  Lippie Pencil A long-wearing and high-intensit...  1048  Lippie Pencil   \n",
       "1  Blotted Lip Sheer matte lipstick that creates ...  1047    Blotted Lip   \n",
       "\n",
       "   price price_sign product_type  rating                   tag_list  \n",
       "0    5.0          $    lip_liner     NaN  ['Vegan', 'cruelty free']  \n",
       "1    5.5          $     lipstick     NaN  ['Vegan', 'cruelty free']  "
      ]
     },
     "execution_count": 84,
     "metadata": {},
     "output_type": "execute_result"
    }
   ],
   "source": [
    "df.iloc[0:2,]"
   ]
  },
  {
   "cell_type": "markdown",
   "metadata": {},
   "source": [
    "Last three observations:"
   ]
  },
  {
   "cell_type": "code",
   "execution_count": 85,
   "metadata": {},
   "outputs": [
    {
     "data": {
      "text/html": [
       "<div>\n",
       "<style scoped>\n",
       "    .dataframe tbody tr th:only-of-type {\n",
       "        vertical-align: middle;\n",
       "    }\n",
       "\n",
       "    .dataframe tbody tr th {\n",
       "        vertical-align: top;\n",
       "    }\n",
       "\n",
       "    .dataframe thead th {\n",
       "        text-align: right;\n",
       "    }\n",
       "</style>\n",
       "<table border=\"1\" class=\"dataframe\">\n",
       "  <thead>\n",
       "    <tr style=\"text-align: right;\">\n",
       "      <th></th>\n",
       "      <th>brand</th>\n",
       "      <th>category</th>\n",
       "      <th>currency</th>\n",
       "      <th>description</th>\n",
       "      <th>id</th>\n",
       "      <th>name</th>\n",
       "      <th>price</th>\n",
       "      <th>price_sign</th>\n",
       "      <th>product_type</th>\n",
       "      <th>rating</th>\n",
       "      <th>tag_list</th>\n",
       "    </tr>\n",
       "  </thead>\n",
       "  <tbody>\n",
       "    <tr>\n",
       "      <th>928</th>\n",
       "      <td>physicians formula</td>\n",
       "      <td>NaN</td>\n",
       "      <td>NaN</td>\n",
       "      <td>Physicians Formula Organic Wear Lash Boosting ...</td>\n",
       "      <td>3</td>\n",
       "      <td>Physicians Formula Organic Wear Lash Boosting ...</td>\n",
       "      <td>15.79</td>\n",
       "      <td>NaN</td>\n",
       "      <td>mascara</td>\n",
       "      <td>3.7</td>\n",
       "      <td>['Gluten Free', 'Natural']</td>\n",
       "    </tr>\n",
       "    <tr>\n",
       "      <th>929</th>\n",
       "      <td>NaN</td>\n",
       "      <td>NaN</td>\n",
       "      <td>NaN</td>\n",
       "      <td>Voluminous - Volume Building Waterproof Mascar...</td>\n",
       "      <td>2</td>\n",
       "      <td>L' Oreal Paris Voluminous Mascara</td>\n",
       "      <td>9.99</td>\n",
       "      <td>NaN</td>\n",
       "      <td>mascara</td>\n",
       "      <td>4.5</td>\n",
       "      <td>[]</td>\n",
       "    </tr>\n",
       "    <tr>\n",
       "      <th>930</th>\n",
       "      <td>pure anada</td>\n",
       "      <td>NaN</td>\n",
       "      <td>NaN</td>\n",
       "      <td>Finally, a natural mascara you can feel good a...</td>\n",
       "      <td>1</td>\n",
       "      <td>Pure Anada Natural Mascara</td>\n",
       "      <td>14.00</td>\n",
       "      <td>NaN</td>\n",
       "      <td>mascara</td>\n",
       "      <td>4.6</td>\n",
       "      <td>['Canadian', 'Gluten Free', 'Natural']</td>\n",
       "    </tr>\n",
       "  </tbody>\n",
       "</table>\n",
       "</div>"
      ],
      "text/plain": [
       "                  brand category currency  \\\n",
       "928  physicians formula      NaN      NaN   \n",
       "929                 NaN      NaN      NaN   \n",
       "930          pure anada      NaN      NaN   \n",
       "\n",
       "                                           description  id  \\\n",
       "928  Physicians Formula Organic Wear Lash Boosting ...   3   \n",
       "929  Voluminous - Volume Building Waterproof Mascar...   2   \n",
       "930  Finally, a natural mascara you can feel good a...   1   \n",
       "\n",
       "                                                  name  price price_sign  \\\n",
       "928  Physicians Formula Organic Wear Lash Boosting ...  15.79        NaN   \n",
       "929                  L' Oreal Paris Voluminous Mascara   9.99        NaN   \n",
       "930                         Pure Anada Natural Mascara  14.00        NaN   \n",
       "\n",
       "    product_type  rating                                tag_list  \n",
       "928      mascara     3.7              ['Gluten Free', 'Natural']  \n",
       "929      mascara     4.5                                      []  \n",
       "930      mascara     4.6  ['Canadian', 'Gluten Free', 'Natural']  "
      ]
     },
     "execution_count": 85,
     "metadata": {},
     "output_type": "execute_result"
    }
   ],
   "source": [
    "df.iloc[-3:,]"
   ]
  },
  {
   "cell_type": "markdown",
   "metadata": {},
   "source": [
    "#### Selecting specific data from columns"
   ]
  },
  {
   "cell_type": "code",
   "execution_count": 86,
   "metadata": {},
   "outputs": [
    {
     "data": {
      "text/plain": [
       "brand            colourpop\n",
       "category            liquid\n",
       "price                 12.0\n",
       "rating                 NaN\n",
       "product_type    foundation\n",
       "Name: 3, dtype: object"
      ]
     },
     "execution_count": 86,
     "metadata": {},
     "output_type": "execute_result"
    }
   ],
   "source": [
    "df.loc[3, [\"brand\", \"category\", \"price\", \"rating\", \"product_type\"]]"
   ]
  },
  {
   "cell_type": "code",
   "execution_count": 87,
   "metadata": {},
   "outputs": [
    {
     "data": {
      "text/html": [
       "<div>\n",
       "<style scoped>\n",
       "    .dataframe tbody tr th:only-of-type {\n",
       "        vertical-align: middle;\n",
       "    }\n",
       "\n",
       "    .dataframe tbody tr th {\n",
       "        vertical-align: top;\n",
       "    }\n",
       "\n",
       "    .dataframe thead th {\n",
       "        text-align: right;\n",
       "    }\n",
       "</style>\n",
       "<table border=\"1\" class=\"dataframe\">\n",
       "  <thead>\n",
       "    <tr style=\"text-align: right;\">\n",
       "      <th></th>\n",
       "      <th>brand</th>\n",
       "      <th>category</th>\n",
       "      <th>price</th>\n",
       "      <th>rating</th>\n",
       "      <th>product_type</th>\n",
       "    </tr>\n",
       "  </thead>\n",
       "  <tbody>\n",
       "    <tr>\n",
       "      <th>4</th>\n",
       "      <td>boosh</td>\n",
       "      <td>lipstick</td>\n",
       "      <td>26.0</td>\n",
       "      <td>NaN</td>\n",
       "      <td>lipstick</td>\n",
       "    </tr>\n",
       "    <tr>\n",
       "      <th>5</th>\n",
       "      <td>deciem</td>\n",
       "      <td>liquid</td>\n",
       "      <td>6.7</td>\n",
       "      <td>NaN</td>\n",
       "      <td>foundation</td>\n",
       "    </tr>\n",
       "  </tbody>\n",
       "</table>\n",
       "</div>"
      ],
      "text/plain": [
       "    brand  category  price  rating product_type\n",
       "4   boosh  lipstick   26.0     NaN     lipstick\n",
       "5  deciem    liquid    6.7     NaN   foundation"
      ]
     },
     "execution_count": 87,
     "metadata": {},
     "output_type": "execute_result"
    }
   ],
   "source": [
    "df.loc[[4, 5], [\"brand\",\"category\", \"price\", \"rating\", \"product_type\"]]"
   ]
  },
  {
   "cell_type": "code",
   "execution_count": 4,
   "metadata": {},
   "outputs": [
    {
     "data": {
      "text/html": [
       "<div>\n",
       "<style scoped>\n",
       "    .dataframe tbody tr th:only-of-type {\n",
       "        vertical-align: middle;\n",
       "    }\n",
       "\n",
       "    .dataframe tbody tr th {\n",
       "        vertical-align: top;\n",
       "    }\n",
       "\n",
       "    .dataframe thead th {\n",
       "        text-align: right;\n",
       "    }\n",
       "</style>\n",
       "<table border=\"1\" class=\"dataframe\">\n",
       "  <thead>\n",
       "    <tr style=\"text-align: right;\">\n",
       "      <th></th>\n",
       "      <th>brand</th>\n",
       "      <th>category</th>\n",
       "      <th>price</th>\n",
       "      <th>rating</th>\n",
       "      <th>product_type</th>\n",
       "    </tr>\n",
       "  </thead>\n",
       "  <tbody>\n",
       "    <tr>\n",
       "      <th>0</th>\n",
       "      <td>colourpop</td>\n",
       "      <td>pencil</td>\n",
       "      <td>5.0</td>\n",
       "      <td>NaN</td>\n",
       "      <td>lip_liner</td>\n",
       "    </tr>\n",
       "    <tr>\n",
       "      <th>1</th>\n",
       "      <td>colourpop</td>\n",
       "      <td>lipstick</td>\n",
       "      <td>5.5</td>\n",
       "      <td>NaN</td>\n",
       "      <td>lipstick</td>\n",
       "    </tr>\n",
       "    <tr>\n",
       "      <th>2</th>\n",
       "      <td>colourpop</td>\n",
       "      <td>lipstick</td>\n",
       "      <td>5.5</td>\n",
       "      <td>NaN</td>\n",
       "      <td>lipstick</td>\n",
       "    </tr>\n",
       "    <tr>\n",
       "      <th>3</th>\n",
       "      <td>colourpop</td>\n",
       "      <td>liquid</td>\n",
       "      <td>12.0</td>\n",
       "      <td>NaN</td>\n",
       "      <td>foundation</td>\n",
       "    </tr>\n",
       "    <tr>\n",
       "      <th>4</th>\n",
       "      <td>boosh</td>\n",
       "      <td>lipstick</td>\n",
       "      <td>26.0</td>\n",
       "      <td>NaN</td>\n",
       "      <td>lipstick</td>\n",
       "    </tr>\n",
       "  </tbody>\n",
       "</table>\n",
       "</div>"
      ],
      "text/plain": [
       "       brand  category  price  rating product_type\n",
       "0  colourpop    pencil    5.0     NaN    lip_liner\n",
       "1  colourpop  lipstick    5.5     NaN     lipstick\n",
       "2  colourpop  lipstick    5.5     NaN     lipstick\n",
       "3  colourpop    liquid   12.0     NaN   foundation\n",
       "4      boosh  lipstick   26.0     NaN     lipstick"
      ]
     },
     "execution_count": 4,
     "metadata": {},
     "output_type": "execute_result"
    }
   ],
   "source": [
    "df2 = df.loc[:, [\"brand\",\"category\", \"price\", \"rating\", \"product_type\"]]\n",
    "df2.head()"
   ]
  },
  {
   "cell_type": "markdown",
   "metadata": {},
   "source": [
    "Example of 'covergirl' brand:"
   ]
  },
  {
   "cell_type": "code",
   "execution_count": 93,
   "metadata": {},
   "outputs": [
    {
     "data": {
      "text/html": [
       "<div>\n",
       "<style scoped>\n",
       "    .dataframe tbody tr th:only-of-type {\n",
       "        vertical-align: middle;\n",
       "    }\n",
       "\n",
       "    .dataframe tbody tr th {\n",
       "        vertical-align: top;\n",
       "    }\n",
       "\n",
       "    .dataframe thead th {\n",
       "        text-align: right;\n",
       "    }\n",
       "</style>\n",
       "<table border=\"1\" class=\"dataframe\">\n",
       "  <thead>\n",
       "    <tr style=\"text-align: right;\">\n",
       "      <th></th>\n",
       "      <th>brand</th>\n",
       "      <th>category</th>\n",
       "      <th>price</th>\n",
       "      <th>rating</th>\n",
       "      <th>product_type</th>\n",
       "    </tr>\n",
       "  </thead>\n",
       "  <tbody>\n",
       "    <tr>\n",
       "      <th>481</th>\n",
       "      <td>covergirl</td>\n",
       "      <td>NaN</td>\n",
       "      <td>13.99</td>\n",
       "      <td>NaN</td>\n",
       "      <td>bronzer</td>\n",
       "    </tr>\n",
       "    <tr>\n",
       "      <th>493</th>\n",
       "      <td>covergirl</td>\n",
       "      <td>NaN</td>\n",
       "      <td>8.99</td>\n",
       "      <td>5.0</td>\n",
       "      <td>bronzer</td>\n",
       "    </tr>\n",
       "    <tr>\n",
       "      <th>505</th>\n",
       "      <td>covergirl</td>\n",
       "      <td>powder</td>\n",
       "      <td>13.99</td>\n",
       "      <td>NaN</td>\n",
       "      <td>blush</td>\n",
       "    </tr>\n",
       "    <tr>\n",
       "      <th>512</th>\n",
       "      <td>covergirl</td>\n",
       "      <td>powder</td>\n",
       "      <td>13.99</td>\n",
       "      <td>5.0</td>\n",
       "      <td>blush</td>\n",
       "    </tr>\n",
       "    <tr>\n",
       "      <th>519</th>\n",
       "      <td>covergirl</td>\n",
       "      <td>powder</td>\n",
       "      <td>8.99</td>\n",
       "      <td>5.0</td>\n",
       "      <td>blush</td>\n",
       "    </tr>\n",
       "  </tbody>\n",
       "</table>\n",
       "</div>"
      ],
      "text/plain": [
       "         brand category  price  rating product_type\n",
       "481  covergirl      NaN  13.99     NaN      bronzer\n",
       "493  covergirl      NaN   8.99     5.0      bronzer\n",
       "505  covergirl   powder  13.99     NaN        blush\n",
       "512  covergirl   powder  13.99     5.0        blush\n",
       "519  covergirl   powder   8.99     5.0        blush"
      ]
     },
     "execution_count": 93,
     "metadata": {},
     "output_type": "execute_result"
    }
   ],
   "source": [
    "df2.loc[df2['brand'] == 'covergirl'].head()"
   ]
  },
  {
   "cell_type": "markdown",
   "metadata": {},
   "source": [
    "Price greater than 50:"
   ]
  },
  {
   "cell_type": "code",
   "execution_count": 94,
   "metadata": {},
   "outputs": [
    {
     "data": {
      "text/html": [
       "<div>\n",
       "<style scoped>\n",
       "    .dataframe tbody tr th:only-of-type {\n",
       "        vertical-align: middle;\n",
       "    }\n",
       "\n",
       "    .dataframe tbody tr th {\n",
       "        vertical-align: top;\n",
       "    }\n",
       "\n",
       "    .dataframe thead th {\n",
       "        text-align: right;\n",
       "    }\n",
       "</style>\n",
       "<table border=\"1\" class=\"dataframe\">\n",
       "  <thead>\n",
       "    <tr style=\"text-align: right;\">\n",
       "      <th></th>\n",
       "      <th>brand</th>\n",
       "      <th>category</th>\n",
       "      <th>price</th>\n",
       "      <th>rating</th>\n",
       "      <th>product_type</th>\n",
       "    </tr>\n",
       "  </thead>\n",
       "  <tbody>\n",
       "    <tr>\n",
       "      <th>329</th>\n",
       "      <td>dior</td>\n",
       "      <td>palette</td>\n",
       "      <td>65.00</td>\n",
       "      <td>NaN</td>\n",
       "      <td>eyeshadow</td>\n",
       "    </tr>\n",
       "    <tr>\n",
       "      <th>364</th>\n",
       "      <td>dior</td>\n",
       "      <td>lipstick</td>\n",
       "      <td>77.00</td>\n",
       "      <td>NaN</td>\n",
       "      <td>lipstick</td>\n",
       "    </tr>\n",
       "    <tr>\n",
       "      <th>386</th>\n",
       "      <td>benefit</td>\n",
       "      <td>NaN</td>\n",
       "      <td>75.00</td>\n",
       "      <td>NaN</td>\n",
       "      <td>bronzer</td>\n",
       "    </tr>\n",
       "    <tr>\n",
       "      <th>454</th>\n",
       "      <td>smashbox</td>\n",
       "      <td>NaN</td>\n",
       "      <td>55.00</td>\n",
       "      <td>NaN</td>\n",
       "      <td>eyebrow</td>\n",
       "    </tr>\n",
       "    <tr>\n",
       "      <th>456</th>\n",
       "      <td>smashbox</td>\n",
       "      <td>palette</td>\n",
       "      <td>52.00</td>\n",
       "      <td>NaN</td>\n",
       "      <td>eyeshadow</td>\n",
       "    </tr>\n",
       "    <tr>\n",
       "      <th>549</th>\n",
       "      <td>stila</td>\n",
       "      <td>cream</td>\n",
       "      <td>51.00</td>\n",
       "      <td>NaN</td>\n",
       "      <td>blush</td>\n",
       "    </tr>\n",
       "    <tr>\n",
       "      <th>550</th>\n",
       "      <td>stila</td>\n",
       "      <td>cream</td>\n",
       "      <td>51.00</td>\n",
       "      <td>NaN</td>\n",
       "      <td>blush</td>\n",
       "    </tr>\n",
       "    <tr>\n",
       "      <th>676</th>\n",
       "      <td>mistura</td>\n",
       "      <td>NaN</td>\n",
       "      <td>56.49</td>\n",
       "      <td>2.6</td>\n",
       "      <td>eyeshadow</td>\n",
       "    </tr>\n",
       "    <tr>\n",
       "      <th>689</th>\n",
       "      <td>pacifica</td>\n",
       "      <td>NaN</td>\n",
       "      <td>60.00</td>\n",
       "      <td>4.9</td>\n",
       "      <td>bronzer</td>\n",
       "    </tr>\n",
       "  </tbody>\n",
       "</table>\n",
       "</div>"
      ],
      "text/plain": [
       "        brand  category  price  rating product_type\n",
       "329      dior   palette  65.00     NaN    eyeshadow\n",
       "364      dior  lipstick  77.00     NaN     lipstick\n",
       "386   benefit       NaN  75.00     NaN      bronzer\n",
       "454  smashbox       NaN  55.00     NaN      eyebrow\n",
       "456  smashbox   palette  52.00     NaN    eyeshadow\n",
       "549     stila     cream  51.00     NaN        blush\n",
       "550     stila     cream  51.00     NaN        blush\n",
       "676   mistura       NaN  56.49     2.6    eyeshadow\n",
       "689  pacifica       NaN  60.00     4.9      bronzer"
      ]
     },
     "execution_count": 94,
     "metadata": {},
     "output_type": "execute_result"
    }
   ],
   "source": [
    "df2[df2['price'] > 50]"
   ]
  },
  {
   "cell_type": "markdown",
   "metadata": {},
   "source": [
    "Rating greater than 4.0 and price greater than 20: "
   ]
  },
  {
   "cell_type": "code",
   "execution_count": 95,
   "metadata": {},
   "outputs": [
    {
     "data": {
      "text/html": [
       "<div>\n",
       "<style scoped>\n",
       "    .dataframe tbody tr th:only-of-type {\n",
       "        vertical-align: middle;\n",
       "    }\n",
       "\n",
       "    .dataframe tbody tr th {\n",
       "        vertical-align: top;\n",
       "    }\n",
       "\n",
       "    .dataframe thead th {\n",
       "        text-align: right;\n",
       "    }\n",
       "</style>\n",
       "<table border=\"1\" class=\"dataframe\">\n",
       "  <thead>\n",
       "    <tr style=\"text-align: right;\">\n",
       "      <th></th>\n",
       "      <th>brand</th>\n",
       "      <th>category</th>\n",
       "      <th>price</th>\n",
       "      <th>rating</th>\n",
       "      <th>product_type</th>\n",
       "    </tr>\n",
       "  </thead>\n",
       "  <tbody>\n",
       "    <tr>\n",
       "      <th>486</th>\n",
       "      <td>physicians formula</td>\n",
       "      <td>NaN</td>\n",
       "      <td>20.99</td>\n",
       "      <td>4.7</td>\n",
       "      <td>bronzer</td>\n",
       "    </tr>\n",
       "    <tr>\n",
       "      <th>489</th>\n",
       "      <td>NaN</td>\n",
       "      <td>NaN</td>\n",
       "      <td>24.00</td>\n",
       "      <td>5.0</td>\n",
       "      <td>bronzer</td>\n",
       "    </tr>\n",
       "    <tr>\n",
       "      <th>490</th>\n",
       "      <td>cargo cosmetics</td>\n",
       "      <td>NaN</td>\n",
       "      <td>29.00</td>\n",
       "      <td>5.0</td>\n",
       "      <td>bronzer</td>\n",
       "    </tr>\n",
       "    <tr>\n",
       "      <th>496</th>\n",
       "      <td>dr. hauschka</td>\n",
       "      <td>NaN</td>\n",
       "      <td>45.00</td>\n",
       "      <td>4.6</td>\n",
       "      <td>bronzer</td>\n",
       "    </tr>\n",
       "    <tr>\n",
       "      <th>507</th>\n",
       "      <td>cargo cosmetics</td>\n",
       "      <td>NaN</td>\n",
       "      <td>36.00</td>\n",
       "      <td>5.0</td>\n",
       "      <td>bronzer</td>\n",
       "    </tr>\n",
       "  </tbody>\n",
       "</table>\n",
       "</div>"
      ],
      "text/plain": [
       "                  brand category  price  rating product_type\n",
       "486  physicians formula      NaN  20.99     4.7      bronzer\n",
       "489                 NaN      NaN  24.00     5.0      bronzer\n",
       "490     cargo cosmetics      NaN  29.00     5.0      bronzer\n",
       "496        dr. hauschka      NaN  45.00     4.6      bronzer\n",
       "507     cargo cosmetics      NaN  36.00     5.0      bronzer"
      ]
     },
     "execution_count": 95,
     "metadata": {},
     "output_type": "execute_result"
    }
   ],
   "source": [
    "df2[(df2['rating'] > 4.0) & (df2['price'] > 20)].head()"
   ]
  },
  {
   "cell_type": "markdown",
   "metadata": {},
   "source": [
    "Rating greater than 4.5 and price less than 10:"
   ]
  },
  {
   "cell_type": "code",
   "execution_count": 96,
   "metadata": {},
   "outputs": [
    {
     "data": {
      "text/html": [
       "<div>\n",
       "<style scoped>\n",
       "    .dataframe tbody tr th:only-of-type {\n",
       "        vertical-align: middle;\n",
       "    }\n",
       "\n",
       "    .dataframe tbody tr th {\n",
       "        vertical-align: top;\n",
       "    }\n",
       "\n",
       "    .dataframe thead th {\n",
       "        text-align: right;\n",
       "    }\n",
       "</style>\n",
       "<table border=\"1\" class=\"dataframe\">\n",
       "  <thead>\n",
       "    <tr style=\"text-align: right;\">\n",
       "      <th></th>\n",
       "      <th>brand</th>\n",
       "      <th>category</th>\n",
       "      <th>price</th>\n",
       "      <th>rating</th>\n",
       "      <th>product_type</th>\n",
       "    </tr>\n",
       "  </thead>\n",
       "  <tbody>\n",
       "    <tr>\n",
       "      <th>493</th>\n",
       "      <td>covergirl</td>\n",
       "      <td>NaN</td>\n",
       "      <td>8.99</td>\n",
       "      <td>5.0</td>\n",
       "      <td>bronzer</td>\n",
       "    </tr>\n",
       "    <tr>\n",
       "      <th>519</th>\n",
       "      <td>covergirl</td>\n",
       "      <td>powder</td>\n",
       "      <td>8.99</td>\n",
       "      <td>5.0</td>\n",
       "      <td>blush</td>\n",
       "    </tr>\n",
       "    <tr>\n",
       "      <th>522</th>\n",
       "      <td>covergirl</td>\n",
       "      <td>powder</td>\n",
       "      <td>6.99</td>\n",
       "      <td>5.0</td>\n",
       "      <td>blush</td>\n",
       "    </tr>\n",
       "    <tr>\n",
       "      <th>528</th>\n",
       "      <td>covergirl</td>\n",
       "      <td>powder</td>\n",
       "      <td>6.99</td>\n",
       "      <td>5.0</td>\n",
       "      <td>blush</td>\n",
       "    </tr>\n",
       "    <tr>\n",
       "      <th>536</th>\n",
       "      <td>e.l.f.</td>\n",
       "      <td>powder</td>\n",
       "      <td>9.99</td>\n",
       "      <td>4.7</td>\n",
       "      <td>blush</td>\n",
       "    </tr>\n",
       "  </tbody>\n",
       "</table>\n",
       "</div>"
      ],
      "text/plain": [
       "         brand category  price  rating product_type\n",
       "493  covergirl      NaN   8.99     5.0      bronzer\n",
       "519  covergirl   powder   8.99     5.0        blush\n",
       "522  covergirl   powder   6.99     5.0        blush\n",
       "528  covergirl   powder   6.99     5.0        blush\n",
       "536     e.l.f.   powder   9.99     4.7        blush"
      ]
     },
     "execution_count": 96,
     "metadata": {},
     "output_type": "execute_result"
    }
   ],
   "source": [
    "df2[(df2['rating'] > 4.5) & (df2['price'] < 10)].head()"
   ]
  },
  {
   "cell_type": "markdown",
   "metadata": {},
   "source": [
    "Observations where the rating between 1 and 3:"
   ]
  },
  {
   "cell_type": "code",
   "execution_count": 97,
   "metadata": {},
   "outputs": [
    {
     "data": {
      "text/html": [
       "<div>\n",
       "<style scoped>\n",
       "    .dataframe tbody tr th:only-of-type {\n",
       "        vertical-align: middle;\n",
       "    }\n",
       "\n",
       "    .dataframe tbody tr th {\n",
       "        vertical-align: top;\n",
       "    }\n",
       "\n",
       "    .dataframe thead th {\n",
       "        text-align: right;\n",
       "    }\n",
       "</style>\n",
       "<table border=\"1\" class=\"dataframe\">\n",
       "  <thead>\n",
       "    <tr style=\"text-align: right;\">\n",
       "      <th></th>\n",
       "      <th>brand</th>\n",
       "      <th>category</th>\n",
       "      <th>price</th>\n",
       "      <th>rating</th>\n",
       "      <th>product_type</th>\n",
       "    </tr>\n",
       "  </thead>\n",
       "  <tbody>\n",
       "    <tr>\n",
       "      <th>495</th>\n",
       "      <td>physicians formula</td>\n",
       "      <td>NaN</td>\n",
       "      <td>21.99</td>\n",
       "      <td>2.5</td>\n",
       "      <td>bronzer</td>\n",
       "    </tr>\n",
       "    <tr>\n",
       "      <th>511</th>\n",
       "      <td>sante</td>\n",
       "      <td>powder</td>\n",
       "      <td>23.49</td>\n",
       "      <td>3.0</td>\n",
       "      <td>blush</td>\n",
       "    </tr>\n",
       "    <tr>\n",
       "      <th>552</th>\n",
       "      <td>nyx</td>\n",
       "      <td>cream</td>\n",
       "      <td>9.99</td>\n",
       "      <td>2.0</td>\n",
       "      <td>blush</td>\n",
       "    </tr>\n",
       "    <tr>\n",
       "      <th>556</th>\n",
       "      <td>NaN</td>\n",
       "      <td>cream</td>\n",
       "      <td>15.00</td>\n",
       "      <td>2.3</td>\n",
       "      <td>blush</td>\n",
       "    </tr>\n",
       "    <tr>\n",
       "      <th>569</th>\n",
       "      <td>marcelle</td>\n",
       "      <td>NaN</td>\n",
       "      <td>10.99</td>\n",
       "      <td>3.0</td>\n",
       "      <td>lip_liner</td>\n",
       "    </tr>\n",
       "  </tbody>\n",
       "</table>\n",
       "</div>"
      ],
      "text/plain": [
       "                  brand category  price  rating product_type\n",
       "495  physicians formula      NaN  21.99     2.5      bronzer\n",
       "511               sante   powder  23.49     3.0        blush\n",
       "552                 nyx    cream   9.99     2.0        blush\n",
       "556                 NaN    cream  15.00     2.3        blush\n",
       "569            marcelle      NaN  10.99     3.0    lip_liner"
      ]
     },
     "execution_count": 97,
     "metadata": {},
     "output_type": "execute_result"
    }
   ],
   "source": [
    "df2[df2['rating'].between(1,3)].head()"
   ]
  },
  {
   "cell_type": "markdown",
   "metadata": {},
   "source": [
    "**Sorting by value:**"
   ]
  },
  {
   "cell_type": "code",
   "execution_count": 106,
   "metadata": {},
   "outputs": [
    {
     "data": {
      "text/html": [
       "<div>\n",
       "<style scoped>\n",
       "    .dataframe tbody tr th:only-of-type {\n",
       "        vertical-align: middle;\n",
       "    }\n",
       "\n",
       "    .dataframe tbody tr th {\n",
       "        vertical-align: top;\n",
       "    }\n",
       "\n",
       "    .dataframe thead th {\n",
       "        text-align: right;\n",
       "    }\n",
       "</style>\n",
       "<table border=\"1\" class=\"dataframe\">\n",
       "  <thead>\n",
       "    <tr style=\"text-align: right;\">\n",
       "      <th></th>\n",
       "      <th>brand</th>\n",
       "      <th>category</th>\n",
       "      <th>price</th>\n",
       "      <th>rating</th>\n",
       "      <th>product_type</th>\n",
       "    </tr>\n",
       "  </thead>\n",
       "  <tbody>\n",
       "    <tr>\n",
       "      <th>635</th>\n",
       "      <td>almay</td>\n",
       "      <td>liquid</td>\n",
       "      <td>17.29</td>\n",
       "      <td>4.5</td>\n",
       "      <td>foundation</td>\n",
       "    </tr>\n",
       "    <tr>\n",
       "      <th>886</th>\n",
       "      <td>almay</td>\n",
       "      <td>NaN</td>\n",
       "      <td>10.99</td>\n",
       "      <td>4.3</td>\n",
       "      <td>mascara</td>\n",
       "    </tr>\n",
       "    <tr>\n",
       "      <th>661</th>\n",
       "      <td>almay</td>\n",
       "      <td>NaN</td>\n",
       "      <td>10.99</td>\n",
       "      <td>4.5</td>\n",
       "      <td>eyeshadow</td>\n",
       "    </tr>\n",
       "    <tr>\n",
       "      <th>529</th>\n",
       "      <td>almay</td>\n",
       "      <td>powder</td>\n",
       "      <td>14.49</td>\n",
       "      <td>4.0</td>\n",
       "      <td>blush</td>\n",
       "    </tr>\n",
       "    <tr>\n",
       "      <th>649</th>\n",
       "      <td>almay</td>\n",
       "      <td>NaN</td>\n",
       "      <td>10.49</td>\n",
       "      <td>4.0</td>\n",
       "      <td>eyeshadow</td>\n",
       "    </tr>\n",
       "  </tbody>\n",
       "</table>\n",
       "</div>"
      ],
      "text/plain": [
       "     brand category  price  rating product_type\n",
       "635  almay   liquid  17.29     4.5   foundation\n",
       "886  almay      NaN  10.99     4.3      mascara\n",
       "661  almay      NaN  10.99     4.5    eyeshadow\n",
       "529  almay   powder  14.49     4.0        blush\n",
       "649  almay      NaN  10.49     4.0    eyeshadow"
      ]
     },
     "execution_count": 106,
     "metadata": {},
     "output_type": "execute_result"
    }
   ],
   "source": [
    "df2.sort_values(by='brand').head()"
   ]
  },
  {
   "cell_type": "code",
   "execution_count": 107,
   "metadata": {},
   "outputs": [
    {
     "data": {
      "text/html": [
       "<div>\n",
       "<style scoped>\n",
       "    .dataframe tbody tr th:only-of-type {\n",
       "        vertical-align: middle;\n",
       "    }\n",
       "\n",
       "    .dataframe tbody tr th {\n",
       "        vertical-align: top;\n",
       "    }\n",
       "\n",
       "    .dataframe thead th {\n",
       "        text-align: right;\n",
       "    }\n",
       "</style>\n",
       "<table border=\"1\" class=\"dataframe\">\n",
       "  <thead>\n",
       "    <tr style=\"text-align: right;\">\n",
       "      <th></th>\n",
       "      <th>brand</th>\n",
       "      <th>category</th>\n",
       "      <th>price</th>\n",
       "      <th>rating</th>\n",
       "      <th>product_type</th>\n",
       "    </tr>\n",
       "  </thead>\n",
       "  <tbody>\n",
       "    <tr>\n",
       "      <th>472</th>\n",
       "      <td>nyx</td>\n",
       "      <td>NaN</td>\n",
       "      <td>10.49</td>\n",
       "      <td>5.0</td>\n",
       "      <td>bronzer</td>\n",
       "    </tr>\n",
       "    <tr>\n",
       "      <th>750</th>\n",
       "      <td>marcelle</td>\n",
       "      <td>liquid</td>\n",
       "      <td>11.99</td>\n",
       "      <td>5.0</td>\n",
       "      <td>eyeliner</td>\n",
       "    </tr>\n",
       "    <tr>\n",
       "      <th>758</th>\n",
       "      <td>physicians formula</td>\n",
       "      <td>liquid</td>\n",
       "      <td>14.79</td>\n",
       "      <td>5.0</td>\n",
       "      <td>eyeliner</td>\n",
       "    </tr>\n",
       "    <tr>\n",
       "      <th>761</th>\n",
       "      <td>physicians formula</td>\n",
       "      <td>liquid</td>\n",
       "      <td>14.79</td>\n",
       "      <td>5.0</td>\n",
       "      <td>eyeliner</td>\n",
       "    </tr>\n",
       "    <tr>\n",
       "      <th>767</th>\n",
       "      <td>e.l.f.</td>\n",
       "      <td>liquid</td>\n",
       "      <td>3.99</td>\n",
       "      <td>5.0</td>\n",
       "      <td>eyeliner</td>\n",
       "    </tr>\n",
       "  </tbody>\n",
       "</table>\n",
       "</div>"
      ],
      "text/plain": [
       "                  brand category  price  rating product_type\n",
       "472                 nyx      NaN  10.49     5.0      bronzer\n",
       "750            marcelle   liquid  11.99     5.0     eyeliner\n",
       "758  physicians formula   liquid  14.79     5.0     eyeliner\n",
       "761  physicians formula   liquid  14.79     5.0     eyeliner\n",
       "767              e.l.f.   liquid   3.99     5.0     eyeliner"
      ]
     },
     "execution_count": 107,
     "metadata": {},
     "output_type": "execute_result"
    }
   ],
   "source": [
    "df2.sort_values(by='rating', ascending=False).head()"
   ]
  },
  {
   "cell_type": "markdown",
   "metadata": {},
   "source": [
    "#### Data Aggregation\n",
    "Number of observations in the column:"
   ]
  },
  {
   "cell_type": "code",
   "execution_count": 98,
   "metadata": {},
   "outputs": [
    {
     "data": {
      "text/plain": [
       "category\n",
       "bb_cc            9\n",
       "concealer       19\n",
       "contour          3\n",
       "cream           34\n",
       "gel              3\n",
       "highlighter      2\n",
       "lip_gloss       26\n",
       "lip_stain        4\n",
       "lipstick       122\n",
       "liquid         117\n",
       "mineral         11\n",
       "palette         27\n",
       "pencil          62\n",
       "powder          68\n",
       "dtype: int64"
      ]
     },
     "execution_count": 98,
     "metadata": {},
     "output_type": "execute_result"
    }
   ],
   "source": [
    "df2.groupby('category').size()"
   ]
  },
  {
   "cell_type": "markdown",
   "metadata": {},
   "source": [
    "**How many types of products offerr each brand?**"
   ]
  },
  {
   "cell_type": "code",
   "execution_count": 105,
   "metadata": {},
   "outputs": [
    {
     "data": {
      "text/html": [
       "<div>\n",
       "<style scoped>\n",
       "    .dataframe tbody tr th:only-of-type {\n",
       "        vertical-align: middle;\n",
       "    }\n",
       "\n",
       "    .dataframe tbody tr th {\n",
       "        vertical-align: top;\n",
       "    }\n",
       "\n",
       "    .dataframe thead th {\n",
       "        text-align: right;\n",
       "    }\n",
       "</style>\n",
       "<table border=\"1\" class=\"dataframe\">\n",
       "  <thead>\n",
       "    <tr style=\"text-align: right;\">\n",
       "      <th></th>\n",
       "      <th>product_type</th>\n",
       "    </tr>\n",
       "    <tr>\n",
       "      <th>brand</th>\n",
       "      <th></th>\n",
       "    </tr>\n",
       "  </thead>\n",
       "  <tbody>\n",
       "    <tr>\n",
       "      <th>nyx</th>\n",
       "      <td>164</td>\n",
       "    </tr>\n",
       "    <tr>\n",
       "      <th>clinique</th>\n",
       "      <td>93</td>\n",
       "    </tr>\n",
       "    <tr>\n",
       "      <th>dior</th>\n",
       "      <td>74</td>\n",
       "    </tr>\n",
       "    <tr>\n",
       "      <th>covergirl</th>\n",
       "      <td>54</td>\n",
       "    </tr>\n",
       "    <tr>\n",
       "      <th>maybelline</th>\n",
       "      <td>54</td>\n",
       "    </tr>\n",
       "    <tr>\n",
       "      <th>smashbox</th>\n",
       "      <td>46</td>\n",
       "    </tr>\n",
       "    <tr>\n",
       "      <th>l'oreal</th>\n",
       "      <td>46</td>\n",
       "    </tr>\n",
       "    <tr>\n",
       "      <th>physicians formula</th>\n",
       "      <td>43</td>\n",
       "    </tr>\n",
       "    <tr>\n",
       "      <th>benefit</th>\n",
       "      <td>41</td>\n",
       "    </tr>\n",
       "    <tr>\n",
       "      <th>revlon</th>\n",
       "      <td>29</td>\n",
       "    </tr>\n",
       "    <tr>\n",
       "      <th>e.l.f.</th>\n",
       "      <td>27</td>\n",
       "    </tr>\n",
       "    <tr>\n",
       "      <th>cargo cosmetics</th>\n",
       "      <td>20</td>\n",
       "    </tr>\n",
       "    <tr>\n",
       "      <th>pure anada</th>\n",
       "      <td>16</td>\n",
       "    </tr>\n",
       "    <tr>\n",
       "      <th>marcelle</th>\n",
       "      <td>15</td>\n",
       "    </tr>\n",
       "    <tr>\n",
       "      <th>almay</th>\n",
       "      <td>14</td>\n",
       "    </tr>\n",
       "    <tr>\n",
       "      <th>milani</th>\n",
       "      <td>13</td>\n",
       "    </tr>\n",
       "    <tr>\n",
       "      <th>pacifica</th>\n",
       "      <td>13</td>\n",
       "    </tr>\n",
       "    <tr>\n",
       "      <th>iman</th>\n",
       "      <td>13</td>\n",
       "    </tr>\n",
       "    <tr>\n",
       "      <th>dr. hauschka</th>\n",
       "      <td>12</td>\n",
       "    </tr>\n",
       "    <tr>\n",
       "      <th>wet n wild</th>\n",
       "      <td>12</td>\n",
       "    </tr>\n",
       "    <tr>\n",
       "      <th>annabelle</th>\n",
       "      <td>11</td>\n",
       "    </tr>\n",
       "    <tr>\n",
       "      <th>marienatie</th>\n",
       "      <td>9</td>\n",
       "    </tr>\n",
       "    <tr>\n",
       "      <th>mineral fusion</th>\n",
       "      <td>8</td>\n",
       "    </tr>\n",
       "    <tr>\n",
       "      <th>lotus cosmetics usa</th>\n",
       "      <td>7</td>\n",
       "    </tr>\n",
       "    <tr>\n",
       "      <th>rejuva minerals</th>\n",
       "      <td>6</td>\n",
       "    </tr>\n",
       "    <tr>\n",
       "      <th>sante</th>\n",
       "      <td>6</td>\n",
       "    </tr>\n",
       "    <tr>\n",
       "      <th>glossier</th>\n",
       "      <td>6</td>\n",
       "    </tr>\n",
       "    <tr>\n",
       "      <th>anna sui</th>\n",
       "      <td>6</td>\n",
       "    </tr>\n",
       "    <tr>\n",
       "      <th>suncoat</th>\n",
       "      <td>6</td>\n",
       "    </tr>\n",
       "    <tr>\n",
       "      <th>fenty</th>\n",
       "      <td>5</td>\n",
       "    </tr>\n",
       "    <tr>\n",
       "      <th>orly</th>\n",
       "      <td>4</td>\n",
       "    </tr>\n",
       "    <tr>\n",
       "      <th>c'est moi</th>\n",
       "      <td>4</td>\n",
       "    </tr>\n",
       "    <tr>\n",
       "      <th>stila</th>\n",
       "      <td>4</td>\n",
       "    </tr>\n",
       "    <tr>\n",
       "      <th>essie</th>\n",
       "      <td>4</td>\n",
       "    </tr>\n",
       "    <tr>\n",
       "      <th>colourpop</th>\n",
       "      <td>4</td>\n",
       "    </tr>\n",
       "    <tr>\n",
       "      <th>moov</th>\n",
       "      <td>3</td>\n",
       "    </tr>\n",
       "    <tr>\n",
       "      <th>deciem</th>\n",
       "      <td>2</td>\n",
       "    </tr>\n",
       "    <tr>\n",
       "      <th>butter london</th>\n",
       "      <td>2</td>\n",
       "    </tr>\n",
       "    <tr>\n",
       "      <th>zorah</th>\n",
       "      <td>2</td>\n",
       "    </tr>\n",
       "    <tr>\n",
       "      <th>burt's bees</th>\n",
       "      <td>2</td>\n",
       "    </tr>\n",
       "    <tr>\n",
       "      <th>sally b's skin yummies</th>\n",
       "      <td>2</td>\n",
       "    </tr>\n",
       "    <tr>\n",
       "      <th>zorah biocosmetiques</th>\n",
       "      <td>2</td>\n",
       "    </tr>\n",
       "    <tr>\n",
       "      <th>w3llpeople</th>\n",
       "      <td>1</td>\n",
       "    </tr>\n",
       "    <tr>\n",
       "      <th>sinful colours</th>\n",
       "      <td>1</td>\n",
       "    </tr>\n",
       "    <tr>\n",
       "      <th>salon perfect</th>\n",
       "      <td>1</td>\n",
       "    </tr>\n",
       "    <tr>\n",
       "      <th>dalish</th>\n",
       "      <td>1</td>\n",
       "    </tr>\n",
       "    <tr>\n",
       "      <th>boosh</th>\n",
       "      <td>1</td>\n",
       "    </tr>\n",
       "    <tr>\n",
       "      <th>piggy paint</th>\n",
       "      <td>1</td>\n",
       "    </tr>\n",
       "    <tr>\n",
       "      <th>penny lane organics</th>\n",
       "      <td>1</td>\n",
       "    </tr>\n",
       "    <tr>\n",
       "      <th>mistura</th>\n",
       "      <td>1</td>\n",
       "    </tr>\n",
       "    <tr>\n",
       "      <th>misa</th>\n",
       "      <td>1</td>\n",
       "    </tr>\n",
       "    <tr>\n",
       "      <th>alva</th>\n",
       "      <td>1</td>\n",
       "    </tr>\n",
       "    <tr>\n",
       "      <th>maia's mineral galaxy</th>\n",
       "      <td>1</td>\n",
       "    </tr>\n",
       "    <tr>\n",
       "      <th>china glaze</th>\n",
       "      <td>1</td>\n",
       "    </tr>\n",
       "    <tr>\n",
       "      <th>green people</th>\n",
       "      <td>1</td>\n",
       "    </tr>\n",
       "    <tr>\n",
       "      <th>coastal classic creation</th>\n",
       "      <td>1</td>\n",
       "    </tr>\n",
       "    <tr>\n",
       "      <th>nudus</th>\n",
       "      <td>1</td>\n",
       "    </tr>\n",
       "  </tbody>\n",
       "</table>\n",
       "</div>"
      ],
      "text/plain": [
       "                          product_type\n",
       "brand                                 \n",
       "nyx                                164\n",
       "clinique                            93\n",
       "dior                                74\n",
       "covergirl                           54\n",
       "maybelline                          54\n",
       "smashbox                            46\n",
       "l'oreal                             46\n",
       "physicians formula                  43\n",
       "benefit                             41\n",
       "revlon                              29\n",
       "e.l.f.                              27\n",
       "cargo cosmetics                     20\n",
       "pure anada                          16\n",
       "marcelle                            15\n",
       "almay                               14\n",
       "milani                              13\n",
       "pacifica                            13\n",
       "iman                                13\n",
       "dr. hauschka                        12\n",
       "wet n wild                          12\n",
       "annabelle                           11\n",
       "marienatie                           9\n",
       "mineral fusion                       8\n",
       "lotus cosmetics usa                  7\n",
       "rejuva minerals                      6\n",
       "sante                                6\n",
       "glossier                             6\n",
       "anna sui                             6\n",
       "suncoat                              6\n",
       "fenty                                5\n",
       "orly                                 4\n",
       "c'est moi                            4\n",
       "stila                                4\n",
       "essie                                4\n",
       "colourpop                            4\n",
       "moov                                 3\n",
       "deciem                               2\n",
       "butter london                        2\n",
       "zorah                                2\n",
       "burt's bees                          2\n",
       "sally b's skin yummies               2\n",
       "zorah biocosmetiques                 2\n",
       "w3llpeople                           1\n",
       "sinful colours                       1\n",
       "salon perfect                        1\n",
       "dalish                               1\n",
       "boosh                                1\n",
       "piggy paint                          1\n",
       "penny lane organics                  1\n",
       "mistura                              1\n",
       "misa                                 1\n",
       "alva                                 1\n",
       "maia's mineral galaxy                1\n",
       "china glaze                          1\n",
       "green people                         1\n",
       "coastal classic creation             1\n",
       "nudus                                1"
      ]
     },
     "execution_count": 105,
     "metadata": {},
     "output_type": "execute_result"
    }
   ],
   "source": [
    "df2.groupby('brand').count()[['product_type']].sort_values('product_type', ascending=False)"
   ]
  },
  {
   "cell_type": "markdown",
   "metadata": {},
   "source": [
    "The most products offer brand \"Nyx\" and \"Clinique\"."
   ]
  },
  {
   "cell_type": "markdown",
   "metadata": {},
   "source": [
    "**Product type by rating:**"
   ]
  },
  {
   "cell_type": "code",
   "execution_count": 32,
   "metadata": {},
   "outputs": [
    {
     "data": {
      "text/html": [
       "<div>\n",
       "<style scoped>\n",
       "    .dataframe tbody tr th:only-of-type {\n",
       "        vertical-align: middle;\n",
       "    }\n",
       "\n",
       "    .dataframe tbody tr th {\n",
       "        vertical-align: top;\n",
       "    }\n",
       "\n",
       "    .dataframe thead th {\n",
       "        text-align: right;\n",
       "    }\n",
       "</style>\n",
       "<table border=\"1\" class=\"dataframe\">\n",
       "  <thead>\n",
       "    <tr style=\"text-align: right;\">\n",
       "      <th></th>\n",
       "      <th>rating</th>\n",
       "    </tr>\n",
       "    <tr>\n",
       "      <th>product_type</th>\n",
       "      <th></th>\n",
       "    </tr>\n",
       "  </thead>\n",
       "  <tbody>\n",
       "    <tr>\n",
       "      <th>bronzer</th>\n",
       "      <td>4.608333</td>\n",
       "    </tr>\n",
       "    <tr>\n",
       "      <th>lipstick</th>\n",
       "      <td>4.435000</td>\n",
       "    </tr>\n",
       "    <tr>\n",
       "      <th>blush</th>\n",
       "      <td>4.419444</td>\n",
       "    </tr>\n",
       "    <tr>\n",
       "      <th>eyeshadow</th>\n",
       "      <td>4.392500</td>\n",
       "    </tr>\n",
       "    <tr>\n",
       "      <th>lip_liner</th>\n",
       "      <td>4.363636</td>\n",
       "    </tr>\n",
       "    <tr>\n",
       "      <th>mascara</th>\n",
       "      <td>4.281633</td>\n",
       "    </tr>\n",
       "    <tr>\n",
       "      <th>eyeliner</th>\n",
       "      <td>4.230189</td>\n",
       "    </tr>\n",
       "    <tr>\n",
       "      <th>foundation</th>\n",
       "      <td>4.218519</td>\n",
       "    </tr>\n",
       "    <tr>\n",
       "      <th>nail_polish</th>\n",
       "      <td>4.118182</td>\n",
       "    </tr>\n",
       "    <tr>\n",
       "      <th>eyebrow</th>\n",
       "      <td>NaN</td>\n",
       "    </tr>\n",
       "  </tbody>\n",
       "</table>\n",
       "</div>"
      ],
      "text/plain": [
       "                rating\n",
       "product_type          \n",
       "bronzer       4.608333\n",
       "lipstick      4.435000\n",
       "blush         4.419444\n",
       "eyeshadow     4.392500\n",
       "lip_liner     4.363636\n",
       "mascara       4.281633\n",
       "eyeliner      4.230189\n",
       "foundation    4.218519\n",
       "nail_polish   4.118182\n",
       "eyebrow            NaN"
      ]
     },
     "execution_count": 32,
     "metadata": {},
     "output_type": "execute_result"
    }
   ],
   "source": [
    "df2.groupby('product_type')[['rating']].mean().sort_values('rating', ascending=False)"
   ]
  },
  {
   "cell_type": "markdown",
   "metadata": {},
   "source": [
    "The best rated products are bronzer, lipstick and blush."
   ]
  },
  {
   "cell_type": "markdown",
   "metadata": {},
   "source": [
    "**Price value analysis**\n",
    "\n",
    "Max and mean price for each type of product:"
   ]
  },
  {
   "cell_type": "code",
   "execution_count": 99,
   "metadata": {},
   "outputs": [
    {
     "data": {
      "text/html": [
       "<div>\n",
       "<style scoped>\n",
       "    .dataframe tbody tr th:only-of-type {\n",
       "        vertical-align: middle;\n",
       "    }\n",
       "\n",
       "    .dataframe tbody tr th {\n",
       "        vertical-align: top;\n",
       "    }\n",
       "\n",
       "    .dataframe thead th {\n",
       "        text-align: right;\n",
       "    }\n",
       "</style>\n",
       "<table border=\"1\" class=\"dataframe\">\n",
       "  <thead>\n",
       "    <tr style=\"text-align: right;\">\n",
       "      <th></th>\n",
       "      <th>max</th>\n",
       "      <th>mean</th>\n",
       "    </tr>\n",
       "    <tr>\n",
       "      <th>product_type</th>\n",
       "      <th></th>\n",
       "      <th></th>\n",
       "    </tr>\n",
       "  </thead>\n",
       "  <tbody>\n",
       "    <tr>\n",
       "      <th>blush</th>\n",
       "      <td>51.00</td>\n",
       "      <td>17.155395</td>\n",
       "    </tr>\n",
       "    <tr>\n",
       "      <th>bronzer</th>\n",
       "      <td>75.00</td>\n",
       "      <td>22.738841</td>\n",
       "    </tr>\n",
       "    <tr>\n",
       "      <th>eyebrow</th>\n",
       "      <td>55.00</td>\n",
       "      <td>20.963542</td>\n",
       "    </tr>\n",
       "    <tr>\n",
       "      <th>eyeliner</th>\n",
       "      <td>36.00</td>\n",
       "      <td>12.624014</td>\n",
       "    </tr>\n",
       "    <tr>\n",
       "      <th>eyeshadow</th>\n",
       "      <td>65.00</td>\n",
       "      <td>17.978929</td>\n",
       "    </tr>\n",
       "    <tr>\n",
       "      <th>foundation</th>\n",
       "      <td>49.00</td>\n",
       "      <td>20.672407</td>\n",
       "    </tr>\n",
       "    <tr>\n",
       "      <th>lip_liner</th>\n",
       "      <td>20.49</td>\n",
       "      <td>9.859655</td>\n",
       "    </tr>\n",
       "    <tr>\n",
       "      <th>lipstick</th>\n",
       "      <td>77.00</td>\n",
       "      <td>14.517647</td>\n",
       "    </tr>\n",
       "    <tr>\n",
       "      <th>mascara</th>\n",
       "      <td>33.00</td>\n",
       "      <td>14.193596</td>\n",
       "    </tr>\n",
       "    <tr>\n",
       "      <th>nail_polish</th>\n",
       "      <td>22.49</td>\n",
       "      <td>12.901500</td>\n",
       "    </tr>\n",
       "  </tbody>\n",
       "</table>\n",
       "</div>"
      ],
      "text/plain": [
       "                max       mean\n",
       "product_type                  \n",
       "blush         51.00  17.155395\n",
       "bronzer       75.00  22.738841\n",
       "eyebrow       55.00  20.963542\n",
       "eyeliner      36.00  12.624014\n",
       "eyeshadow     65.00  17.978929\n",
       "foundation    49.00  20.672407\n",
       "lip_liner     20.49   9.859655\n",
       "lipstick      77.00  14.517647\n",
       "mascara       33.00  14.193596\n",
       "nail_polish   22.49  12.901500"
      ]
     },
     "execution_count": 99,
     "metadata": {},
     "output_type": "execute_result"
    }
   ],
   "source": [
    "df2.groupby('product_type')['price'].agg(['max', 'mean'])"
   ]
  },
  {
   "cell_type": "markdown",
   "metadata": {},
   "source": [
    "Max, mean price and rating for each type of product:"
   ]
  },
  {
   "cell_type": "code",
   "execution_count": 95,
   "metadata": {},
   "outputs": [
    {
     "data": {
      "text/html": [
       "<div>\n",
       "<style scoped>\n",
       "    .dataframe tbody tr th:only-of-type {\n",
       "        vertical-align: middle;\n",
       "    }\n",
       "\n",
       "    .dataframe tbody tr th {\n",
       "        vertical-align: top;\n",
       "    }\n",
       "\n",
       "    .dataframe thead tr th {\n",
       "        text-align: left;\n",
       "    }\n",
       "\n",
       "    .dataframe thead tr:last-of-type th {\n",
       "        text-align: right;\n",
       "    }\n",
       "</style>\n",
       "<table border=\"1\" class=\"dataframe\">\n",
       "  <thead>\n",
       "    <tr>\n",
       "      <th></th>\n",
       "      <th colspan=\"2\" halign=\"left\">price</th>\n",
       "      <th colspan=\"2\" halign=\"left\">rating</th>\n",
       "    </tr>\n",
       "    <tr>\n",
       "      <th></th>\n",
       "      <th>max</th>\n",
       "      <th>mean</th>\n",
       "      <th>max</th>\n",
       "      <th>mean</th>\n",
       "    </tr>\n",
       "    <tr>\n",
       "      <th>product_type</th>\n",
       "      <th></th>\n",
       "      <th></th>\n",
       "      <th></th>\n",
       "      <th></th>\n",
       "    </tr>\n",
       "  </thead>\n",
       "  <tbody>\n",
       "    <tr>\n",
       "      <th>blush</th>\n",
       "      <td>51.00</td>\n",
       "      <td>17.155395</td>\n",
       "      <td>5.0</td>\n",
       "      <td>4.419444</td>\n",
       "    </tr>\n",
       "    <tr>\n",
       "      <th>bronzer</th>\n",
       "      <td>75.00</td>\n",
       "      <td>22.738841</td>\n",
       "      <td>5.0</td>\n",
       "      <td>4.608333</td>\n",
       "    </tr>\n",
       "    <tr>\n",
       "      <th>eyebrow</th>\n",
       "      <td>55.00</td>\n",
       "      <td>20.963542</td>\n",
       "      <td>NaN</td>\n",
       "      <td>NaN</td>\n",
       "    </tr>\n",
       "    <tr>\n",
       "      <th>eyeliner</th>\n",
       "      <td>36.00</td>\n",
       "      <td>12.624014</td>\n",
       "      <td>5.0</td>\n",
       "      <td>4.230189</td>\n",
       "    </tr>\n",
       "    <tr>\n",
       "      <th>eyeshadow</th>\n",
       "      <td>65.00</td>\n",
       "      <td>17.978929</td>\n",
       "      <td>5.0</td>\n",
       "      <td>4.392500</td>\n",
       "    </tr>\n",
       "    <tr>\n",
       "      <th>foundation</th>\n",
       "      <td>49.00</td>\n",
       "      <td>20.672407</td>\n",
       "      <td>5.0</td>\n",
       "      <td>4.218519</td>\n",
       "    </tr>\n",
       "    <tr>\n",
       "      <th>lip_liner</th>\n",
       "      <td>20.49</td>\n",
       "      <td>9.859655</td>\n",
       "      <td>5.0</td>\n",
       "      <td>4.363636</td>\n",
       "    </tr>\n",
       "    <tr>\n",
       "      <th>lipstick</th>\n",
       "      <td>77.00</td>\n",
       "      <td>14.517647</td>\n",
       "      <td>5.0</td>\n",
       "      <td>4.435000</td>\n",
       "    </tr>\n",
       "    <tr>\n",
       "      <th>mascara</th>\n",
       "      <td>33.00</td>\n",
       "      <td>14.193596</td>\n",
       "      <td>5.0</td>\n",
       "      <td>4.281633</td>\n",
       "    </tr>\n",
       "    <tr>\n",
       "      <th>nail_polish</th>\n",
       "      <td>22.49</td>\n",
       "      <td>12.901500</td>\n",
       "      <td>5.0</td>\n",
       "      <td>4.118182</td>\n",
       "    </tr>\n",
       "  </tbody>\n",
       "</table>\n",
       "</div>"
      ],
      "text/plain": [
       "              price            rating          \n",
       "                max       mean    max      mean\n",
       "product_type                                   \n",
       "blush         51.00  17.155395    5.0  4.419444\n",
       "bronzer       75.00  22.738841    5.0  4.608333\n",
       "eyebrow       55.00  20.963542    NaN       NaN\n",
       "eyeliner      36.00  12.624014    5.0  4.230189\n",
       "eyeshadow     65.00  17.978929    5.0  4.392500\n",
       "foundation    49.00  20.672407    5.0  4.218519\n",
       "lip_liner     20.49   9.859655    5.0  4.363636\n",
       "lipstick      77.00  14.517647    5.0  4.435000\n",
       "mascara       33.00  14.193596    5.0  4.281633\n",
       "nail_polish   22.49  12.901500    5.0  4.118182"
      ]
     },
     "execution_count": 95,
     "metadata": {},
     "output_type": "execute_result"
    }
   ],
   "source": [
    "df2.groupby('product_type')['price', 'rating'].agg(['max', 'mean'])"
   ]
  },
  {
   "cell_type": "code",
   "execution_count": 103,
   "metadata": {},
   "outputs": [
    {
     "data": {
      "text/html": [
       "<div>\n",
       "<style scoped>\n",
       "    .dataframe tbody tr th:only-of-type {\n",
       "        vertical-align: middle;\n",
       "    }\n",
       "\n",
       "    .dataframe tbody tr th {\n",
       "        vertical-align: top;\n",
       "    }\n",
       "\n",
       "    .dataframe thead tr th {\n",
       "        text-align: left;\n",
       "    }\n",
       "\n",
       "    .dataframe thead tr:last-of-type th {\n",
       "        text-align: right;\n",
       "    }\n",
       "</style>\n",
       "<table border=\"1\" class=\"dataframe\">\n",
       "  <thead>\n",
       "    <tr>\n",
       "      <th></th>\n",
       "      <th colspan=\"3\" halign=\"left\">price</th>\n",
       "    </tr>\n",
       "    <tr>\n",
       "      <th></th>\n",
       "      <th>size</th>\n",
       "      <th>mean</th>\n",
       "      <th>max</th>\n",
       "    </tr>\n",
       "    <tr>\n",
       "      <th>product_type</th>\n",
       "      <th></th>\n",
       "      <th></th>\n",
       "      <th></th>\n",
       "    </tr>\n",
       "  </thead>\n",
       "  <tbody>\n",
       "    <tr>\n",
       "      <th>blush</th>\n",
       "      <td>78</td>\n",
       "      <td>17.155395</td>\n",
       "      <td>51.00</td>\n",
       "    </tr>\n",
       "    <tr>\n",
       "      <th>bronzer</th>\n",
       "      <td>69</td>\n",
       "      <td>22.738841</td>\n",
       "      <td>75.00</td>\n",
       "    </tr>\n",
       "    <tr>\n",
       "      <th>eyebrow</th>\n",
       "      <td>49</td>\n",
       "      <td>20.963542</td>\n",
       "      <td>55.00</td>\n",
       "    </tr>\n",
       "    <tr>\n",
       "      <th>eyeliner</th>\n",
       "      <td>148</td>\n",
       "      <td>12.624014</td>\n",
       "      <td>36.00</td>\n",
       "    </tr>\n",
       "    <tr>\n",
       "      <th>eyeshadow</th>\n",
       "      <td>86</td>\n",
       "      <td>17.978929</td>\n",
       "      <td>65.00</td>\n",
       "    </tr>\n",
       "    <tr>\n",
       "      <th>foundation</th>\n",
       "      <td>166</td>\n",
       "      <td>20.672407</td>\n",
       "      <td>49.00</td>\n",
       "    </tr>\n",
       "    <tr>\n",
       "      <th>lip_liner</th>\n",
       "      <td>29</td>\n",
       "      <td>9.859655</td>\n",
       "      <td>20.49</td>\n",
       "    </tr>\n",
       "    <tr>\n",
       "      <th>lipstick</th>\n",
       "      <td>154</td>\n",
       "      <td>14.517647</td>\n",
       "      <td>77.00</td>\n",
       "    </tr>\n",
       "    <tr>\n",
       "      <th>mascara</th>\n",
       "      <td>92</td>\n",
       "      <td>14.193596</td>\n",
       "      <td>33.00</td>\n",
       "    </tr>\n",
       "    <tr>\n",
       "      <th>nail_polish</th>\n",
       "      <td>60</td>\n",
       "      <td>12.901500</td>\n",
       "      <td>22.49</td>\n",
       "    </tr>\n",
       "  </tbody>\n",
       "</table>\n",
       "</div>"
      ],
      "text/plain": [
       "             price                  \n",
       "              size       mean    max\n",
       "product_type                        \n",
       "blush           78  17.155395  51.00\n",
       "bronzer         69  22.738841  75.00\n",
       "eyebrow         49  20.963542  55.00\n",
       "eyeliner       148  12.624014  36.00\n",
       "eyeshadow       86  17.978929  65.00\n",
       "foundation     166  20.672407  49.00\n",
       "lip_liner       29   9.859655  20.49\n",
       "lipstick       154  14.517647  77.00\n",
       "mascara         92  14.193596  33.00\n",
       "nail_polish     60  12.901500  22.49"
      ]
     },
     "execution_count": 103,
     "metadata": {},
     "output_type": "execute_result"
    }
   ],
   "source": [
    "df2.groupby('product_type').agg({'price': [np.size, np.mean, np.max ]})"
   ]
  },
  {
   "cell_type": "markdown",
   "metadata": {},
   "source": [
    "Average price of each product type:"
   ]
  },
  {
   "cell_type": "code",
   "execution_count": 109,
   "metadata": {},
   "outputs": [
    {
     "data": {
      "text/html": [
       "<div>\n",
       "<style scoped>\n",
       "    .dataframe tbody tr th:only-of-type {\n",
       "        vertical-align: middle;\n",
       "    }\n",
       "\n",
       "    .dataframe tbody tr th {\n",
       "        vertical-align: top;\n",
       "    }\n",
       "\n",
       "    .dataframe thead th {\n",
       "        text-align: right;\n",
       "    }\n",
       "</style>\n",
       "<table border=\"1\" class=\"dataframe\">\n",
       "  <thead>\n",
       "    <tr style=\"text-align: right;\">\n",
       "      <th></th>\n",
       "      <th>price</th>\n",
       "    </tr>\n",
       "    <tr>\n",
       "      <th>product_type</th>\n",
       "      <th></th>\n",
       "    </tr>\n",
       "  </thead>\n",
       "  <tbody>\n",
       "    <tr>\n",
       "      <th>bronzer</th>\n",
       "      <td>22.738841</td>\n",
       "    </tr>\n",
       "    <tr>\n",
       "      <th>eyebrow</th>\n",
       "      <td>20.963542</td>\n",
       "    </tr>\n",
       "    <tr>\n",
       "      <th>foundation</th>\n",
       "      <td>20.672407</td>\n",
       "    </tr>\n",
       "    <tr>\n",
       "      <th>eyeshadow</th>\n",
       "      <td>17.978929</td>\n",
       "    </tr>\n",
       "    <tr>\n",
       "      <th>blush</th>\n",
       "      <td>17.155395</td>\n",
       "    </tr>\n",
       "    <tr>\n",
       "      <th>lipstick</th>\n",
       "      <td>14.517647</td>\n",
       "    </tr>\n",
       "    <tr>\n",
       "      <th>mascara</th>\n",
       "      <td>14.193596</td>\n",
       "    </tr>\n",
       "    <tr>\n",
       "      <th>nail_polish</th>\n",
       "      <td>12.901500</td>\n",
       "    </tr>\n",
       "    <tr>\n",
       "      <th>eyeliner</th>\n",
       "      <td>12.624014</td>\n",
       "    </tr>\n",
       "    <tr>\n",
       "      <th>lip_liner</th>\n",
       "      <td>9.859655</td>\n",
       "    </tr>\n",
       "  </tbody>\n",
       "</table>\n",
       "</div>"
      ],
      "text/plain": [
       "                  price\n",
       "product_type           \n",
       "bronzer       22.738841\n",
       "eyebrow       20.963542\n",
       "foundation    20.672407\n",
       "eyeshadow     17.978929\n",
       "blush         17.155395\n",
       "lipstick      14.517647\n",
       "mascara       14.193596\n",
       "nail_polish   12.901500\n",
       "eyeliner      12.624014\n",
       "lip_liner      9.859655"
      ]
     },
     "execution_count": 109,
     "metadata": {},
     "output_type": "execute_result"
    }
   ],
   "source": [
    "avg_price = df2.groupby(['product_type'])[['price']].mean().sort_values('price', ascending=False)\n",
    "avg_price"
   ]
  },
  {
   "cell_type": "code",
   "execution_count": 120,
   "metadata": {},
   "outputs": [
    {
     "data": {
      "text/plain": [
       "<Figure size 384x288 with 0 Axes>"
      ]
     },
     "metadata": {},
     "output_type": "display_data"
    },
    {
     "data": {
      "image/png": "[encoded data removed]",
      "text/plain": [
       "<Figure size 600x400 with 1 Axes>"
      ]
     },
     "metadata": {},
     "output_type": "display_data"
    }
   ],
   "source": [
    "plt.figure(dpi=60)\n",
    "avg_price.plot(kind='bar', color='orange', figsize=(6,4))\n",
    "plt.xlabel('Product type', fontsize=10)\n",
    "plt.ylabel('Price', fontsize=10)\n",
    "plt.title('The average price of each product type')\n",
    "plt.show();"
   ]
  },
  {
   "cell_type": "markdown",
   "metadata": {},
   "source": [
    "In the figure one can see that average price of products are similar and largest average price have bronzer, eyebrow and foundation."
   ]
  },
  {
   "cell_type": "markdown",
   "metadata": {},
   "source": [
    "## Summary statistics\n",
    "\n",
    "Descriptive Statistics for numeric columns:"
   ]
  },
  {
   "cell_type": "code",
   "execution_count": 22,
   "metadata": {},
   "outputs": [
    {
     "data": {
      "text/html": [
       "<div>\n",
       "<style scoped>\n",
       "    .dataframe tbody tr th:only-of-type {\n",
       "        vertical-align: middle;\n",
       "    }\n",
       "\n",
       "    .dataframe tbody tr th {\n",
       "        vertical-align: top;\n",
       "    }\n",
       "\n",
       "    .dataframe thead th {\n",
       "        text-align: right;\n",
       "    }\n",
       "</style>\n",
       "<table border=\"1\" class=\"dataframe\">\n",
       "  <thead>\n",
       "    <tr style=\"text-align: right;\">\n",
       "      <th></th>\n",
       "      <th>rating</th>\n",
       "      <th>price</th>\n",
       "    </tr>\n",
       "  </thead>\n",
       "  <tbody>\n",
       "    <tr>\n",
       "      <th>0</th>\n",
       "      <td>NaN</td>\n",
       "      <td>5.0</td>\n",
       "    </tr>\n",
       "    <tr>\n",
       "      <th>1</th>\n",
       "      <td>NaN</td>\n",
       "      <td>5.5</td>\n",
       "    </tr>\n",
       "    <tr>\n",
       "      <th>2</th>\n",
       "      <td>NaN</td>\n",
       "      <td>5.5</td>\n",
       "    </tr>\n",
       "    <tr>\n",
       "      <th>3</th>\n",
       "      <td>NaN</td>\n",
       "      <td>12.0</td>\n",
       "    </tr>\n",
       "    <tr>\n",
       "      <th>4</th>\n",
       "      <td>NaN</td>\n",
       "      <td>26.0</td>\n",
       "    </tr>\n",
       "  </tbody>\n",
       "</table>\n",
       "</div>"
      ],
      "text/plain": [
       "   rating  price\n",
       "0     NaN    5.0\n",
       "1     NaN    5.5\n",
       "2     NaN    5.5\n",
       "3     NaN   12.0\n",
       "4     NaN   26.0"
      ]
     },
     "execution_count": 22,
     "metadata": {},
     "output_type": "execute_result"
    }
   ],
   "source": [
    "df3 = df2[['rating', 'price']]\n",
    "df3.head()"
   ]
  },
  {
   "cell_type": "code",
   "execution_count": 23,
   "metadata": {},
   "outputs": [
    {
     "data": {
      "text/html": [
       "<div>\n",
       "<style scoped>\n",
       "    .dataframe tbody tr th:only-of-type {\n",
       "        vertical-align: middle;\n",
       "    }\n",
       "\n",
       "    .dataframe tbody tr th {\n",
       "        vertical-align: top;\n",
       "    }\n",
       "\n",
       "    .dataframe thead th {\n",
       "        text-align: right;\n",
       "    }\n",
       "</style>\n",
       "<table border=\"1\" class=\"dataframe\">\n",
       "  <thead>\n",
       "    <tr style=\"text-align: right;\">\n",
       "      <th></th>\n",
       "      <th>rating</th>\n",
       "      <th>price</th>\n",
       "    </tr>\n",
       "  </thead>\n",
       "  <tbody>\n",
       "    <tr>\n",
       "      <th>count</th>\n",
       "      <td>340.000000</td>\n",
       "      <td>917.000000</td>\n",
       "    </tr>\n",
       "    <tr>\n",
       "      <th>mean</th>\n",
       "      <td>4.319118</td>\n",
       "      <td>16.508593</td>\n",
       "    </tr>\n",
       "    <tr>\n",
       "      <th>std</th>\n",
       "      <td>0.675849</td>\n",
       "      <td>11.028035</td>\n",
       "    </tr>\n",
       "    <tr>\n",
       "      <th>min</th>\n",
       "      <td>1.500000</td>\n",
       "      <td>0.000000</td>\n",
       "    </tr>\n",
       "    <tr>\n",
       "      <th>25%</th>\n",
       "      <td>4.000000</td>\n",
       "      <td>8.990000</td>\n",
       "    </tr>\n",
       "    <tr>\n",
       "      <th>50%</th>\n",
       "      <td>4.500000</td>\n",
       "      <td>13.990000</td>\n",
       "    </tr>\n",
       "    <tr>\n",
       "      <th>75%</th>\n",
       "      <td>5.000000</td>\n",
       "      <td>22.000000</td>\n",
       "    </tr>\n",
       "    <tr>\n",
       "      <th>max</th>\n",
       "      <td>5.000000</td>\n",
       "      <td>77.000000</td>\n",
       "    </tr>\n",
       "  </tbody>\n",
       "</table>\n",
       "</div>"
      ],
      "text/plain": [
       "           rating       price\n",
       "count  340.000000  917.000000\n",
       "mean     4.319118   16.508593\n",
       "std      0.675849   11.028035\n",
       "min      1.500000    0.000000\n",
       "25%      4.000000    8.990000\n",
       "50%      4.500000   13.990000\n",
       "75%      5.000000   22.000000\n",
       "max      5.000000   77.000000"
      ]
     },
     "execution_count": 23,
     "metadata": {},
     "output_type": "execute_result"
    }
   ],
   "source": [
    "df3.describe()"
   ]
  },
  {
   "cell_type": "code",
   "execution_count": 24,
   "metadata": {},
   "outputs": [
    {
     "name": "stdout",
     "output_type": "stream",
     "text": [
      "16.51\n"
     ]
    }
   ],
   "source": [
    "print(df3['price'].mean().round(2))"
   ]
  },
  {
   "cell_type": "code",
   "execution_count": 25,
   "metadata": {},
   "outputs": [
    {
     "name": "stdout",
     "output_type": "stream",
     "text": [
      "4.32\n"
     ]
    }
   ],
   "source": [
    "print(df3['rating'].mean().round(2))"
   ]
  },
  {
   "cell_type": "markdown",
   "metadata": {},
   "source": [
    "Mean price for each rating:"
   ]
  },
  {
   "cell_type": "code",
   "execution_count": 26,
   "metadata": {},
   "outputs": [
    {
     "data": {
      "text/html": [
       "<div>\n",
       "<style scoped>\n",
       "    .dataframe tbody tr th:only-of-type {\n",
       "        vertical-align: middle;\n",
       "    }\n",
       "\n",
       "    .dataframe tbody tr th {\n",
       "        vertical-align: top;\n",
       "    }\n",
       "\n",
       "    .dataframe thead th {\n",
       "        text-align: right;\n",
       "    }\n",
       "</style>\n",
       "<table border=\"1\" class=\"dataframe\">\n",
       "  <thead>\n",
       "    <tr style=\"text-align: right;\">\n",
       "      <th></th>\n",
       "      <th>price</th>\n",
       "    </tr>\n",
       "    <tr>\n",
       "      <th>rating</th>\n",
       "      <th></th>\n",
       "    </tr>\n",
       "  </thead>\n",
       "  <tbody>\n",
       "    <tr>\n",
       "      <th>2.6</th>\n",
       "      <td>56.490000</td>\n",
       "    </tr>\n",
       "    <tr>\n",
       "      <th>4.9</th>\n",
       "      <td>31.096000</td>\n",
       "    </tr>\n",
       "    <tr>\n",
       "      <th>3.6</th>\n",
       "      <td>28.000000</td>\n",
       "    </tr>\n",
       "    <tr>\n",
       "      <th>4.1</th>\n",
       "      <td>16.376667</td>\n",
       "    </tr>\n",
       "    <tr>\n",
       "      <th>4.8</th>\n",
       "      <td>16.197619</td>\n",
       "    </tr>\n",
       "    <tr>\n",
       "      <th>4.6</th>\n",
       "      <td>16.169231</td>\n",
       "    </tr>\n",
       "    <tr>\n",
       "      <th>3.4</th>\n",
       "      <td>15.872500</td>\n",
       "    </tr>\n",
       "    <tr>\n",
       "      <th>3.1</th>\n",
       "      <td>15.790000</td>\n",
       "    </tr>\n",
       "    <tr>\n",
       "      <th>3.2</th>\n",
       "      <td>15.790000</td>\n",
       "    </tr>\n",
       "    <tr>\n",
       "      <th>4.7</th>\n",
       "      <td>15.362353</td>\n",
       "    </tr>\n",
       "    <tr>\n",
       "      <th>3.8</th>\n",
       "      <td>15.257778</td>\n",
       "    </tr>\n",
       "    <tr>\n",
       "      <th>2.3</th>\n",
       "      <td>15.000000</td>\n",
       "    </tr>\n",
       "    <tr>\n",
       "      <th>5.0</th>\n",
       "      <td>14.031860</td>\n",
       "    </tr>\n",
       "    <tr>\n",
       "      <th>2.5</th>\n",
       "      <td>13.906667</td>\n",
       "    </tr>\n",
       "    <tr>\n",
       "      <th>4.0</th>\n",
       "      <td>13.905849</td>\n",
       "    </tr>\n",
       "    <tr>\n",
       "      <th>3.9</th>\n",
       "      <td>13.672000</td>\n",
       "    </tr>\n",
       "    <tr>\n",
       "      <th>3.0</th>\n",
       "      <td>13.603846</td>\n",
       "    </tr>\n",
       "    <tr>\n",
       "      <th>4.4</th>\n",
       "      <td>13.404667</td>\n",
       "    </tr>\n",
       "    <tr>\n",
       "      <th>2.0</th>\n",
       "      <td>12.990000</td>\n",
       "    </tr>\n",
       "    <tr>\n",
       "      <th>3.5</th>\n",
       "      <td>12.756667</td>\n",
       "    </tr>\n",
       "    <tr>\n",
       "      <th>4.3</th>\n",
       "      <td>12.101304</td>\n",
       "    </tr>\n",
       "    <tr>\n",
       "      <th>4.2</th>\n",
       "      <td>12.090833</td>\n",
       "    </tr>\n",
       "    <tr>\n",
       "      <th>4.5</th>\n",
       "      <td>11.694828</td>\n",
       "    </tr>\n",
       "    <tr>\n",
       "      <th>3.3</th>\n",
       "      <td>11.592000</td>\n",
       "    </tr>\n",
       "    <tr>\n",
       "      <th>1.5</th>\n",
       "      <td>10.000000</td>\n",
       "    </tr>\n",
       "    <tr>\n",
       "      <th>3.7</th>\n",
       "      <td>9.750000</td>\n",
       "    </tr>\n",
       "  </tbody>\n",
       "</table>\n",
       "</div>"
      ],
      "text/plain": [
       "            price\n",
       "rating           \n",
       "2.6     56.490000\n",
       "4.9     31.096000\n",
       "3.6     28.000000\n",
       "4.1     16.376667\n",
       "4.8     16.197619\n",
       "4.6     16.169231\n",
       "3.4     15.872500\n",
       "3.1     15.790000\n",
       "3.2     15.790000\n",
       "4.7     15.362353\n",
       "3.8     15.257778\n",
       "2.3     15.000000\n",
       "5.0     14.031860\n",
       "2.5     13.906667\n",
       "4.0     13.905849\n",
       "3.9     13.672000\n",
       "3.0     13.603846\n",
       "4.4     13.404667\n",
       "2.0     12.990000\n",
       "3.5     12.756667\n",
       "4.3     12.101304\n",
       "4.2     12.090833\n",
       "4.5     11.694828\n",
       "3.3     11.592000\n",
       "1.5     10.000000\n",
       "3.7      9.750000"
      ]
     },
     "execution_count": 26,
     "metadata": {},
     "output_type": "execute_result"
    }
   ],
   "source": [
    "df3.groupby(['rating'])[['price']].mean().sort_values('price', ascending=False)"
   ]
  },
  {
   "cell_type": "markdown",
   "metadata": {},
   "source": [
    "##### The mean price of selected products:"
   ]
  },
  {
   "cell_type": "code",
   "execution_count": 29,
   "metadata": {},
   "outputs": [
    {
     "data": {
      "text/plain": [
       "rating     4.082609\n",
       "price     11.138148\n",
       "dtype: float64"
      ]
     },
     "execution_count": 29,
     "metadata": {},
     "output_type": "execute_result"
    }
   ],
   "source": [
    "df3.loc[df2['brand'] == 'maybelline'].mean()"
   ]
  },
  {
   "cell_type": "code",
   "execution_count": 30,
   "metadata": {},
   "outputs": [
    {
     "data": {
      "text/plain": [
       "rating     4.464865\n",
       "price     14.444050\n",
       "dtype: float64"
      ]
     },
     "execution_count": 30,
     "metadata": {},
     "output_type": "execute_result"
    }
   ],
   "source": [
    "df3.loc[df2['category'] == 'lipstick'].mean()"
   ]
  },
  {
   "cell_type": "markdown",
   "metadata": {},
   "source": [
    "**Corelation:**"
   ]
  },
  {
   "cell_type": "code",
   "execution_count": 27,
   "metadata": {},
   "outputs": [
    {
     "data": {
      "text/html": [
       "<div>\n",
       "<style scoped>\n",
       "    .dataframe tbody tr th:only-of-type {\n",
       "        vertical-align: middle;\n",
       "    }\n",
       "\n",
       "    .dataframe tbody tr th {\n",
       "        vertical-align: top;\n",
       "    }\n",
       "\n",
       "    .dataframe thead th {\n",
       "        text-align: right;\n",
       "    }\n",
       "</style>\n",
       "<table border=\"1\" class=\"dataframe\">\n",
       "  <thead>\n",
       "    <tr style=\"text-align: right;\">\n",
       "      <th></th>\n",
       "      <th>rating</th>\n",
       "      <th>price</th>\n",
       "    </tr>\n",
       "  </thead>\n",
       "  <tbody>\n",
       "    <tr>\n",
       "      <th>rating</th>\n",
       "      <td>1.000000</td>\n",
       "      <td>0.018888</td>\n",
       "    </tr>\n",
       "    <tr>\n",
       "      <th>price</th>\n",
       "      <td>0.018888</td>\n",
       "      <td>1.000000</td>\n",
       "    </tr>\n",
       "  </tbody>\n",
       "</table>\n",
       "</div>"
      ],
      "text/plain": [
       "          rating     price\n",
       "rating  1.000000  0.018888\n",
       "price   0.018888  1.000000"
      ]
     },
     "execution_count": 27,
     "metadata": {},
     "output_type": "execute_result"
    }
   ],
   "source": [
    "corr = df3.corr()\n",
    "corr"
   ]
  },
  {
   "cell_type": "code",
   "execution_count": 28,
   "metadata": {},
   "outputs": [
    {
     "data": {
      "image/png": "[encoded data removed]",
      "text/plain": [
       "<Figure size 640x480 with 2 Axes>"
      ]
     },
     "metadata": {},
     "output_type": "display_data"
    }
   ],
   "source": [
    "ax=sns.heatmap(corr, annot=True, linewidth=0.5, cmap='RdBu_r', vmax=.8)\n",
    "ax.set_ylim(sorted(ax.get_xlim(), reverse=True))\n",
    "plt.show()"
   ]
  },
  {
   "cell_type": "markdown",
   "metadata": {},
   "source": [
    "In the above figure one can see that the variables are strongly correlated with themselves."
   ]
  },
  {
   "cell_type": "markdown",
   "metadata": {},
   "source": [
    "## Summary\n",
    "\n",
    "This project was aimed to exploratory data analysis of cosmetic products. I have analyzed and plots of individual variables. I also made an overview of variables and selecting specific data from columns. Data Aggregation let me to answer to a few questions. Finally I I calculated the basic statistics."
   ]
  },
  {
   "cell_type": "code",
   "execution_count": null,
   "metadata": {},
   "outputs": [],
   "source": []
  }
 ],
 "metadata": {
  "kernelspec": {
   "display_name": "Python 3 (ipykernel)",
   "language": "python",
   "name": "python3"
  },
  "language_info": {
   "codemirror_mode": {
    "name": "ipython",
    "version": 3
   },
   "file_extension": ".py",
   "mimetype": "text/x-python",
   "name": "python",
   "nbconvert_exporter": "python",
   "pygments_lexer": "ipython3",
   "version": "3.12.4"
  }
 },
 "nbformat": 4,
 "nbformat_minor": 4
}
